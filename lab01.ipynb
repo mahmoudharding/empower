{
 "cells": [
  {
   "cell_type": "markdown",
   "id": "44e81398-8ba7-453f-a0a8-d2b8a94eafff",
   "metadata": {},
   "source": [
    "# Lab 01\n",
    "\n",
    "## Introduction to Jupyter Notebooks\n",
    "\n",
    "In this assignment, you’ll be introduced to Jupyter Notebooks and learn how to navigate and use the notebook interface effectively.\n",
    "\n",
    "## Guidelines\n",
    "\n",
    "- Follow good programming practices by using descriptive variable names, maintaining appropriate spacing for readability, and adding comments to clarify your code.\n",
    "\n",
    "- Ensure written responses use correct spelling, complete sentences, and proper grammar.\n",
    "\n",
    "**Name:**\n",
    "\n",
    "**Section:**\n",
    "\n",
    "**Date:**\n",
    "\n",
    "Let's get started!"
   ]
  },
  {
   "cell_type": "markdown",
   "id": "f9dbb390-6aa0-454e-beda-6cdf4034437e",
   "metadata": {},
   "source": [
    "## What is a Jupyter Notebook?\n",
    "\n",
    "A Jupyter Notebook is an interactive coding environment that allows you to write and run code, display visualizations, and document your work with text, equations, and images, all in the same place. It's especially popular in data science because of its ability to combine code execution and explanation.\n",
    "\n",
    "### Edit Mode vs. Command Mode \n",
    "\n",
    "Jupyter Notebook has a modal user interface. This means that the keyboard does different things depending on which mode the Notebook is in. There are two modes: **\"Edit mode\"** and **\"Command mode\"**. \n",
    "\n",
    "Edit mode allows you to type and modify the content within a cell, similar to a text editor.\n",
    "\n",
    "Command mode lets you manage the notebook as a whole (e.g., adding, deleting, or moving cells), but it doesn't allow you to type directly into individual cells.\n",
    "\n",
    "### The Kernel\n",
    "\n",
    "The **kernel** is the program that runs the code inside your notebook and displays the results. In the top-right corner of your window, you'll see the name `[Python 3 (ipykernel)]` and a circle that indicates the status of your kernel. An empty circle (⚪) means the kernel is idle and ready to execute code, while a filled circle (⚫) means the kernel is busy running code.\n",
    "\n",
    "### Cells\n",
    "\n",
    "Jupyter Notebooks are made up of cells. As covered in lecture, there are two types of cells in a Jupyter Notebook: code cells and Markdown cells. \n",
    "\n",
    "- Code cells are where we write all of our Python code.\n",
    "\n",
    "- Markdown cells allow us to write text, like the text you're reading right now. In Homework 1, you'll get a chance to learn a bit of basic Markdown.\n",
    "\n",
    "#### Code cells\n",
    "\n",
    "Running a code cell executes all the code within it, and any output will appear directly below the cell. Notice the brackets `[ ]:` on the left side of the cells.\n",
    "\n",
    "Before running the cell, this will be empty (`[ ]`). While the cell is running, you'll see `[*]`, indicating that the code is still processing. If the asterisk (`*`) remains for too long, it may mean the code is taking longer than expected, and you might need to interrupt the kernel (explained below). Once the cell has finished running, a number will appear inside the brackets, such as `[1]`, representing the order in which cells have been executed. The first cell you run will display a `1`, the second will display a `2`, and so on.\n",
    "\n",
    "If your kernel becomes unresponsive, your notebook slows down significantly, or the kernel disconnects, you can try the following steps:\n",
    "\n",
    "1. At the top of your screen, click **Kernel**, then **Interrupt Kernel**. Trying running your code again.\n",
    "\n",
    "1. If that doesn't help, click **Kernel**, then **Restart Kernel**. If you do this, you will have to run your code cells from the start of your notebook up until where you paused your work.\n",
    "\n",
    "After you run a cell, the brackets will be populated with a number, indicating how many times you've executed code cells in this session, including the current one.\n",
    "\n",
    "To run the code in a code cell, first click on that cell to activate it.  It'll be highlighted with a little green or blue rectangle.  Next, hold down the `shift` key and press `return` or `enter`. You could also click the \"Run cell\" button ( ▶| ) in the cell toolbar above.\n",
    "\n",
    "**Note:** After you make changes to the text cell don't forget to click the \"Run cell\" button at the top that looks like ▶| or hold down `shift` + `return` to view the changes."
   ]
  },
  {
   "cell_type": "markdown",
   "id": "7d042af2-13e7-48b4-9b26-36648af0cb73",
   "metadata": {},
   "source": [
    "#### Errors\n",
    "\n",
    "Whenever you write code, you'll make mistakes.  When you run a code cell that has errors, Python will sometimes produce error messages to tell you what you did wrong. Errors are okay; even experienced programmers make many errors.  When you make an error, you just have to find the source of the problem, fix it, and move on.\n",
    "\n",
    "There is an error in the next cell. \n",
    "\n",
    "Run it and see what happens."
   ]
  },
  {
   "cell_type": "code",
   "execution_count": null,
   "id": "59b535ff-e20a-4042-af67-e3c5be81b490",
   "metadata": {},
   "outputs": [],
   "source": [
    "print(\"This line is missing something.\""
   ]
  },
  {
   "cell_type": "markdown",
   "id": "12b8624c-535d-4df0-ba23-5bce32836211",
   "metadata": {},
   "source": [
    "The error message you're seeing:\n",
    "\n",
    "```python\n",
    "  File \"<ipython-input-1>\", line 1\n",
    "    print(\"This line is missing something.\"\n",
    "                                           ^\n",
    "SyntaxError: incomplete input\n",
    "```\n",
    "\n",
    "##### Explanation\n",
    "\n",
    "1. This part indicates where the error occurred:\n",
    "\n",
    "   - `Cell In[1]` refers to the first cell of your notebook.\n",
    "   \n",
    "   - `line 1` refers to the first line within that cell.\n",
    "\n",
    "1. The caret (`^`) is pointing to the end of the line, indicating the exact spot where Python expects additional input, in this case, a closing parenthesis `)`.\n",
    "\n",
    "1. A `SyntaxError` means there is something wrong with the structure of your code, and Python cannot understand or execute it as written. \n",
    "\n",
    "1. The message \"incomplete input\" is telling you that Python reached the end of the code (or the end of the line) but didn't find what it expected to complete the `print()` function call. Here, the missing piece is the closing parenthesis `)`.\n",
    "\n",
    "To fix the error, you simply need to add the closing parenthesis to complete the function call:\n",
    "\n",
    "```python\n",
    "print(\"This line is missing something.\")\n",
    "```\n",
    "\n",
    "**Question 1.** Complete the input that resolves the syntax issue."
   ]
  },
  {
   "cell_type": "code",
   "execution_count": null,
   "id": "fbd1fc91-6f77-4dc1-b7a3-9c7edcc18162",
   "metadata": {
    "tags": []
   },
   "outputs": [],
   "source": [
    "print(\"This line is missing something.\""
   ]
  },
  {
   "cell_type": "markdown",
   "id": "9f9bc559-de03-4888-97b6-290231f89a20",
   "metadata": {},
   "source": [
    "### Markdown cells\n",
    "\n",
    "To edit an existing Markdown cell, simply double-click on it and make your changes. After editing, **\"run\"** the cell just like you would with a code cell to render the Markdown correctly.\n",
    "\n",
    "**Question 2.** Now, edit the following cell to include your two favorite colors."
   ]
  },
  {
   "cell_type": "markdown",
   "id": "a57d15b7-18d4-4b6a-a917-b41a0c5ec5ee",
   "metadata": {},
   "source": [
    "_TYPE YOUR ANSWER HERE REPLACING THIS TEXT_"
   ]
  },
  {
   "cell_type": "markdown",
   "id": "af9e8b94-a96f-4bed-ab8a-f081916efdbf",
   "metadata": {},
   "source": [
    "**Question 3.** Create an ordered list of steps for conducting the [Data Investigation Process](https://iase-pub.org/ojs/SERJ/article/view/41/457). Your list should include these steps: Frame the Problem, Consider & Gather Data, Process Data, Explore & Visualize Data, Consider Models, and Communicate & Propose Action. \n",
    "\n",
    "**Note:** Although the [Data Investigation Process](https://iase-pub.org/ojs/SERJ/article/view/41/457) isn’t strictly linear, we’ll number the steps from one to six in this exercise to practice formatting text using Markdown.\n",
    "\n",
    "**Hint:** Click [here](https://www.markdownguide.org/basic-syntax/#ordered-lists) to learn what an ordered list is and how to create one in Markdown."
   ]
  },
  {
   "cell_type": "markdown",
   "id": "3679686d-c56d-409b-8a62-9faefa62a3dc",
   "metadata": {},
   "source": [
    "_TYPE YOUR ANSWER HERE REPLACING THIS TEXT_"
   ]
  },
  {
   "cell_type": "markdown",
   "id": "bffc978a-cb6f-4c71-a5ec-0e84207cf549",
   "metadata": {},
   "source": [
    "**Note:** Make sure to review your response to the previous question to ensure it is properly formatted."
   ]
  },
  {
   "cell_type": "markdown",
   "id": "20ad6c31-57f8-400f-a736-f14c94f7211b",
   "metadata": {},
   "source": [
    "### Converting Cells\n",
    "\n",
    "To convert a cell from Markdown to code (or vice versa), you should use the dropdown in the menu bar. For instance, to convert the following cell from Markdown to code, you should:\n",
    "\n",
    "1. Click the cell.\n",
    "1. Click \"Markdown\" in the menu bar, and change it to \"Code.\"\n",
    "\n",
    "Your menu bar should then look like this:\n",
    "\n",
    "<img src=\"images/menu.png\" alt=\"Menu\" width=\"400\">\n",
    "\n",
    "**Question 4.** Change the following cell from a Markdown cell to a code cell and run the cell. You should get 6 as an output."
   ]
  },
  {
   "cell_type": "markdown",
   "id": "194a6ffc-5e83-4d10-8c5c-921a57a9c113",
   "metadata": {},
   "source": [
    "# Change this to a code cell\n",
    "1 + 2 + 3 "
   ]
  },
  {
   "cell_type": "markdown",
   "id": "a687548b-d1bb-4dfb-b7d4-e6402b6e5f74",
   "metadata": {},
   "source": [
    "You can also delete cells by clicking the scissors ✄ button in the menu bar, or pressing 🗑️ on the highlighted cell. \n",
    "\n",
    "**Be Careful:** There's no undo button when you delete a cell, so use this command wisely\n",
    "\n",
    "**Question 5.** Delete the cell below this one."
   ]
  },
  {
   "cell_type": "code",
   "execution_count": null,
   "id": "8a43c7e0-a694-460d-97b5-6b4d5181611f",
   "metadata": {
    "tags": []
   },
   "outputs": [],
   "source": [
    "# This cell should be deleted!"
   ]
  },
  {
   "cell_type": "markdown",
   "id": "9738262b-60f3-4812-8afb-e2fa8be2fbab",
   "metadata": {},
   "source": [
    "### Numbers\n",
    "\n",
    "Quantitative information arises everywhere in data science. In addition to representing commands to print out lines, expressions can represent numbers and methods of combining numbers. The expression 3.2500 evaluates to the number 3.25. \n",
    "\n",
    "Run the cell and see."
   ]
  },
  {
   "cell_type": "code",
   "execution_count": null,
   "id": "d0972095-5f25-45ab-9841-3e8185b9732e",
   "metadata": {
    "tags": []
   },
   "outputs": [],
   "source": [
    "3.2500"
   ]
  },
  {
   "cell_type": "markdown",
   "id": "5a8e953f-5d62-43e7-b890-ca6915f1a25f",
   "metadata": {},
   "source": [
    "Notice that we didn't have to print. When you run a notebook cell, if the last line has a value, then Jupyter helpfully prints out that value for you. However, it won't print out prior lines automatically."
   ]
  },
  {
   "cell_type": "code",
   "execution_count": null,
   "id": "562284ae-c33d-4f6f-95ca-ddb1b408fe1e",
   "metadata": {
    "tags": []
   },
   "outputs": [],
   "source": [
    "print(2)\n",
    "3\n",
    "4"
   ]
  },
  {
   "cell_type": "markdown",
   "id": "a64d05ae-8c21-40ea-8eae-667ba494a5e0",
   "metadata": {},
   "source": [
    "Above, you should see that 4 is the value of the last expression, 2 is printed, but 3 is lost forever because it was neither printed nor last.\n",
    "\n",
    "You don't want to print everything all the time anyway. But if you feel sorry for 3, change the cell above to print it."
   ]
  },
  {
   "cell_type": "markdown",
   "id": "4f2c4122-9aff-47ec-829b-081d2fe89f6c",
   "metadata": {},
   "source": [
    "### Arithmetic\n",
    "\n",
    "Many basic arithmetic operations are built into Python. The table below describes all the arithmetic operators used in the course. \n",
    "\n",
    "| Expression Type  | Operator | Example     | Value    |\n",
    "|------------------|----------|-------------|----------|\n",
    "| Addition         | `+`      | `2 + 3`     | `5`      |\n",
    "| Subtraction      | `-`      | `2 - 3`     | `-1`     |\n",
    "| Multiplication   | `*`      | `2 * 3`     | `6`      |\n",
    "| Division         | `/`      | `7 / 3`     | `2.66667`|\n",
    "| Remainder        | `%`      | `7 % 3`     | `1`      |\n",
    "| Exponentiation   | `**`     | `2 ** 0.5`  | `1.41421`|\n",
    "\n",
    "\n",
    "The common operator that differs from typical math notation is **, which raises one number to the power of the other. So, 2**3 stands for \n",
    " and evaluates to 8.\n",
    "\n",
    "The order of operations is the same as what you learned in elementary school, and Python also has parentheses. For example, compare the outputs of the cells below. The second cell uses parentheses for a happy new year.9+6*5-6*3**2*2**3/4*7"
   ]
  },
  {
   "cell_type": "code",
   "execution_count": null,
   "id": "6397cb72-f2f8-42da-be4c-4d85818815c4",
   "metadata": {
    "tags": []
   },
   "outputs": [],
   "source": [
    "9 + 6 * 5 - 6 * 3**2 * 2**3 / 4 * 7"
   ]
  },
  {
   "cell_type": "code",
   "execution_count": null,
   "id": "e4c78d4e-6b6b-47f1-a75a-be2c734c1da0",
   "metadata": {
    "tags": []
   },
   "outputs": [],
   "source": [
    "9 + (6 * 5 - (6 * 3))**2 * ((2**3) / 4 * 7)"
   ]
  },
  {
   "cell_type": "markdown",
   "id": "0f42c959-6754-4658-951f-1535b469b4d8",
   "metadata": {},
   "source": [
    "In standard math notation, the first expression is,\n",
    "\n",
    "$$9 + 6 \\times 5 - 6 \\times 3^2 \\times \\frac{2^3}{4} \\times 7,$$\n",
    "\n",
    "while the second expression is,\n",
    "\n",
    "$$9 + (6 \\times 5 - (6 \\times 3))^2 \\times \\left(\\frac{2^3}{4} \\times 7\\right).$$"
   ]
  },
  {
   "cell_type": "markdown",
   "id": "0d0d4865-80de-4732-934d-568468e454fe",
   "metadata": {},
   "source": [
    "**Question 6.** Write a Python expression in this next cell that's equal to $\\displaystyle 5 \\times \\left(3 \\frac{10}{11}\\right) - 50 \\frac{1}{3} + 2^{0.5 \\times 22} - \\frac{7}{33} + 8$.  \n",
    "\n",
    "That's five times three and ten elevenths, minus fifty and a third, plus two to the power of half twenty-two, minus seven thirty-thirds plus seven.\n",
    "\n",
    "Replace the ellipses (`...`) with your expression.  Try to use parentheses only when necessary.\n",
    "\n",
    "\n",
    "**Note:** By \"$\\displaystyle 3 \\frac{10}{11}$\\\", we mean $\\displaystyle 3+\\frac{10}{11}$, not $\\displaystyle 3 \\times \\frac{10}{11}$.\n",
    "\n",
    "**Hint:** **Note:** Be sure to test your code to ensure it runs without syntax errors and produces a meaningful result that makes sense in the context of the question. The correct output should start with a familiar number."
   ]
  },
  {
   "cell_type": "code",
   "execution_count": null,
   "id": "a5c987aa-f4c7-4489-83bd-89b074840faa",
   "metadata": {},
   "outputs": [],
   "source": [
    "..."
   ]
  },
  {
   "cell_type": "markdown",
   "id": "adf78fcd-b932-444f-a8e3-5a08b13961b3",
   "metadata": {},
   "source": [
    "### Names\n",
    "\n",
    "In natural language, we have terminology that lets us quickly reference very complicated concepts.  We don't say, \"That's a large mammal with brown fur and sharp teeth!\"  Instead, we just say, \"Bear!\"\n",
    "\n",
    "In Python, we do this with *assignment statements*. An assignment statement has a name on the left side of an `=` sign and an expression to be evaluated on the right."
   ]
  },
  {
   "cell_type": "code",
   "execution_count": null,
   "id": "92525106-58ed-40fb-8c49-f23afef79112",
   "metadata": {
    "tags": []
   },
   "outputs": [],
   "source": [
    "ten = 3 * 2 + 4"
   ]
  },
  {
   "cell_type": "markdown",
   "id": "528e4245-c74c-491b-b235-5f334154f715",
   "metadata": {},
   "source": [
    "When you run that cell, Python first computes the value of the expression on the right-hand side, `3 * 2 + 4`, which is the number 10.  Then it assigns that value to the name `ten`.  At that point, the code in the cell is done running.\n",
    "\n",
    "After you run that cell, the value 10 is bound to the name `ten`:"
   ]
  },
  {
   "cell_type": "code",
   "execution_count": null,
   "id": "36c23703-656a-4e63-ab12-35a73be32100",
   "metadata": {
    "tags": []
   },
   "outputs": [],
   "source": [
    "ten"
   ]
  },
  {
   "cell_type": "markdown",
   "id": "0208fdff-1e62-4997-8e15-409a4d9ac9de",
   "metadata": {},
   "source": [
    "The statement `ten = 3 * 2 + 4` is not asserting that `ten` is already equal to `3 * 2 + 4`, as we might expect by analogy with math notation.  Rather, that line of code changes what `ten` means; it now refers to the value 10, whereas before it meant nothing at all.\n",
    "\n",
    "If the designers of Python had been ruthlessly pedantic, they might have made us write\n",
    "\n",
    "```\n",
    "define the name ten to hereafter have the value of 3 * 2 + 4 \n",
    "```\n",
    "instead.  You will probably appreciate the brevity of \"`=`\"!  But keep in mind that this is the real meaning.\n",
    "\n",
    "Run the following cell which uses a variable name `eleven` that hasn't been assigned to anything. \n",
    "\n",
    "You'll see an error."
   ]
  },
  {
   "cell_type": "code",
   "execution_count": null,
   "id": "60bd04b3-875a-49f2-a122-ed9b6c4a1b7a",
   "metadata": {},
   "outputs": [],
   "source": [
    "eleven"
   ]
  },
  {
   "cell_type": "markdown",
   "id": "bf0e4c0b-89b9-4d79-97ea-bfbb17fdd3f9",
   "metadata": {},
   "source": [
    "**Question 7.** Create a variable called `eleven` and assign it an expression that evaluates to 11. Your expression must include all five arithmetic operators: `+`, `-`, `*`, `/`, and `**`."
   ]
  },
  {
   "cell_type": "code",
   "execution_count": null,
   "id": "943ff3ec-9008-4b42-9f67-796fc2fcc754",
   "metadata": {},
   "outputs": [],
   "source": [
    "..."
   ]
  },
  {
   "cell_type": "markdown",
   "id": "c654f688-bfb3-4a60-8013-b5f45bd5344e",
   "metadata": {},
   "source": [
    "A common pattern in Jupyter notebooks is to assign a value to a name and then immediately evaluate the name in the last line in the cell so that the value is displayed as output. "
   ]
  },
  {
   "cell_type": "code",
   "execution_count": null,
   "id": "1a8f1c54-d8d0-4472-8931-4178373fd19b",
   "metadata": {},
   "outputs": [],
   "source": [
    "close_to_pi = 355 / 113\n",
    "close_to_pi"
   ]
  },
  {
   "cell_type": "markdown",
   "id": "b55d92d3-4317-4d88-9c83-f8bedffda10c",
   "metadata": {},
   "source": [
    "Another common pattern is that a series of lines in a single cell will build up a complex computation in stages, naming the intermediate results."
   ]
  },
  {
   "cell_type": "code",
   "execution_count": null,
   "id": "552ec172-fad3-4fcc-b589-aafc0b34ed95",
   "metadata": {},
   "outputs": [],
   "source": [
    "semimonthly_salary = 843 + 3/4 # 843.75\n",
    "monthly_salary = 2 * semimonthly_salary\n",
    "number_of_months_in_a_year = 12\n",
    "yearly_salary = number_of_months_in_a_year * monthly_salary\n",
    "yearly_salary"
   ]
  },
  {
   "cell_type": "markdown",
   "id": "d5a5e07c-39fb-4d2d-918a-09bac8eb015b",
   "metadata": {},
   "source": [
    "Names in Python can have letters (upper- and lower-case letters are both okay and count as different letters), underscores, and numbers.  The first character can't be a number (otherwise a name might look like a number).  And names can't contain spaces, since spaces are used to separate pieces of code from each other.\n",
    "\n",
    "Other than those rules, what you name something doesn't matter **to Python**.  For example, this cell does the same thing as the above cell, except everything has a different name:"
   ]
  },
  {
   "cell_type": "code",
   "execution_count": null,
   "id": "bc73ab67-8f9b-4025-9f07-55af000ea06e",
   "metadata": {},
   "outputs": [],
   "source": [
    "a = 842.5\n",
    "b = 2 * a\n",
    "c = 12\n",
    "d = c * b\n",
    "d"
   ]
  },
  {
   "cell_type": "markdown",
   "id": "d08f3e48-87f7-4fb0-a749-e83ddafc6af8",
   "metadata": {},
   "source": [
    "**However**, names are very important for making your code *readable* to yourself and others.  The cell above is shorter, but it's totally useless without an explanation of what it does."
   ]
  },
  {
   "cell_type": "markdown",
   "id": "250f8ecd-ccbe-4182-a28a-140b4ae28ceb",
   "metadata": {},
   "source": [
    "### Comments\n",
    "\n",
    "You may have noticed these lines in the cell in which you answered Question 3.2:\n",
    "\n",
    "    # Change the next line \n",
    "    # so that it computes the number of seconds in a decade \n",
    "    # and assigns that number the name, seconds_in_a_decade.\n",
    "    \n",
    "This is called a *comment*. It doesn't make anything happen in Python; Python ignores anything on a line after a `#`.  Instead, it's there to communicate something about the code to you, the human reader. Comments are extremely useful. "
   ]
  },
  {
   "cell_type": "markdown",
   "id": "764200ac-8ed1-49ba-9ce3-f4181788c10b",
   "metadata": {},
   "source": [
    "### Calling Functions\n",
    "\n",
    "The most common way to combine or manipulate values in Python is by calling functions. Python comes with many built-in functions that perform common operations.\n",
    "\n",
    "For example, the `abs` function takes a single number as its argument and returns the absolute value of that number. Run the next two cells and see if you understand the output."
   ]
  },
  {
   "cell_type": "code",
   "execution_count": null,
   "id": "24ac9386-e5a0-41bf-a27e-1ba4cc4fc35b",
   "metadata": {
    "tags": []
   },
   "outputs": [],
   "source": [
    "abs(5)"
   ]
  },
  {
   "cell_type": "code",
   "execution_count": null,
   "id": "4a4bf13a-8944-4f54-8195-077f0c2355f8",
   "metadata": {
    "tags": []
   },
   "outputs": [],
   "source": [
    "abs(-5)"
   ]
  },
  {
   "cell_type": "markdown",
   "id": "e590953e-c458-4ba7-84ad-d803e562ede3",
   "metadata": {},
   "source": [
    "#### Application: Computing Walking Distances\n",
    "\n",
    "Loujane is on the corner of 7th Avenue and 42nd Street in Midtown Manhattan, and she wants to know far she'd have to walk to get to Gramercy School on the corner of 10th Avenue and 34th Street.\n",
    "\n",
    "She can't cut across blocks diagonally, since there are buildings in the way.  She has to walk along the sidewalks.  Using the map below, she sees she'd have to walk 3 avenues (long blocks) and 8 streets (short blocks).  In terms of the given numbers, she computed 3 as the difference between 7 and 10, *in absolute value*, and 8 similarly.  \n",
    "\n",
    "Loujane also knows that blocks in Manhattan are all about 80m by 274m (avenues are farther apart than streets).  So in total, she'd have to walk $(80 \\times |42 - 34| + 274 \\times |7 - 10|)$ meters to get to the park.\n",
    "\n",
    "<img src=\"images/map.jpg\"/>\n",
    "\n",
    "**Question 8.** Fill in the line `num_avenues_away = ...` in the next cell so that the cell calculates the distance Loujane must walk and gives it the name `manhattan_distance`.  Everything else has been filled in for you.  **Use the `abs` function.** \n",
    "\n",
    "**Note:** Be sure to test your code to ensure it runs without syntax errors and produces a meaningful result that makes sense in the context of the question."
   ]
  },
  {
   "cell_type": "code",
   "execution_count": null,
   "id": "5ddfdfc7-e467-4642-b729-9c505a362ba5",
   "metadata": {},
   "outputs": [],
   "source": [
    "# The number of streets away\n",
    "num_streets_away = abs(42 - 34)\n",
    "\n",
    "# Compute the number of avenues away\n",
    "num_avenues_away = ...\n",
    "\n",
    "street_length_m = 80\n",
    "avenue_length_m = 274\n",
    "\n",
    "# Compute the total distance Loujane must walk\n",
    "manhattan_distance = street_length_m*num_streets_away + avenue_length_m * num_avenues_away\n",
    "\n",
    "# Display the distance that was computed \n",
    "manhattan_distance"
   ]
  },
  {
   "cell_type": "markdown",
   "id": "9ef182d2-8dd9-451b-ba98-b5def78e75fa",
   "metadata": {},
   "source": [
    "### Nested Expressions\n",
    "\n",
    "Function calls and arithmetic expressions can themselves contain expressions. You saw an example in the last question:\n",
    "\n",
    "`abs(42 - 34)`\n",
    "\n",
    "has 2 number expressions in a subtraction expression in a function call expression. And you probably wrote something like `abs(7 - 10)` to compute `num_avenues_away`.\n",
    "\n",
    "Nested expressions can turn into complicated-looking code. However, the way in which complicated expressions break down is very regular.\n",
    "\n",
    "Suppose we are interested in lengths of cats that are very unusual. We'll say that a length is unusual to the extent that it's far away on the number line from the average cat length. An estimate of the average cat length (averaging, we hope, over all cats on Earth today) is **18.2** inches.\n",
    "\n",
    "So if Ravioli is 21.7 inches long, then her length is \n",
    "`|21.7 - 18.2|`, or \n",
    "**3.5**, inches away from the average. Here's a picture of that:\n",
    "\n",
    "<img src=\"images/lengths.png\">\n",
    "\n",
    "The source for average cat length is [Wikipedia](https://en.wikipedia.org/wiki/Cat#:~:text=The%20domestic%20cat%20has%20a,(9%20and%2011%20lb).). The listed lengths for cats are not real and may not be plausible (but the names are of real cats!)\n",
    "\n",
    "And here's how we'd write that expression in one line of Python code:"
   ]
  },
  {
   "cell_type": "code",
   "execution_count": null,
   "id": "e863b039-87a8-41fe-9689-492c56ce4c4d",
   "metadata": {},
   "outputs": [],
   "source": [
    "abs(21.7 - 18.2)"
   ]
  },
  {
   "cell_type": "markdown",
   "id": "cf6f1118-6c1b-499c-8d58-954b46ecd40b",
   "metadata": {},
   "source": [
    "What's going on here?  `abs` takes just one argument, so the stuff inside the parentheses is all part of that **single argument**.  Specifically, the argument is the value of the expression `21.7 - 18.2`.  The value of that expression is `3.5`.  That value is the argument to `abs`.  The absolute value of that is `3.5`, so `3.5` is the value of the full expression `abs(21.7 - 18.2)`.\n",
    "\n",
    "Picture simplifying the expression in several steps:\n",
    "\n",
    "1. `abs(21.7 - 18.2)`\n",
    "2. `abs(3.5)`\n",
    "3. `3.5`\n",
    "\n",
    "In fact, that's basically what Python does to compute the value of the expression."
   ]
  },
  {
   "cell_type": "markdown",
   "id": "26e1908e-335c-4998-9991-7950c4f8cd2b",
   "metadata": {},
   "source": [
    "**Question 9.** Say that Genghis's length is 16.7 inches.  In the next cell, use `abs` to compute the absolute value of the difference between Genghis's length and the average cat length.  Give that value the name `genghis_distance_from_average_in`."
   ]
  },
  {
   "cell_type": "code",
   "execution_count": null,
   "id": "b6a2d8ba-cc8b-437d-ae30-875d95749a21",
   "metadata": {},
   "outputs": [],
   "source": [
    "# Replace the ... with an expression \n",
    "# to compute the absolute value \n",
    "# of the difference between Genghis's length (16.7 in) and the average cat length.\n",
    "genghis_distance_from_average_in = ...\n",
    "\n",
    "# Again, we've written this here \n",
    "# so that the distance you compute will get printed \n",
    "# when you run this cell.\n",
    "genghis_distance_from_average_in"
   ]
  },
  {
   "cell_type": "markdown",
   "id": "be5b91e9-1911-4ea3-b81e-9556d3407129",
   "metadata": {},
   "source": [
    "#### More Nesting\n",
    "\n",
    "Now say that we want to compute the more unusual of the two cat lengths.  We'll use the function `max`, which (again) takes two numbers as arguments and returns the larger of the two arguments.  Combining that with the `abs` function, we can compute the larger distance from average among the two length.\n",
    "\n",
    "Just read the run the cell below."
   ]
  },
  {
   "cell_type": "code",
   "execution_count": 1,
   "id": "376e3708-a115-429c-8f97-5f8a78286682",
   "metadata": {},
   "outputs": [
    {
     "name": "stdout",
     "output_type": "stream",
     "text": [
      "The larger distance from the average length among these two cats is 3.5 inches.\n"
     ]
    }
   ],
   "source": [
    "cat1_length_in = 21.7\n",
    "cat2_length_in = 16.7\n",
    "average_cat_length = 18.2\n",
    "\n",
    "# The larger distance from the average cat length, among the two length:\n",
    "larger_distance_in = max(abs(cat1_length_in - average_cat_length), abs(cat2_length_in - average_cat_length))\n",
    "\n",
    "# Print out our results in a nice readable format:\n",
    "print(\"The larger distance from the average length among these two cats is\", larger_distance_in, \"inches.\")"
   ]
  },
  {
   "cell_type": "markdown",
   "id": "036e83e6-20cd-438e-b53f-c6632e37afbc",
   "metadata": {},
   "source": [
    "The line where `larger_distance_in` is computed looks complicated, but we can break it down into simpler components just like we did before.\n",
    "\n",
    "The basic recipe is to repeatedly simplify small parts of the expression:\n",
    "\n",
    "* **Basic expressions:** Start with expressions whose values we know, like names or numbers.\n",
    "\n",
    "    Examples: `cat2_length_in` or `16.7`\n",
    "\n",
    "* **Find the next simplest group of expressions:** Look for basic expressions that are directly connected to each other. This can be by arithmetic or as arguments to a function call. \n",
    "    \n",
    "    Example: `cat2_length_in - average_cat_length`.\n",
    "\n",
    "* **Evaluate that group:** Evaluate the arithmetic expression or function call. Use the value computed to replace the group of expressions.  \n",
    "\n",
    "    Example: `cat2_length_in - average_cat_length` becomes `-1.3`.\n",
    "\n",
    "* **Repeat:** Continue this process, using the value of the previously-evaluated expression as a new basic expression. Stop when we've evaluated the entire expression.\n",
    "\n",
    "    Example: `abs(-1.3)` becomes `1.3`, and `max(3.5, 1.3)` becomes `3.5`.\n",
    "\n",
    "You can run the next cell to see a slideshow of that process."
   ]
  },
  {
   "cell_type": "code",
   "execution_count": null,
   "id": "00401b99-4440-44af-a528-a7c2060a0996",
   "metadata": {
    "tags": []
   },
   "outputs": [],
   "source": [
    "from IPython.display import IFrame\n",
    "IFrame('https://docs.google.com/presentation/d/14EKhQjGe0bUpLwKGo6BrPCtjsORSkY8h4BzAqvXoLTM/embed?start=false&loop=false&delayms=3000', 800, 600)"
   ]
  },
  {
   "cell_type": "markdown",
   "id": "764d088f-fb86-4e0c-b0ee-50783759431a",
   "metadata": {},
   "source": [
    "**Question 10.** Given the lengths of Ayyash's cats Hummus, Pita, and Lentil, write an expression that computes the smallest difference between any of the three lengths. Your expression shouldn't have any numbers in it, only function calls and the names `hummus`, `pita`, and `lentil`. Give the value of your expression the name `min_length_difference`.\n"
   ]
  },
  {
   "cell_type": "code",
   "execution_count": null,
   "id": "3a1dd01f-24e8-4212-a3a8-39672219dca8",
   "metadata": {
    "tags": []
   },
   "outputs": [],
   "source": [
    "# The three cats' lengths, in inches:\n",
    "hummus =  24.5 # Hummus is 24.5 inches long\n",
    "pita = 19.7 # Gatkes is 19.7 inches long\n",
    "lentil = 15.8 # Zeepty is 15.8 inches long\n",
    "             \n",
    "# We'd like to look at all 3 pairs of lengths, \n",
    "# compute the absolute difference between each pair, \n",
    "# and then find the smallest of those 3 absolute differences.  \n",
    "\n",
    "# This is left to you.\n",
    "# If you're stuck, try computing the value for each step of the process \n",
    "# (like the difference between Hummus's length and Pita's length) \n",
    "# on a separate line and giving it a name (like hummus_pita_length_diff)\n",
    "min_length_difference = ..."
   ]
  },
  {
   "cell_type": "markdown",
   "id": "f7f2fb35-e43c-4d11-9320-804fe1cb76d9",
   "metadata": {},
   "source": [
    "## Submission\n",
    "\n",
    "Make sure that all cells in your assignment have been executed to display all output, images, and graphs in the final document.\n",
    "\n",
    "**Note:** Save the assignment before proceeding to download the file.\n",
    "\n",
    "After downloading, locate the `.ipynb` file and upload **only** this file to Moodle. The assignment will be automatically submitted to Gradescope for grading."
   ]
  }
 ],
 "metadata": {
  "kernelspec": {
   "display_name": "Python 3 (ipykernel)",
   "language": "python",
   "name": "python3"
  },
  "language_info": {
   "codemirror_mode": {
    "name": "ipython",
    "version": 3
   },
   "file_extension": ".py",
   "mimetype": "text/x-python",
   "name": "python",
   "nbconvert_exporter": "python",
   "pygments_lexer": "ipython3",
   "version": "3.10.11"
  }
 },
 "nbformat": 4,
 "nbformat_minor": 5
}
