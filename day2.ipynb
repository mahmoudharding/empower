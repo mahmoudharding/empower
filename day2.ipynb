{
 "cells": [
  {
   "cell_type": "markdown",
   "id": "93c8239d-60f2-491c-b2ba-0102eb4cf846",
   "metadata": {},
   "source": [
    "# Day 2"
   ]
  },
  {
   "cell_type": "markdown",
   "id": "ca15a7f3-bc98-4562-867b-bdb7277baf18",
   "metadata": {},
   "source": [
    "## 8:30 am – 10:00 am: Day 1 Review"
   ]
  },
  {
   "cell_type": "markdown",
   "id": "c5e7d4a4-fc29-4f03-b70b-e02bf165f7cb",
   "metadata": {},
   "source": [
    "**Example 1.** Basic Python"
   ]
  },
  {
   "cell_type": "markdown",
   "id": "5afc245f-19b2-4ca6-bdbd-cfd520adbe05",
   "metadata": {},
   "source": [
    "**Example 2.** For Loops"
   ]
  },
  {
   "cell_type": "markdown",
   "id": "4f6193da-cbc6-4237-95ed-8c72b2d31f51",
   "metadata": {},
   "source": [
    "**Example 3.** Importing Packages and Libraries"
   ]
  },
  {
   "cell_type": "markdown",
   "id": "fb0a439d-0c32-4e64-b9e5-8c623acb6fb9",
   "metadata": {},
   "source": [
    "**Example 4.** Table Operations"
   ]
  },
  {
   "cell_type": "markdown",
   "id": "ce8b34f2-e692-44d4-beaf-d455a9e22a33",
   "metadata": {
    "tags": []
   },
   "source": [
    "## 10:15 am – 11:45 am: Data Moves (Sumarizing & Filtering)\n",
    "\n",
    "### Summarize (Numerical)\n",
    "\n",
    "We can summarize numerical data using statistics like the mean and median. To calculate these summaries from table columns, we can use `np.mean()`, a function from the NumPy library, or `.mean()`, a method available on NumPy arrays returned by the `.column()` method."
   ]
  },
  {
   "cell_type": "markdown",
   "id": "6807b1db-987e-40af-9e33-7a0671e59392",
   "metadata": {},
   "source": [
    "### Summarize (Categorical)\n",
    "\n",
    "We can also generate summary statistics from columns that contain categorical data, such as counting how often each category label appears."
   ]
  },
  {
   "cell_type": "markdown",
   "id": "4ebfb530-7aa3-443b-9adf-c927bd143a50",
   "metadata": {},
   "source": [
    "**Example 5.** Summarizing with categorical variables"
   ]
  },
  {
   "cell_type": "markdown",
   "id": "058d1cc7-b4a9-417e-8d05-a61e08de3150",
   "metadata": {},
   "source": [
    "### Summarize (Visualization)\n",
    "\n",
    "Visualizations are also useful for summarizing both numerical and categorical data. A histogram displays the distribution of a single numerical variable, while a bar chart is ideal for summarizing categorical variables.\n",
    "\n",
    "These visual tools help us understand the frequency and pattern of values across different categories or ranges."
   ]
  },
  {
   "cell_type": "markdown",
   "id": "03f08138-a5a9-4f34-86a6-92441e4d16c9",
   "metadata": {},
   "source": [
    "**Example 6.** Summarizing with visualizations"
   ]
  },
  {
   "cell_type": "markdown",
   "id": "93dc2eba-5b21-46c5-b1f4-0f4829360b3c",
   "metadata": {},
   "source": [
    "### Filter (Numerical)\n",
    "\n",
    "The filter data move allows us to narrow down a dataset by selecting only the rows that meet certain conditions. When filtering based on numerical features, we use comparisons (such as greater than, less than, or equal to) to isolate specific ranges or values of interest. This helps us focus on a subset of data that meets meaningful criteria. For example, selecting only colleges with an average debt greater than $20,000 or an admit rate below 50%. Filtering enables more targeted analysis and can reveal patterns or trends that may be hidden in the full dataset."
   ]
  },
  {
   "cell_type": "markdown",
   "id": "d6a7a713-92f9-4d94-8e11-5e1f56c62d48",
   "metadata": {},
   "source": [
    "**Example 7.** Filtering numerically and categorically"
   ]
  },
  {
   "cell_type": "markdown",
   "id": "b958e15e-36e2-43b0-9792-e8f33624ecc2",
   "metadata": {},
   "source": [
    "## 1:15 pm – 2:45 pm: Data Moves (Calculating & Grouping)\n",
    "\n",
    "### Calculate (Categorical)\n",
    "\n",
    "The calculate data move can also be used to create new categorical features. This involves generating a new column based on existing data by applying rules or conditions that assign category labels. For example, you might classify numerical values into categories like *\"High\"*, *\"Medium\"*, or *\"Low\"*, or create flags such as *\"Pass\"* or *\"Fail\"* based on a threshold. These calculated categories help organize the data in ways that make patterns easier to see and analyze."
   ]
  },
  {
   "cell_type": "markdown",
   "id": "2ade75cf-e7fd-43db-ad45-6df5682eec95",
   "metadata": {},
   "source": [
    "**Example 8.** Calculating categorical variables"
   ]
  },
  {
   "cell_type": "markdown",
   "id": "604eba7a-4405-4f9c-8916-14fa64831fca",
   "metadata": {},
   "source": [
    "### Calculate (Numerical)\n",
    "\n",
    "The calculate data move involves generating new columns or features based on operations performed on existing ones. This might include computing ratios, percentages, differences, or other derived values that help reveal patterns in the data."
   ]
  },
  {
   "cell_type": "markdown",
   "id": "d1e4a2e0-d1c3-440a-b23c-79612026ce7c",
   "metadata": {},
   "source": [
    "**Example 9.** Calculating numerical variables"
   ]
  },
  {
   "cell_type": "markdown",
   "id": "8fcbc655-a18c-4ef9-b809-37157a1adac9",
   "metadata": {},
   "source": [
    "### Grouping\n",
    "\n",
    "The grouping data move is used to summarize data by combining rows that share a common value in one or more columns. This involves grouping the data based on a categorical variable like location or demographic, and then computing counts or summary statistics for each group. For example, you might group a dataset by _\"School\"_ to count the number of students in each. Grouping helps reveal patterns across categories, compare subgroups, and simplify large datasets for further analysis."
   ]
  },
  {
   "cell_type": "markdown",
   "id": "44fe4d69-c56e-4321-a3a0-0c6e621a55f6",
   "metadata": {},
   "source": [
    "**Example 10.** Grouping"
   ]
  },
  {
   "cell_type": "markdown",
   "id": "4ab97ca4-f0a4-4f8f-95a3-3f7572ae8f06",
   "metadata": {},
   "source": [
    "## 3:00 pm – 4:30 pm: Data Moves (Joining & Merging)\n",
    "\n",
    "### Merging\n",
    "\n",
    "The merging data move can also refer to combining multiple tables with the same columns by stacking them on top of each other. In this case, merging means putting all the rows from one table below the rows of another to form a single, longer table."
   ]
  },
  {
   "cell_type": "markdown",
   "id": "fd69815a-88c5-4e04-809d-2fdf6a6d73ee",
   "metadata": {},
   "source": [
    "**Example 11.** Mergiing datasets"
   ]
  },
  {
   "cell_type": "markdown",
   "id": "cd39b59f-3884-42a7-81e3-f1d5ec655adf",
   "metadata": {},
   "source": [
    "### Joining\n",
    "\n",
    "The joining data move is a type of merge where you combine two tables using a shared column, known as a key. Instead of stacking rows, joining adds new columns from one table to another by matching rows that have the same value in the key column. This allows you to bring in additional information and enrich your data."
   ]
  },
  {
   "cell_type": "markdown",
   "id": "7433773e-37e6-444c-9147-8bf519faea27",
   "metadata": {},
   "source": [
    "**Example 12.** Joining datasets"
   ]
  }
 ],
 "metadata": {
  "kernelspec": {
   "display_name": "Python 3 (ipykernel)",
   "language": "python",
   "name": "python3"
  },
  "language_info": {
   "codemirror_mode": {
    "name": "ipython",
    "version": 3
   },
   "file_extension": ".py",
   "mimetype": "text/x-python",
   "name": "python",
   "nbconvert_exporter": "python",
   "pygments_lexer": "ipython3",
   "version": "3.10.11"
  }
 },
 "nbformat": 4,
 "nbformat_minor": 5
}
