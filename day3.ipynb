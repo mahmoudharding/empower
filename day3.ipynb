{
 "cells": [
  {
   "cell_type": "markdown",
   "id": "93c8239d-60f2-491c-b2ba-0102eb4cf846",
   "metadata": {},
   "source": [
    "# Day 3"
   ]
  },
  {
   "cell_type": "markdown",
   "id": "ca15a7f3-bc98-4562-867b-bdb7277baf18",
   "metadata": {},
   "source": [
    "## 8:30 am – 10:00 am: Day 2 Review"
   ]
  },
  {
   "cell_type": "markdown",
   "id": "c5e7d4a4-fc29-4f03-b70b-e02bf165f7cb",
   "metadata": {},
   "source": [
    "**Example 1.** Summarzing"
   ]
  },
  {
   "cell_type": "markdown",
   "id": "5afc245f-19b2-4ca6-bdbd-cfd520adbe05",
   "metadata": {},
   "source": [
    "**Example 2.** Filtering"
   ]
  },
  {
   "cell_type": "markdown",
   "id": "4f6193da-cbc6-4237-95ed-8c72b2d31f51",
   "metadata": {},
   "source": [
    "**Example 3.** Calculating"
   ]
  },
  {
   "cell_type": "markdown",
   "id": "fb0a439d-0c32-4e64-b9e5-8c623acb6fb9",
   "metadata": {},
   "source": [
    "**Example 4.** Grouping"
   ]
  },
  {
   "cell_type": "markdown",
   "id": "ce8b34f2-e692-44d4-beaf-d455a9e22a33",
   "metadata": {
    "tags": []
   },
   "source": [
    "## 10:15 am – 11:45 am: Prediction and Inference"
   ]
  },
  {
   "cell_type": "markdown",
   "id": "a0f8cd62-d6f0-4fb3-b265-fb475ffa8680",
   "metadata": {},
   "source": [
    "**Example 5.** Simulation"
   ]
  },
  {
   "cell_type": "markdown",
   "id": "6efbe0d7-2d48-4327-89fe-531744e78cb8",
   "metadata": {},
   "source": [
    "**Example 6.** Bootstrapping"
   ]
  },
  {
   "cell_type": "markdown",
   "id": "4ab97ca4-f0a4-4f8f-95a3-3f7572ae8f06",
   "metadata": {},
   "source": [
    "## 1:45 pm – 4:30 pm: Design Your Own Lesson"
   ]
  }
 ],
 "metadata": {
  "kernelspec": {
   "display_name": "Python 3 (ipykernel)",
   "language": "python",
   "name": "python3"
  },
  "language_info": {
   "codemirror_mode": {
    "name": "ipython",
    "version": 3
   },
   "file_extension": ".py",
   "mimetype": "text/x-python",
   "name": "python",
   "nbconvert_exporter": "python",
   "pygments_lexer": "ipython3",
   "version": "3.10.11"
  }
 },
 "nbformat": 4,
 "nbformat_minor": 5
}
