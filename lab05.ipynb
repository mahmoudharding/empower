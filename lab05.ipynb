{
 "cells": [
  {
   "cell_type": "markdown",
   "id": "85a8792d-e167-4f1f-a60c-c20a2cf21f3f",
   "metadata": {},
   "source": [
    "# Lab 05\n",
    "\n",
    "## Introduction to Data Moves (Calculating and Grouping)\n",
    "\n",
    "In this assignment, you’ll be introduced to the concept of *data moves* using functions from the `datascience` package. You’ll learn how to perform calculations on both numerical and categorical data, and how to group data for summary and comparison.\n",
    "\n",
    "## Guidelines\n",
    "\n",
    "- Follow good programming practices by using descriptive variable names, maintaining appropriate spacing for readability, and adding comments to clarify your code.\n",
    "\n",
    "- Ensure written responses use correct spelling, complete sentences, and proper grammar.\n",
    "\n",
    "**Name:**\n",
    "\n",
    "**Section:**\n",
    "\n",
    "**Date:**\n",
    "\n",
    "Let's get started!"
   ]
  },
  {
   "cell_type": "markdown",
   "id": "0e390b31-e75e-471f-8f7e-42a524217b44",
   "metadata": {},
   "source": [
    "### More About the Datascience Package\n",
    "\n",
    "The `datascience` package is a beginner-friendly Python library developed at UC Berkeley to support its introductory data science course, **Data 8**. It simplifies working with data by providing an easy-to-use `Table` structure, making it accessible to students with little or no programming experience.\n",
    "\n",
    "The `Table` class functions like a spreadsheet. You can create tables from scratch or load them from CSV files using `Table.read_table()`. Once loaded, tables support a range of operations for analyzing and transforming data.\n",
    "\n",
    "#### Common `Table` Operations\n",
    "\n",
    "| Operation        | Method                          | Description                                       |\n",
    "| ---------------- | ------------------------------- | ------------------------------------------------- |\n",
    "| Show data        | `table.show(n)`                 | Display first `n` rows                            |\n",
    "| Select columns   | `table.select('col1', ...)`     | Create new table with selected columns            |\n",
    "| Drop columns     | `table.drop('col1', ...)`       | Remove specified columns                          |\n",
    "| Filter rows      | `table.where('col', condition)` | Keep only rows that match a condition             |\n",
    "| Sort data        | `table.sort('col')`             | Sort rows by a column                             |\n",
    "| Group by values  | `table.group('col')`            | Group rows and count values                       |\n",
    "| Aggregate values | `table.group('col', func)`      | Group and apply custom function (e.g., `np.mean`) |\n",
    "| Join tables      | `table1.join('key', table2)`    | Merge tables based on a common column             |\n",
    "\n",
    "The package also includes simple charting functions like `.scatter()`, `.barh()`, and `.hist()` that are built on Matplotlib and allow students to visualize data with minimal code.\n",
    "\n",
    "Underneath the hood, the `datascience` package is built on top of NumPy and Matplotlib which provide numerical computation and plotting capabilities. \n",
    "\n",
    "In summary, `datascience` is a great starting point for exploring real data, performing analysis, and creating visualizations with clear and beginner-friendly Python code."
   ]
  },
  {
   "cell_type": "markdown",
   "id": "2605e3fa-d581-40b2-9149-97569ecd0175",
   "metadata": {},
   "source": [
    "**Question 1.** Import the `datascience` package. "
   ]
  },
  {
   "cell_type": "code",
   "execution_count": null,
   "id": "89d123f9-5658-4355-9f99-227fea6cfd9c",
   "metadata": {},
   "outputs": [],
   "source": [
    "..."
   ]
  },
  {
   "cell_type": "markdown",
   "id": "6d84d225-3717-43d7-a222-a36d02ca2910",
   "metadata": {},
   "source": [
    "**Question 2.** Load the `ceo_compensation_summary.csv` file into a table named `ceo_pay`."
   ]
  },
  {
   "cell_type": "code",
   "execution_count": null,
   "id": "1282c446-7d1e-4c2f-a192-49b8727d89dc",
   "metadata": {
    "tags": []
   },
   "outputs": [],
   "source": [
    "ceo_pay = Table.read_table('data/ceo_compensation_summary.csv')"
   ]
  },
  {
   "cell_type": "markdown",
   "id": "e8e3411d-dc72-4900-962a-531c56554d78",
   "metadata": {},
   "source": [
    "**Question 3.** Print the number of rows, number of columns, and all column labels from the `colleges` table."
   ]
  },
  {
   "cell_type": "code",
   "execution_count": null,
   "id": "d1073abc-1126-4fe2-8b76-b4b00f6725d2",
   "metadata": {},
   "outputs": [],
   "source": [
    "..."
   ]
  },
  {
   "cell_type": "markdown",
   "id": "4c310514-108f-462b-948d-3e51f7a58d33",
   "metadata": {},
   "source": [
    "### Calculate (Numerical)\n",
    "\n",
    "The calculate data move involves generating new columns or features based on operations performed on existing ones. This might include computing ratios, percentages, differences, or other derived values that help reveal patterns in the data.\n",
    "\n",
    "#### Total Compensation\n",
    "\n",
    "The `ceo_pay` table does not have a column that contains the total compensation. Let's examine the values that go toward total compensation by looking at the first row of values.\n",
    "\n",
    "Run the cell below."
   ]
  },
  {
   "cell_type": "code",
   "execution_count": null,
   "id": "d283ec04-84c2-4c75-8d1b-5afe87d5dfa9",
   "metadata": {
    "tags": []
   },
   "outputs": [],
   "source": [
    "ceo_pay.row(0)"
   ]
  },
  {
   "cell_type": "markdown",
   "id": "9b575147-a122-41c4-9c27-34a9e251fa3f",
   "metadata": {},
   "source": [
    "We can select each individual component of pay by using the `.item` table method.\n",
    "\n",
    "Run the cell below to see how we can access the salary."
   ]
  },
  {
   "cell_type": "code",
   "execution_count": null,
   "id": "a01caba8-2cac-49cc-9629-8e2080291ad6",
   "metadata": {
    "tags": []
   },
   "outputs": [],
   "source": [
    "ceo_pay.row(0).item(1)"
   ]
  },
  {
   "cell_type": "markdown",
   "id": "9ae8d4c3-3208-4de0-81d2-cc4f7c7cda77",
   "metadata": {},
   "source": [
    "If we wanted to cacluate the total compensation we could add all the relevenat items together."
   ]
  },
  {
   "cell_type": "markdown",
   "id": "2b9fa607-8e35-4657-9559-b8abfa8104c4",
   "metadata": {},
   "source": [
    "**Question 4.**  Calculate the total compensation for the CEO represented in row one.\n",
    "\n",
    "**Hint:** If your expression is getting too long and runs off the page, try one of these techniques to keep your code neat and readable:\n",
    "\n",
    "**Explicit Line Continuation with Backslash `(\\)`**\n",
    "```python\n",
    "ceo_pay.row(0).item(1) + \\\n",
    "ceo_pay.row(0).item(2) + \\\n",
    "...\n",
    "```\n",
    "\n",
    "**Implicit Line Continuation Using Parentheses**\n",
    "```python\n",
    "(ceo_pay.row(0).item(1) + \n",
    " ceo_pay.row(0).item(2) + \n",
    " ...)\n",
    "```"
   ]
  },
  {
   "cell_type": "code",
   "execution_count": null,
   "id": "1a1d1621-edc0-4d5d-bdbb-2ea1753184db",
   "metadata": {
    "tags": []
   },
   "outputs": [],
   "source": [
    "..."
   ]
  },
  {
   "cell_type": "markdown",
   "id": "89225602-9c27-467b-81b9-33762b2e8152",
   "metadata": {},
   "source": [
    "To do this for each row, we’d have to write a lot of code—most of it repetitive. That’s because the calculation stays the same; only the row number changes. A better approach is to write a single user-defined function and apply it to each row.\n",
    "\n",
    "Let’s look at a couple of ways to do this, and then you can decide which one you’d like to use."
   ]
  },
  {
   "cell_type": "markdown",
   "id": "af4ebf29-81fa-49ca-9e88-4d03bd83f5c8",
   "metadata": {},
   "source": [
    "#### Separate Variables\n",
    "\n",
    "We could create a new varaible for each component, then sum them together to get the total."
   ]
  },
  {
   "cell_type": "markdown",
   "id": "72794b6c-8e50-4489-a70b-0ee5cf94a33a",
   "metadata": {},
   "source": [
    "**Question 5.**  Complete each assignment statement by writing the correct expression."
   ]
  },
  {
   "cell_type": "code",
   "execution_count": null,
   "id": "42372685-8f42-4ac2-a09e-c16f18716d4e",
   "metadata": {
    "tags": []
   },
   "outputs": [],
   "source": [
    "total = 0\n",
    "\n",
    "salary = ...\n",
    "bonus = ...\n",
    "stock_awards = ...\n",
    "option_awards = ...\n",
    "non_equity_comp = ...\n",
    "pension_change = ...\n",
    "other_comp = ...\n",
    "\n",
    "total = (salary +\n",
    "         bonus +\n",
    "         stock_awards +\n",
    "         option_awards +\n",
    "         non_equity_comp + \n",
    "         pension_change + \n",
    "         other_comp)\n",
    "\n",
    "total"
   ]
  },
  {
   "cell_type": "markdown",
   "id": "cdae7993-c097-436b-bd47-bde4061f522f",
   "metadata": {},
   "source": [
    "#### `for` loop\n",
    "\n",
    "Since only the item index is changing, we can use a `for` loop."
   ]
  },
  {
   "cell_type": "markdown",
   "id": "b4c3f1ce-61d9-4d8b-a40d-e8c48328055f",
   "metadata": {},
   "source": [
    "**Question 6.**  Write a `for` loop that calculates the total CEO compensation for the first row."
   ]
  },
  {
   "cell_type": "code",
   "execution_count": null,
   "id": "11d1cd32-a50a-48ac-b402-f26962c60085",
   "metadata": {
    "tags": []
   },
   "outputs": [],
   "source": [
    "..."
   ]
  },
  {
   "cell_type": "markdown",
   "id": "b18e92d2-79fc-40fb-9203-c703f0b90aef",
   "metadata": {
    "tags": []
   },
   "source": [
    "Both methods are effective, but how can we apply them to every row?\n",
    "\n",
    "### User-Defined Functions in Python\n",
    "\n",
    "In Python, a user-defined function lets you create your own custom block of code that performs a specific task. This is especially useful when you're doing the same kind of operation many times. Instead of copying and pasting the same code, you can write the logic once in a function and use it wherever you need it.\n",
    "\n",
    "#### Calculating Total CEO Compensation\n",
    "\n",
    "```python\n",
    "def total_compensation(row):\n",
    "    \"\"\"\n",
    "    Calculates the total CEO compensation for a given row.\n",
    "    \n",
    "    It returns the sum of the values in columns with index values from 1 to 7.\n",
    "\n",
    "    Parameters:\n",
    "    \n",
    "    row: A row object from a Table.\n",
    "\n",
    "    Returns:\n",
    "    \n",
    "    float: The total compensation based on salary, bonus, stock_awards, option_awards, \n",
    "           non_equity_comp, pension_change, and other_comp\n",
    "    \"\"\"\n",
    "    \n",
    "    total = \n",
    "    \n",
    "    return total\n",
    "```\n",
    "\n",
    "- `def`: This keyword tells Python you are defining a function.\n",
    "\n",
    "- `total_compensation`: This is the name of the function. You can name it almost anything, but it should describe what the function does. Here, it suggests the function calculates total CEO compensation.\n",
    "\n",
    "- `(row)`: This is the parameter the function takes in. In this case, the function expects to receive one row of a `Table` object in the `datascience` library.\n",
    "\n",
    "- The code represents the body of the function.\n",
    "\n",
    "- `return`: This tells Python to output the result of `total`."
   ]
  },
  {
   "cell_type": "markdown",
   "id": "dbaa5d50-c355-4692-916b-c33f0772a48a",
   "metadata": {},
   "source": [
    "**Question 7.**  Complete the function by adding code to the body."
   ]
  },
  {
   "cell_type": "code",
   "execution_count": null,
   "id": "7d77a48a-c66c-4950-be16-a9cb93b923c7",
   "metadata": {
    "tags": []
   },
   "outputs": [],
   "source": [
    "def total_compensation(row):\n",
    "    \"\"\"\n",
    "    Calculates the total CEO compensation for a given row.\n",
    "    \n",
    "    It returns the sum of the values in columns with index values from 1 to 7.\n",
    "\n",
    "    Parameters:\n",
    "    \n",
    "    row: A row object from a Table.\n",
    "\n",
    "    Returns:\n",
    "    \n",
    "    float: The total compensation based on salary, bonus, stock_awards, option_awards, \n",
    "           non_equity_comp, pension_change, and other_comp\n",
    "    \"\"\"\n",
    "    \n",
    "    ...\n",
    "    \n",
    "    total = ...\n",
    "    \n",
    "    return total"
   ]
  },
  {
   "cell_type": "markdown",
   "id": "cb22149a-7fba-412c-8ef9-76361c92a0ef",
   "metadata": {
    "tags": []
   },
   "source": [
    "Now we can call the function with a row from the `ceo_pay` table."
   ]
  },
  {
   "cell_type": "code",
   "execution_count": null,
   "id": "1a516e97-976c-41ce-837c-f302616e4b09",
   "metadata": {
    "tags": []
   },
   "outputs": [],
   "source": [
    "total_compensation(ceo_pay.row(0))"
   ]
  },
  {
   "cell_type": "markdown",
   "id": "c199ba2d-f7e0-441a-855d-e119ccb3b172",
   "metadata": {},
   "source": [
    "To _**\"apply\"**_ this function to all the rows in the `ceo_pay` table, we can use the `.apply` method. The `.apply` method runs a function on each row of the table and returns a list of results, one for each row.\n",
    "\n",
    "Run the cell below."
   ]
  },
  {
   "cell_type": "code",
   "execution_count": null,
   "id": "48b7a225-5e2f-417e-8fba-492f1258c43e",
   "metadata": {
    "tags": []
   },
   "outputs": [],
   "source": [
    "ceo_pay = ceo_pay.with_column(\n",
    "    'total_compensation',\n",
    "    ceo_pay.apply(total_compensation)\n",
    ")"
   ]
  },
  {
   "cell_type": "markdown",
   "id": "8589894e-aefc-44a3-8951-125ead284685",
   "metadata": {
    "tags": []
   },
   "source": [
    "Verify that it worked."
   ]
  },
  {
   "cell_type": "code",
   "execution_count": null,
   "id": "1ab18518-6ee7-496b-8a1c-49b58a674278",
   "metadata": {
    "tags": []
   },
   "outputs": [],
   "source": [
    "ceo_pay.show(3)"
   ]
  },
  {
   "cell_type": "markdown",
   "id": "2642dc21-ccae-4acf-bcf9-330a7283beff",
   "metadata": {
    "tags": []
   },
   "source": [
    "### Calculate (Categorical)\n",
    "\n",
    "The calculate data move can also be used to create new categorical features. This involves generating a new column based on existing data by applying rules or conditions that assign category labels. For example, you might classify numerical values into categories like *\"High\"*, *\"Medium\"*, or *\"Low\"*, or create flags such as *\"Pass\"* or *\"Fail\"* based on a threshold. These calculated categories help organize the data in ways that make patterns easier to see and analyze."
   ]
  },
  {
   "cell_type": "markdown",
   "id": "0df94051-f05f-4821-bcf3-1bcb1aa83411",
   "metadata": {},
   "source": [
    "We can categorize CEO pay by setting thresholds for total compensation. For example, compensation between 0 and 1,000,000 could be labeled as _\"Low\"_, between 1,000,000 and 5,000,000 as _\"Moderate\"_, between 5,000,000 and 15,000,000 as _\"High\"_, and anything above 15,000,000 as _\"Very High\"_."
   ]
  },
  {
   "cell_type": "markdown",
   "id": "96f1daae-fa25-414a-9ad0-8a6230568ef2",
   "metadata": {},
   "source": [
    "To do this type of calculation, we need to use **conditional logic**. Conditional logic in Python allows us to make decisions in our code by executing different actions depending on whether certain conditions are true or false. This is typically done using `if`, `elif`, and `else` statements.\n",
    "\n",
    "For example, if we want to assign a category based on total compensation, we can use conditional logic to check which range a value falls into and return the appropriate label.\n",
    "\n",
    "### Conditional Statements\n",
    "\n",
    "Conditional statements let your program make decisions based on whether something is true or false. They allow you to control the flow of your code using conditions.\n",
    "\n",
    "The structure looks like this:\n",
    "\n",
    "```python\n",
    "if condition:\n",
    "    # Do something\n",
    "elif another_condition:\n",
    "    # Do something else\n",
    "else:\n",
    "    # Do something if the other conditions are not true\n",
    "```\n",
    "\n",
    "Each condition is typically a comparison (like `x > 5`) that evaluates to either `True` or `False`.\n",
    "\n",
    "| Operator | Description              | Example  | Evaluates To |\n",
    "| -------- | ------------------------ | -------- | ------------ |\n",
    "| `==`     | Equal to                 | `5 == 5` | `True`       |\n",
    "| `!=`     | Not equal to             | `5 != 3` | `True`       |\n",
    "| `>`      | Greater than             | `10 > 7` | `True`       |\n",
    "| `<`      | Less than                | `3 < 8`  | `True`       |\n",
    "| `>=`     | Greater than or equal to | `5 >= 5` | `True`       |\n",
    "| `<=`     | Less than or equal to    | `4 <= 6` | `True`       |\n",
    "\n",
    "Let's write a function that calculates the compensation tiers."
   ]
  },
  {
   "cell_type": "code",
   "execution_count": null,
   "id": "cbf4facf-1692-4c53-8d74-11ca82ad1c83",
   "metadata": {
    "tags": []
   },
   "outputs": [],
   "source": [
    "def compensation_tier(total_compensation):\n",
    "    \"\"\"\n",
    "    Categorizes CEO total compensation into one of four categories:\n",
    "    'Low', 'Moderate', 'High', or 'Very High'.\n",
    "\n",
    "    Thresholds:\n",
    "    - 0 to 1,000,000: 'Low'\n",
    "    - 1,000,001 to 5,000,000: 'Moderate'\n",
    "    - 5,000,001 to 15,000,000: 'High'\n",
    "    - Over 15,000,000: 'Very High'\n",
    "\n",
    "    Parameters:\n",
    "        \n",
    "    total_compensation (float): The total compensation value.\n",
    "\n",
    "    Returns:\n",
    "    \n",
    "    str: A category label based on the compensation thresholds.\n",
    "    \"\"\"\n",
    "    if total_compensation <= 1_000_000:\n",
    "        return \"Low\"\n",
    "    elif total_compensation <= 5_000_000:\n",
    "        return \"Moderate\"\n",
    "    elif total_compensation <= 15_000_000:\n",
    "        return \"High\"\n",
    "    else:\n",
    "        return \"Very High\""
   ]
  },
  {
   "cell_type": "markdown",
   "id": "c483daa6-78f5-4d4f-accf-d2d2860d7273",
   "metadata": {},
   "source": [
    "**Question 8.**  Apply the `compensation_tier` function to the `ceo_pay` table to add a column named `compensation_tier`."
   ]
  },
  {
   "cell_type": "code",
   "execution_count": null,
   "id": "9055a10d-192f-4eae-97e2-0673d5674fb7",
   "metadata": {
    "tags": []
   },
   "outputs": [],
   "source": [
    "ceo_pay = ..."
   ]
  },
  {
   "cell_type": "markdown",
   "id": "ea9d1b00-ea4d-405d-8b48-ac5b1842083e",
   "metadata": {},
   "source": [
    "Let's verify to see if our function works as intended."
   ]
  },
  {
   "cell_type": "code",
   "execution_count": null,
   "id": "98c32d66-640d-4c5b-8da7-853d7af96db3",
   "metadata": {
    "tags": []
   },
   "outputs": [],
   "source": [
    "ceo_pay.show(3)"
   ]
  },
  {
   "cell_type": "markdown",
   "id": "e5ee3290-ed3a-483d-a942-d4d407bf00c9",
   "metadata": {},
   "source": [
    "### Grouping\n",
    "\n",
    "The grouping data move is used to summarize data by combining rows that share a common value in one or more columns. This involves grouping the data based on a categorical variable like location or demographic, and then computing counts or summary statistics for each group. For example, you might group a dataset by _\"School\"_ to count the number of students in each. Grouping helps reveal patterns across categories, compare subgroups, and simplify large datasets for further analysis."
   ]
  },
  {
   "cell_type": "markdown",
   "id": "c585e80e-c665-4df8-be2f-bdf7268ce258",
   "metadata": {},
   "source": [
    "Let's compare total compensation across the different compensation tiers. We can do this by using the 5-number summary and a box plot to visualize how compensation values are distributed within each tier.\n",
    "\n",
    "To compute the 5-number summary we can use functions from the NumPy library. Let's import NumPy."
   ]
  },
  {
   "cell_type": "code",
   "execution_count": null,
   "id": "6bd7822d-5f25-40cf-830b-f87f293827f7",
   "metadata": {
    "tags": []
   },
   "outputs": [],
   "source": [
    "import numpy as np"
   ]
  },
  {
   "cell_type": "markdown",
   "id": "d0493643-2673-490a-b512-1ccb68b8889b",
   "metadata": {},
   "source": [
    "We can list all the values in the `compensation_tier` column."
   ]
  },
  {
   "cell_type": "code",
   "execution_count": null,
   "id": "b6e8412a-3af0-4b64-9787-7af2215df64f",
   "metadata": {
    "tags": []
   },
   "outputs": [],
   "source": [
    "ceo_pay.column('compensation_tier')"
   ]
  },
  {
   "cell_type": "markdown",
   "id": "8c22728b-86f0-4712-8622-6abc6ae84d86",
   "metadata": {},
   "source": [
    "Now we can list only the unique values from the output using `np.unique`."
   ]
  },
  {
   "cell_type": "code",
   "execution_count": null,
   "id": "ef910543-236f-44d6-be4d-cf698e54294c",
   "metadata": {
    "tags": []
   },
   "outputs": [],
   "source": [
    "np.unique(ceo_pay.column('compensation_tier'))"
   ]
  },
  {
   "cell_type": "markdown",
   "id": "5444b63b-a7c3-42a8-84a6-9b5383c87b79",
   "metadata": {},
   "source": [
    "We can filter rows from the `ceo_pay` table by tier. For each subset of the table, we can then calculate the 5-number summary.\n",
    "\n",
    "First, let's filter the ceo_pay table for each compensation tier."
   ]
  },
  {
   "cell_type": "code",
   "execution_count": null,
   "id": "7871e8bd-3d10-4deb-a974-ea8ca94ef87f",
   "metadata": {
    "tags": []
   },
   "outputs": [],
   "source": [
    "low = ceo_pay.where('compensation_tier', are.equal_to('Low'))\n",
    "moderate = ceo_pay.where('compensation_tier', are.equal_to('Moderate'))\n",
    "high = ceo_pay.where('compensation_tier', are.equal_to('High'))\n",
    "very_high = ceo_pay.where('compensation_tier', are.equal_to('Very High'))"
   ]
  },
  {
   "cell_type": "markdown",
   "id": "dcb2eeb7-2eff-4416-a038-68502da89251",
   "metadata": {},
   "source": [
    "We can do the 5-number summary for the `low` tier."
   ]
  },
  {
   "cell_type": "code",
   "execution_count": null,
   "id": "77d08021-9484-452a-9051-e82c5e5991f8",
   "metadata": {
    "tags": []
   },
   "outputs": [],
   "source": [
    "low_min = np.min(low.column('total_compensation'))/1e6\n",
    "low_q1 = np.percentile(low.column('total_compensation'), 25)/1e6\n",
    "low_median = np.median(low.column('total_compensation'))/1e6\n",
    "low_q3 = np.percentile(low.column('total_compensation'), 75)/1e6\n",
    "low_max = np.max(low.column('total_compensation'))/1e6"
   ]
  },
  {
   "cell_type": "markdown",
   "id": "ddbf6144-fb2f-4fba-9f72-d2a3f852731d",
   "metadata": {},
   "source": [
    "Now we can make the table."
   ]
  },
  {
   "cell_type": "code",
   "execution_count": null,
   "id": "9c5529a7",
   "metadata": {
    "tags": []
   },
   "outputs": [],
   "source": [
    "Table().with_columns(\n",
    "    \"Tier\", [\"Low\"],\n",
    "    \"Min\", [low_min],\n",
    "    \"Q1\", [low_q1],\n",
    "    \"Median\", [low_median],\n",
    "    \"Q3\", [low_q3],\n",
    "    \"Max\", [low_max]\n",
    ")"
   ]
  },
  {
   "cell_type": "markdown",
   "id": "3f229bba-9eb1-445d-8db1-dfc86e15eef8",
   "metadata": {},
   "source": [
    "**Question 9.**  Create another table with the values for the High compensation tier."
   ]
  },
  {
   "cell_type": "code",
   "execution_count": null,
   "id": "a82935d6-90d5-47ec-a4bd-50f7d216267d",
   "metadata": {
    "tags": []
   },
   "outputs": [],
   "source": [
    "high_min = ...\n",
    "high_q1 = ...\n",
    "high_median = ...\n",
    "high_q3 = ...\n",
    "high_max = ...\n",
    "\n",
    "Table().with_columns(\n",
    "    \"Tier\", ...,\n",
    "    \"Min\", ...,\n",
    "    \"Q1\", ...,\n",
    "    \"Median\", ...,\n",
    "    \"Q3\", ...,\n",
    "    \"Max\", ...\n",
    ")"
   ]
  },
  {
   "cell_type": "markdown",
   "id": "5885b305-7fc5-4541-84c7-0447146fd6c7",
   "metadata": {},
   "source": [
    "**Question 10.** Create a boxplot to compare the distribution of values for the _\"Low\"_ and _\"High\"_ tiers. The _\"Low\"_ tier has been doen for you as an example. \n",
    "\n",
    "You will need to run the cell below to import `matplotlib.pyplot` and add the magic command."
   ]
  },
  {
   "cell_type": "code",
   "execution_count": null,
   "id": "61a72745-a4b1-42d9-919b-36a46e722e4d",
   "metadata": {
    "tags": []
   },
   "outputs": [],
   "source": [
    "import matplotlib.pyplot as plt\n",
    "%matplotlib inline"
   ]
  },
  {
   "cell_type": "code",
   "execution_count": null,
   "id": "cb433eca-df7f-466a-a50e-c862049c0068",
   "metadata": {
    "tags": []
   },
   "outputs": [],
   "source": [
    "data = [..., ...]\n",
    "\n",
    "plt.boxplot(data)\n",
    "plt.xticks([1, 2], [\"Low Tier\", \"High Tier\"])  \n",
    "plt.ylabel(\"Total Compensation (in millions)\");"
   ]
  },
  {
   "cell_type": "markdown",
   "id": "2010f5b5-967a-4f91-a60e-4a7eec80f813",
   "metadata": {},
   "source": [
    "## Submission\n",
    "\n",
    "Make sure that all cells in your assignment have been executed to display all output, images, and graphs in the final document.\n",
    "\n",
    "**Note:** Save the assignment before proceeding to download the file.\n",
    "\n",
    "After downloading, locate the `.ipynb` file and upload **only** this file to Moodle. The assignment will be automatically submitted to Gradescope for grading."
   ]
  }
 ],
 "metadata": {
  "kernelspec": {
   "display_name": "Python 3 (ipykernel)",
   "language": "python",
   "name": "python3"
  },
  "language_info": {
   "codemirror_mode": {
    "name": "ipython",
    "version": 3
   },
   "file_extension": ".py",
   "mimetype": "text/x-python",
   "name": "python",
   "nbconvert_exporter": "python",
   "pygments_lexer": "ipython3",
   "version": "3.10.11"
  }
 },
 "nbformat": 4,
 "nbformat_minor": 5
}
