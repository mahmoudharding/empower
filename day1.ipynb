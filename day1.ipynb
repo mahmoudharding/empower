{
 "cells": [
  {
   "cell_type": "markdown",
   "id": "93c8239d-60f2-491c-b2ba-0102eb4cf846",
   "metadata": {},
   "source": [
    "# Day 1"
   ]
  },
  {
   "cell_type": "markdown",
   "id": "ce8b34f2-e692-44d4-beaf-d455a9e22a33",
   "metadata": {
    "jp-MarkdownHeadingCollapsed": true,
    "tags": []
   },
   "source": [
    "## 10:15 am – 11:45 am: An Introduction to Jupyter Notebooks\n",
    "\n",
    "This webpage is called a Jupyter notebook. A notebook is a place to write programs and view their results. We can also to write and format text using markdown.\n",
    "\n",
    "As for working in notebooks, there are two types of cells (each rectangle containing text or code is called a **cell**): \n",
    "\n",
    "- **markdown** cells that hold a special kind of text that follows the markdown syntax. To get familiar with the markdown syntax, take a look at this [Markdown Gudie](https://www.markdownguide.org/basic-syntax/). Markdown cells (like this one) can be edited by double-clicking on them. After you edit a markdown cell, click the \"Run cell\" button at the top that looks like ▶| or hold down `Shift` + `Return` to confirm any changes. \n",
    "\n",
    "**Note:** Try not to delete the instructions of the assignment.\n",
    "\n",
    "- **code** cells that hold executable code.\n",
    "\n",
    "## Markdown Cells\n",
    "\n",
    "Markdown cells are sometime referred to as *text* cells. In the text cell below enter your name, section, and the date.\n",
    "\n",
    "**Note:** After you make changes to the text cell don't forget to click the \"Run cell\" button at the top that looks like ▶| or hold down `Shift` + `Return` to view the changes."
   ]
  },
  {
   "cell_type": "markdown",
   "id": "ede3431d-3377-4f8d-ab63-48b24156a80b",
   "metadata": {},
   "source": [
    "## Code Cells\n",
    "\n",
    "Code cells execute Python code."
   ]
  },
  {
   "cell_type": "markdown",
   "id": "1d09b7d1-efa7-44d0-acea-e4b73d0b1763",
   "metadata": {},
   "source": [
    "**Example 1.** Printing"
   ]
  },
  {
   "cell_type": "markdown",
   "id": "d2b410f6-34dd-401b-b25e-cb0f6bc729d5",
   "metadata": {},
   "source": [
    "**Example 2.** Computation"
   ]
  },
  {
   "cell_type": "markdown",
   "id": "b40e4d8b-7c9b-4d10-8c2c-4297a4df4a12",
   "metadata": {},
   "source": [
    "**Example 3.** Variables"
   ]
  },
  {
   "cell_type": "markdown",
   "id": "1f6083b2-2dd5-49a9-824e-2e1ebc6c899b",
   "metadata": {},
   "source": [
    "**Example 4.** Function Calls"
   ]
  },
  {
   "cell_type": "markdown",
   "id": "d06256ed-7113-48ba-87b2-f33ed2f435a3",
   "metadata": {},
   "source": [
    "## 12:30 pm – 2:00 pm: An Introduction to Python\n",
    "\n",
    "### Data Types\n",
    "\n",
    "- Integer (`int`) is used to store whole numbers (e.g., `3`, `-42`)\n",
    "\n",
    "- Float (`float`) is used to store numbers with decimals (e.g., `3.14`, `-0.5`)\n",
    "\n",
    "- String (`str`) is used to store text enclosed in quotes (e.g., `\"hello\"`, `'data'`)\n",
    "\n",
    "- Boolean (`bool`) is used to store truth values: `True` or `False`\n",
    "\n",
    "- None (`NoneType`) is used to represent the absence of a value"
   ]
  },
  {
   "cell_type": "markdown",
   "id": "527d6fc4-e99c-4d86-bb0e-acfb137e7626",
   "metadata": {},
   "source": [
    "**Example 5.** Data Types"
   ]
  },
  {
   "cell_type": "markdown",
   "id": "fbf3358e-414b-442e-86de-462ea97a1a30",
   "metadata": {},
   "source": [
    "### Data Structures\n",
    "\n",
    "- List\n",
    "\n",
    "- Tuple\n",
    "\n",
    "- Dictionary \n",
    "\n",
    "#### List\n",
    "\n",
    "- A list is used to store multiple values in a single value or variable. \n",
    "\n",
    "- To create a list use square brackets.\n",
    "\n",
    "- Lists can contain elements of different types.\n",
    "\n",
    "- List items are indexed beginning with 0."
   ]
  },
  {
   "cell_type": "markdown",
   "id": "c02e0aa7-77fa-4e86-940f-cd0491f28fc9",
   "metadata": {},
   "source": [
    "**Example 6.** List"
   ]
  },
  {
   "cell_type": "code",
   "execution_count": null,
   "id": "5bc99c71-ea01-4457-9ef3-17d604100df9",
   "metadata": {
    "tags": []
   },
   "outputs": [],
   "source": [
    "spices = ['cinnamon', 'turmeric', 'cardamom', 'paprika', 'cumin', 'nutmeg', 'clove', 'saffron', 'ginger', 'coriander']\n",
    "spices"
   ]
  },
  {
   "cell_type": "code",
   "execution_count": null,
   "id": "fa0a6a27-170f-437b-a02d-15361a4aef44",
   "metadata": {
    "tags": []
   },
   "outputs": [],
   "source": [
    "numbers = [1, 2, 3, 4, 5.25, 5.5, 5.75, 6]\n",
    "numbers"
   ]
  },
  {
   "cell_type": "code",
   "execution_count": null,
   "id": "f0d6e3f8-0b98-42f4-95ae-25b24d39c7bb",
   "metadata": {
    "tags": []
   },
   "outputs": [],
   "source": [
    "mixed = spices + numbers\n",
    "mixed"
   ]
  },
  {
   "cell_type": "markdown",
   "id": "b3039bce-b62c-4dbd-8bc5-92114dd95ec3",
   "metadata": {},
   "source": [
    "#### `for` Loop\n",
    "\n",
    "A `for` loop in Python is used to iterate over a sequence, such as a list, string, etc. It automatically loops through each item in the sequence without needing an explicit counter."
   ]
  },
  {
   "cell_type": "markdown",
   "id": "8ce360b8-32be-47b5-9dbf-52127faf902b",
   "metadata": {},
   "source": [
    "**Example 7.** For Loop"
   ]
  },
  {
   "cell_type": "markdown",
   "id": "917f53f3-27ba-47f7-afbf-af787c7abb34",
   "metadata": {},
   "source": [
    "#### Nested Lists\n",
    "\n",
    "In Python, nested lists are lists that contain other lists as their elements, allowing you to create multi-dimensional structures like matrices or tables. You can access elements in a nested list using multiple indices, for example, `my_list[0][1]` accesses the second element of the first inner list."
   ]
  },
  {
   "cell_type": "markdown",
   "id": "94a894c1-f196-4de7-8e9b-fd0ddad33d35",
   "metadata": {},
   "source": [
    "**Example 8.** Nested List"
   ]
  },
  {
   "cell_type": "code",
   "execution_count": null,
   "id": "799c7229-573e-4f0b-bb04-a9aa49ed94a0",
   "metadata": {},
   "outputs": [],
   "source": [
    "foods = [\n",
    "    ['fruit', 'vegetable', 'grain', 'protein', 'dairy'],\n",
    "    ['apple', 'carrot', 'rice', 'chicken', 'milk'],\n",
    "    ['banana', 'spinach', 'quinoa', 'tofu', 'yogurt'],\n",
    "    ['grape', 'broccoli', 'barley', 'beans', 'cheese'],\n",
    "    ['orange', 'pepper', 'oats', 'eggs', 'butter']\n",
    "]\n",
    "\n",
    "foods"
   ]
  },
  {
   "cell_type": "markdown",
   "id": "3f40ca9d-7d55-4383-ba0e-37d516cdd8bb",
   "metadata": {},
   "source": [
    "#### Tuple\n",
    "\n",
    "- A tuple is used to store multiple values in a single value or variable. \n",
    "\n",
    "- To create a tuple use parenthesis.\n",
    "\n",
    "- Tuples can contain elements of different types.\n",
    "\n",
    "- Tuple items are indexed beginning with 0."
   ]
  },
  {
   "cell_type": "markdown",
   "id": "b6147c13-4261-4be7-9c44-25f284c9be91",
   "metadata": {},
   "source": [
    "**Example 9.** Tuple"
   ]
  },
  {
   "cell_type": "code",
   "execution_count": null,
   "id": "2e66eeb1-9885-44df-84a1-1957525e1d66",
   "metadata": {
    "tags": []
   },
   "outputs": [],
   "source": [
    "heat = ('mild', 'medium', 'hot', 'very hot', 'extra hot')\n",
    "heat"
   ]
  },
  {
   "cell_type": "markdown",
   "id": "dee1994c-eae3-457b-b400-5ffa791d1188",
   "metadata": {},
   "source": [
    "#### Dictionary\n",
    "\n",
    "- A collection of key-value pairs.\n",
    "\n",
    "- A key is used to look up values.\n",
    "\n",
    "- A value can be numbers, strings, lists, or even other dictionaries."
   ]
  },
  {
   "cell_type": "markdown",
   "id": "a0f769be-96d3-48a8-86a5-af97753cc33e",
   "metadata": {},
   "source": [
    "**Example 10.** Dictionary"
   ]
  },
  {
   "cell_type": "code",
   "execution_count": null,
   "id": "d4c4208e-8b21-4f06-b303-0b3d183519d9",
   "metadata": {
    "tags": []
   },
   "outputs": [],
   "source": [
    "peppers = {\n",
    "    'bell pepper': 'none',\n",
    "    'jalapeño': 'medium',\n",
    "    'serrano': ['hot', 15000],\n",
    "    'habanero': ['very hot', 350000],\n",
    "    'carolina reaper': ['extreme', 2200000, 'fruity'],\n",
    "    'poblano': ['mild', 'smoky'],\n",
    "    'ghost pepper': ['extra hot', 1000000],\n",
    "    'thai chili': 75000,\n",
    "    'banana pepper': 'mild',\n",
    "    'scotch bonnet': ['very hot', 350000, 'sweet']\n",
    "}\n",
    "\n",
    "peppers"
   ]
  },
  {
   "cell_type": "markdown",
   "id": "291ab586-af9c-41f7-ac0a-c405c2744fa1",
   "metadata": {},
   "source": [
    "**Example 11.** For Loop Dictionary"
   ]
  },
  {
   "cell_type": "markdown",
   "id": "b958e15e-36e2-43b0-9792-e8f33624ecc2",
   "metadata": {},
   "source": [
    "## 2:15 pm – 4:30 pm: Libraries and Packages \n",
    "\n",
    "### What are Python libraries and packages?\n",
    "\n",
    "In Python, **libraries** and **packages** help you do more with less code. A **library** is a collection of pre-written code that provides tools and functions for specific tasks—like working with data, making graphs, or doing math. A **package** is a way to organize that code into structured folders and modules so it's easier to manage and reuse.\n",
    "\n",
    "Libraries often include their own custom data structures to make working with certain types of data easier. For example, the:\n",
    "\n",
    "- `datascience` package provides a `Table` data structure for analyzing tabular data. \n",
    "\n",
    "- `numpy` library introduces the `ndarray` for performing fast, efficient computations on numerical data. \n",
    "\n",
    "- `matplotlib` library offers tools to create visualizations like bar charts and scatter plots, helping you understand data through graphs.\n",
    "\n",
    "When you **import a package or library**, you're gaining access to these tools and data structures."
   ]
  },
  {
   "cell_type": "markdown",
   "id": "5829c49a-ee73-49bc-bade-11a7231ef9c4",
   "metadata": {},
   "source": [
    "**Example 12.** Numpy"
   ]
  },
  {
   "cell_type": "code",
   "execution_count": null,
   "id": "7de26fa1-67f1-4770-9c86-a289d61402e7",
   "metadata": {},
   "outputs": [],
   "source": [
    "import numpy as np"
   ]
  },
  {
   "cell_type": "markdown",
   "id": "909cb479-fa3e-4716-9bd0-204ddc013259",
   "metadata": {},
   "source": [
    "**Example 13.** Matplotlib"
   ]
  },
  {
   "cell_type": "code",
   "execution_count": null,
   "id": "5cdea4fc-bc38-451e-94f9-53adf4549ae3",
   "metadata": {
    "tags": []
   },
   "outputs": [],
   "source": [
    "import matplotlib.pyplot as plt\n",
    "%matplotlib inline"
   ]
  },
  {
   "cell_type": "code",
   "execution_count": null,
   "id": "f6f6e0ac-254a-4103-a691-c2626c9e22c8",
   "metadata": {
    "tags": []
   },
   "outputs": [],
   "source": [
    "# Example data\n",
    "years = [2010, 2012, 2014, 2016, 2018, 2020]\n",
    "population = [2.5, 2.7, 2.9, 3.2, 3.5, 3.8]\n",
    "\n",
    "# Create a line plot\n",
    "plt.plot(x = years, y = population)\n",
    "\n",
    "# Add labels and a title\n",
    "plt.xlabel('Year')\n",
    "plt.ylabel('Population (millions)')\n",
    "plt.title('Population Growth Over Time');"
   ]
  },
  {
   "cell_type": "markdown",
   "id": "054d3084-801a-4298-851e-21b2c1347f33",
   "metadata": {},
   "source": [
    "**Example 14.** Datascience"
   ]
  },
  {
   "cell_type": "code",
   "execution_count": null,
   "id": "2094f56b-b032-4e16-a997-ab701873513f",
   "metadata": {
    "tags": []
   },
   "outputs": [],
   "source": [
    "import os\n",
    "os.environ['MPLCONFIGDIR'] = '/tmp/mplconfig'\n",
    "from datascience import *"
   ]
  },
  {
   "cell_type": "code",
   "execution_count": null,
   "id": "7629ff15-77e2-4edb-ad10-1b3e66c0610d",
   "metadata": {
    "tags": []
   },
   "outputs": [],
   "source": [
    "# Create a table with two columns: 'fruit' and 'quantity'\n",
    "fruit_table = Table().with_columns(\n",
    "    'fruit', ['apple', 'banana', 'orange'],\n",
    "    'quantity', [10, 15, 8]\n",
    ")\n",
    "\n",
    "fruit_table"
   ]
  }
 ],
 "metadata": {
  "kernelspec": {
   "display_name": "Python 3 (ipykernel)",
   "language": "python",
   "name": "python3"
  },
  "language_info": {
   "codemirror_mode": {
    "name": "ipython",
    "version": 3
   },
   "file_extension": ".py",
   "mimetype": "text/x-python",
   "name": "python",
   "nbconvert_exporter": "python",
   "pygments_lexer": "ipython3",
   "version": "3.10.11"
  }
 },
 "nbformat": 4,
 "nbformat_minor": 5
}
