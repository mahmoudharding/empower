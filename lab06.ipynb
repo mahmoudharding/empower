{
 "cells": [
  {
   "cell_type": "markdown",
   "id": "3f882e0d-f59e-4de3-9da9-f51dd5d8598b",
   "metadata": {},
   "source": [
    "# Lab 06\n",
    "\n",
    "## Introduction to Data Moves (Joining and Merging)\n",
    "\n",
    "In this assignment, you’ll be introduced to the concept of data moves using functions from the datascience package. You’ll learn how to combine information from multiple tables using joining and merging techniques. These data moves help you enrich a dataset by bringing in new columns from related tables or adding addtional records, making it possible to perform more complex analyses.\n",
    "\n",
    "## Guidelines\n",
    "\n",
    "- Follow good programming practices by using descriptive variable names, maintaining appropriate spacing for readability, and adding comments to clarify your code.\n",
    "\n",
    "- Ensure written responses use correct spelling, complete sentences, and proper grammar.\n",
    "\n",
    "**Name:**\n",
    "\n",
    "**Section:**\n",
    "\n",
    "**Date:**\n",
    "\n",
    "Let's get started!"
   ]
  },
  {
   "cell_type": "markdown",
   "id": "cc3717ca-1e62-4d51-93da-638da7cf6054",
   "metadata": {},
   "source": [
    "### More About the Datascience Package\n",
    "\n",
    "The `datascience` package is a beginner-friendly Python library developed at UC Berkeley to support its introductory data science course, **Data 8**. It simplifies working with data by providing an easy-to-use `Table` structure, making it accessible to students with little or no programming experience.\n",
    "\n",
    "The `Table` class functions like a spreadsheet. You can create tables from scratch or load them from CSV files using `Table.read_table()`. Once loaded, tables support a range of operations for analyzing and transforming data.\n",
    "\n",
    "#### Common `Table` Operations\n",
    "\n",
    "| Operation        | Method                          | Description                                       |\n",
    "| ---------------- | ------------------------------- | ------------------------------------------------- |\n",
    "| Show data        | `table.show(n)`                 | Display first `n` rows                            |\n",
    "| Select columns   | `table.select('col1', ...)`     | Create new table with selected columns            |\n",
    "| Drop columns     | `table.drop('col1', ...)`       | Remove specified columns                          |\n",
    "| Filter rows      | `table.where('col', condition)` | Keep only rows that match a condition             |\n",
    "| Sort data        | `table.sort('col')`             | Sort rows by a column                             |\n",
    "| Group by values  | `table.group('col')`            | Group rows and count values                       |\n",
    "| Aggregate values | `table.group('col', func)`      | Group and apply custom function (e.g., `np.mean`) |\n",
    "| Join tables      | `table1.join('key', table2)`    | Merge tables based on a common column             |\n",
    "\n",
    "The package also includes simple charting functions like `.scatter()`, `.barh()`, and `.hist()` that are built on Matplotlib and allow students to visualize data with minimal code.\n",
    "\n",
    "Underneath the hood, the `datascience` package is built on top of NumPy and Matplotlib which provide numerical computation and plotting capabilities. \n",
    "\n",
    "In summary, `datascience` is a great starting point for exploring real data, performing analysis, and creating visualizations with clear and beginner-friendly Python code."
   ]
  },
  {
   "cell_type": "markdown",
   "id": "73a7cbd8-c5cb-40f2-b337-b1497e9fc1df",
   "metadata": {},
   "source": [
    "**Question 1.** Import the `datascience` package. "
   ]
  },
  {
   "cell_type": "code",
   "execution_count": null,
   "id": "21f49403-b64c-445b-8e65-26afa6ef46bd",
   "metadata": {
    "tags": []
   },
   "outputs": [],
   "source": [
    "..."
   ]
  },
  {
   "cell_type": "markdown",
   "id": "b18028f5-f89a-49bd-8db2-1617ab7791f7",
   "metadata": {},
   "source": [
    "### Merging\n",
    "\n",
    "The merging data move can also refer to combining multiple tables with the same columns by stacking them on top of each other. In this case, merging means putting all the rows from one table below the rows of another to form a single, longer table.\n"
   ]
  },
  {
   "cell_type": "markdown",
   "id": "65d1e3eb-c65b-47fa-934f-1a2ebb9630c1",
   "metadata": {
    "tags": []
   },
   "source": [
    "#### Popular Baby Names Dataset\n",
    "\n",
    "This dataset contains state-specific data on the relative frequency of given names for individuals issued a Social Security Number in the United States. Data is tabulated from Social Security Administration records as of March 2, 2025. The files include annual birth name frequencies by sex and state, beginning in 1910, for all 50 states and the District of Columbia.\n",
    "\n",
    "Each file lists names with at least 5 occurrences in a given year to protect individual privacy. Records are sorted by sex, year, and descending frequency, with alphabetical order breaking ties, which enables direct rank determination.\n",
    "\n",
    "#### Popular Baby Names Datasheet\n",
    "\n",
    "[Popular Baby Names Datasheet](https://docs.google.com/document/d/1GfDNfOO2sdch4R7AXxcXVZT8UK8UBDND/edit?usp=sharing&ouid=114392569502039217657&rtpof=true&sd=true)\n",
    "\n",
    "Social Security Administration. (n.d.). Popular baby names: Data limits and exclusions. Retrieved March 2, 2025, from https://www.ssa.gov/oact/babynames/limits.html\n",
    "\n",
    "The code below loads a subset of state files into separate dataframes. The table that follows shows how each file corresponds to its respective table.\n",
    "\n",
    "|State|Abbreviation|\n",
    "|:-----|:------------|\n",
    "|Indiana| `ind`|\n",
    "|Michigan| `mi`|\n",
    "|Ohio| `oh`| \n",
    "|Pennsylvania| `penn`|\n",
    "|North Carolina| `nc`|\n",
    "|Minnesota| `mn`|\n",
    "|North Dakota| `nd`|\n",
    "|South Dakota| `sd`|"
   ]
  },
  {
   "cell_type": "code",
   "execution_count": null,
   "id": "46c99ca6-9cd9-4c62-94ce-15fa7cbfb782",
   "metadata": {
    "tags": []
   },
   "outputs": [],
   "source": [
    "ind = Table.read_table(\"data/IN.TXT\")\n",
    "mi = Table.read_table(\"data/MI.TXT\")\n",
    "oh = Table.read_table(\"data/OH.TXT\")\n",
    "penn = Table.read_table(\"data/PA.TXT\")\n",
    "nc = Table.read_table(\"data/NC.TXT\")\n",
    "mn = Table.read_table(\"data/MN.TXT\")\n",
    "nd = Table.read_table(\"data/ND.TXT\")\n",
    "sd = Table.read_table(\"data/SD.TXT\")"
   ]
  },
  {
   "cell_type": "markdown",
   "id": "1c794ce0-876b-404e-99d0-7d4c171599c3",
   "metadata": {},
   "source": [
    "**Question 2.** Choose and table and print the number of rows, number of columns, and all column labels from the table."
   ]
  },
  {
   "cell_type": "code",
   "execution_count": null,
   "id": "0bcc766d-fcfc-4374-925b-97e28e544171",
   "metadata": {
    "tags": []
   },
   "outputs": [],
   "source": [
    "..."
   ]
  },
  {
   "cell_type": "markdown",
   "id": "968937d2-0747-4446-a857-1204b283c56f",
   "metadata": {},
   "source": [
    "**Question 3.** Display the first 3 rows of the table you chose."
   ]
  },
  {
   "cell_type": "code",
   "execution_count": null,
   "id": "c2d80d81-3918-4b9a-80dd-91d91ae26500",
   "metadata": {
    "tags": []
   },
   "outputs": [],
   "source": [
    "..."
   ]
  },
  {
   "cell_type": "markdown",
   "id": "276bd547-a4c3-45ee-8b32-013860fb8969",
   "metadata": {},
   "source": [
    "Upon inspection, it appears that the table does not include a header row. To handle this, we can read the data again using functions from the `csv` module. First let's import the module."
   ]
  },
  {
   "cell_type": "markdown",
   "id": "be5d086f-9eb8-4a0b-a0c9-70acef592f2c",
   "metadata": {},
   "source": [
    "**Question 4.** Import the `csv` module."
   ]
  },
  {
   "cell_type": "code",
   "execution_count": null,
   "id": "e50d3ab5-fc78-4867-9dcf-ae34b0b63502",
   "metadata": {
    "tags": []
   },
   "outputs": [],
   "source": [
    "..."
   ]
  },
  {
   "cell_type": "markdown",
   "id": "b3a5b5fa-243f-4018-9643-904b642a561a",
   "metadata": {},
   "source": [
    "Now we can read in the data, skipping headers, using the `csv.reader` function. It reads the file line by line and returns each row as a list of strings.\n",
    "\n",
    "Run the cell below to read in the data from the `NC.TXT` file and display the first 3 rows."
   ]
  },
  {
   "cell_type": "code",
   "execution_count": null,
   "id": "086f0355-835d-4c5a-9122-f2e8e23df35d",
   "metadata": {
    "tags": []
   },
   "outputs": [],
   "source": [
    "with open(\"data/NC.TXT\") as f:\n",
    "    reader = csv.reader(f)\n",
    "    data = list(reader)\n",
    "    \n",
    "data[:3]"
   ]
  },
  {
   "cell_type": "markdown",
   "id": "010960ff-1bec-4b7c-b9e6-0416797f2d45",
   "metadata": {
    "tags": []
   },
   "source": [
    "Now our data is stored as a nested list. Here's how the nested list looks when shown in a table format.\n",
    "\n",
    "| State | Sex | Year | Name  | Count |\n",
    "| ----- | --- | ---- | ----- | ----- |\n",
    "| NC    | F   | 1910 | Mary  | 837   |\n",
    "| NC    | F   | 1910 | Annie | 401   |\n",
    "| NC    | F   | 1910 | Ruth  | 235   |\n",
    "\n",
    "\n",
    "To build a `Table` from this, we need to transpose it - meaning convert the rows into columns. Specifically, we need to group together all the values that appear in the same position across multiple rows. This allows us to organize the data by column. Specifically, we want to rearrange the data like this:\n",
    "\n",
    "```python\n",
    "[\n",
    "  ['NC', 'NC', 'NC'],         # State\n",
    "  ['F', 'F', 'F'],            # Sex\n",
    "  ['1910', '1910', '1910'],   # Year\n",
    "  ['Mary', 'Annie', 'Ruth'],  # Name\n",
    "  ['837', '401', '235']       # Count\n",
    "]\n",
    "```\n",
    "\n",
    "TO accomplish this we will complete one step at a time."
   ]
  },
  {
   "cell_type": "markdown",
   "id": "84a4aa33-d3d2-471b-987a-7638d6d3fd28",
   "metadata": {},
   "source": [
    "**Question 5.** Create a list named `headers` that includes the column names: `'state'`, `'sex'`, `'year'`, `'name'`, and `'count'`."
   ]
  },
  {
   "cell_type": "code",
   "execution_count": null,
   "id": "b66b13a3-25c0-4dff-9263-24de7a22f87a",
   "metadata": {
    "tags": []
   },
   "outputs": [],
   "source": [
    "headers = ...\n",
    "headers"
   ]
  },
  {
   "cell_type": "markdown",
   "id": "0e1f7158-a321-4543-af08-1a1bd5b76001",
   "metadata": {},
   "source": [
    "Now we will create a separate list for each column — meaning we'll make one list that contains all the first items, another for all the second items, and so on. \n",
    "\n",
    "To see an example, run the code below."
   ]
  },
  {
   "cell_type": "code",
   "execution_count": null,
   "id": "3a89c318-7d25-41c9-9c68-a87f0957c78c",
   "metadata": {
    "tags": []
   },
   "outputs": [],
   "source": [
    "# Create an empty list for the state name\n",
    "state = []\n",
    "\n",
    "# Loop over all the rows (nested lists) in data and add\n",
    "# each first element (index 0) to the state list\n",
    "for row in data:\n",
    "    state.append(row[0])\n",
    "\n",
    "# Display the first 5 elements\n",
    "state[:5]"
   ]
  },
  {
   "cell_type": "markdown",
   "id": "e804751e-7fb9-433e-9aec-8d30d07ed76a",
   "metadata": {},
   "source": [
    "**Question 6.** Create lists for the other columns: `'sex'`, `'year'`, `'name'`, and `'count'`.\n",
    "\n",
    "**Hint:** The year and counts have been read in as strings, but they should be stored as integers."
   ]
  },
  {
   "cell_type": "code",
   "execution_count": null,
   "id": "b133b8b4-5849-47a4-bdfb-aa7372c2193f",
   "metadata": {
    "tags": []
   },
   "outputs": [],
   "source": [
    "sex = []\n",
    "year = []\n",
    "name = []\n",
    "count = []\n",
    "\n",
    "..."
   ]
  },
  {
   "cell_type": "markdown",
   "id": "9758fd7e-fc97-4638-8d57-e46fa90c3926",
   "metadata": {},
   "source": [
    "Verify the results by printing the first 5 observations from each list."
   ]
  },
  {
   "cell_type": "code",
   "execution_count": null,
   "id": "c649b95a-c64b-43f8-8ed9-42e98b31ab49",
   "metadata": {
    "tags": []
   },
   "outputs": [],
   "source": [
    "print(sex[:5])\n",
    "print(year[:5])\n",
    "print(name[:5])\n",
    "print(count[:5])"
   ]
  },
  {
   "cell_type": "markdown",
   "id": "568d947c-7459-4398-b06f-35ca3bbc10a4",
   "metadata": {},
   "source": [
    "Run the cell below to create the table for `nc`."
   ]
  },
  {
   "cell_type": "code",
   "execution_count": null,
   "id": "fbbbf839-6ca0-4018-b27a-99a817839e74",
   "metadata": {
    "tags": []
   },
   "outputs": [],
   "source": [
    "nc = Table().with_columns(\n",
    "    headers[0], state,\n",
    "    headers[1], sex,\n",
    "    headers[2], year,\n",
    "    headers[3], name,\n",
    "    headers[4], count\n",
    ")\n",
    "\n",
    "nc.show(3)"
   ]
  },
  {
   "cell_type": "markdown",
   "id": "5222e76f-e877-4af8-9029-82d1e6f73831",
   "metadata": {},
   "source": [
    "Run the next two cells to do the same thing for Minnesota."
   ]
  },
  {
   "cell_type": "code",
   "execution_count": null,
   "id": "6bfbcf9e-a169-4958-9f6c-a9c7bd4b845e",
   "metadata": {
    "tags": []
   },
   "outputs": [],
   "source": [
    "def create_state_table(filepath):\n",
    "    \"\"\"\n",
    "    Reads baby name data from a file with no headers and returns a Table\n",
    "    with columns: 'state', 'sex', 'year', 'name', and 'count'.\n",
    "\n",
    "    Parameters:\n",
    "    \n",
    "    filepath (str): Path to the TXT file.\n",
    "\n",
    "    Returns:\n",
    "    \n",
    "    Table: A datascience Table.\n",
    "    \"\"\"\n",
    "    with open(filepath) as f:\n",
    "        reader = csv.reader(f)\n",
    "        data = list(reader)\n",
    "    \n",
    "    state = []\n",
    "    sex = []\n",
    "    year = []\n",
    "    name = []\n",
    "    count = []\n",
    "\n",
    "    for row in data:\n",
    "        state.append(row[0])\n",
    "        sex.append(row[1])\n",
    "        year.append(int(row[2]))\n",
    "        name.append(row[3])\n",
    "        count.append(int(row[4]))\n",
    "\n",
    "    tbl = Table().with_columns(\n",
    "        'state', state,\n",
    "        'sex', sex,\n",
    "        'year', year,\n",
    "        'name', name,\n",
    "        'count', count\n",
    "    )\n",
    "    \n",
    "    return tbl"
   ]
  },
  {
   "cell_type": "code",
   "execution_count": null,
   "id": "db849457-a8a2-4514-a867-5027638e5fc1",
   "metadata": {
    "tags": []
   },
   "outputs": [],
   "source": [
    "mn = create_state_table('data/MN.TXT')\n",
    "mn.show(3)"
   ]
  },
  {
   "cell_type": "markdown",
   "id": "f41f4c5e-a736-401b-9a2f-344b39f09e94",
   "metadata": {},
   "source": [
    "**Question 7.** Merge the `nc` table with the `mn` table."
   ]
  },
  {
   "cell_type": "code",
   "execution_count": null,
   "id": "320922c5-f0f5-40db-a6e1-4ddc50b1c7e9",
   "metadata": {
    "tags": []
   },
   "outputs": [],
   "source": [
    "nc_mn = ...\n",
    "nc_mn.take(0, -1)"
   ]
  },
  {
   "cell_type": "markdown",
   "id": "57b53a48-7c68-467e-ac6a-276ee6ddfd4c",
   "metadata": {},
   "source": [
    "### Joining\n",
    "\n",
    "The joining data move is a type of merge where you combine two tables using a shared column, known as a key. Instead of stacking rows, joining adds new columns from one table to another by matching rows that have the same value in the key column. This allows you to bring in additional information and enrich your data.\n",
    "\n",
    "### CEO Compensation Summary Dataset\n",
    "\n",
    "The data from the AFL-CIO Executive Paywatch database draws from company proxy statements that are filed with the U.S. Securities and Exchange Commission and collected by [pay-gap.com](https://aflcio.org/paywatch/pay-gap.com). The database includes data for some 3,000 corporations, including most of those listed in the Russell 3000 Index. Industry classifications are based on North American Industry Classification System codes.\n",
    "\n",
    "#### CEO Compensation Summary Datasheet\n",
    "\n",
    "[CEO Compensation Summary Datasheet](https://docs.google.com/document/d/1AJriZiqMarx8-r4WZwoXoCkFKLEDpq2jt0V6t5_tQLM/edit?usp=drive_link)\n",
    "\n",
    "AFL-CIO. (n.d.). Highest-Paid CEOs. Retrieved 2022, from https://aflcio.org/paywatch/highest-paid-ceos"
   ]
  },
  {
   "cell_type": "code",
   "execution_count": null,
   "id": "bd758267-b93f-481a-883f-d563786dd508",
   "metadata": {
    "tags": []
   },
   "outputs": [],
   "source": [
    "ceo = Table.read_table('data/ceo_compensation_summary.csv')"
   ]
  },
  {
   "cell_type": "code",
   "execution_count": null,
   "id": "ba53f00f-c8e8-4071-bf83-4ac12cbb06b6",
   "metadata": {
    "tags": []
   },
   "outputs": [],
   "source": [
    "ceo.show(3)"
   ]
  },
  {
   "cell_type": "markdown",
   "id": "bba622c1-b668-4312-8c11-ed48d42c4267",
   "metadata": {},
   "source": [
    "### Company Information Dataset\n",
    "\n",
    "The companies in this dataset come from the AFL-CIO Executive Paywatch database, which compiles data from company proxy statements filed with the U.S. Securities and Exchange Commission and collected by paygap.com. The dataset includes approximately 3,000 corporations, primarily those listed in the Russell 3000 Index, with industry classifications based on North American Industry Classification System (NAICS) codes. To supplement this dataset, additional company information including sector, industry, and market capitalization was collected using the Python yfinance library, which provides streamlined access to company data from Yahoo Finance.\n",
    "\n",
    "#### Compnay Information Datasheet\n",
    "\n",
    "[Compnay Information Datasheet](https://docs.google.com/document/d/1t_J1RKSpc8qXhozS8F1K82Ac-429zETQUJXT8PvRCm0/edit?usp=sharing)\n",
    "\n",
    "Ran, A. (2019). yfinance: Yahoo! Finance market data downloader [Python library]. https://github.com/ranaroussi/yfinance"
   ]
  },
  {
   "cell_type": "code",
   "execution_count": null,
   "id": "0fc31649-ba8d-407d-9a5b-30b326053f6a",
   "metadata": {},
   "outputs": [],
   "source": [
    "company = Table.read_table('data/company_information.csv')"
   ]
  },
  {
   "cell_type": "code",
   "execution_count": null,
   "id": "23a36f1e-a6cf-4b97-a50c-4bd72b366d1c",
   "metadata": {
    "tags": []
   },
   "outputs": [],
   "source": [
    "company.show(3)"
   ]
  },
  {
   "cell_type": "markdown",
   "id": "f7d4e8f0-040a-42ad-abb5-3b5e8da5ae14",
   "metadata": {},
   "source": [
    "Display the column names from the both the `ceo` and the `company` `DtatFrame`."
   ]
  },
  {
   "cell_type": "code",
   "execution_count": null,
   "id": "91fb0439-b203-4c13-9319-176d3d974c56",
   "metadata": {
    "tags": []
   },
   "outputs": [],
   "source": [
    "print(\"Columns in the ceo dataframe\")\n",
    "print(ceo.labels)\n",
    "print(\"\\n\")\n",
    "print(\"Columns in the company dataframe\")\n",
    "print(company.labels)"
   ]
  },
  {
   "cell_type": "markdown",
   "id": "d4267ff2-7511-4a48-99cc-32f2b10aa635",
   "metadata": {},
   "source": [
    "We can join the `ceo` and `company` tables using the `ticker` column."
   ]
  },
  {
   "cell_type": "markdown",
   "id": "05625eb7-bec4-466a-b0ae-aeacfe31407e",
   "metadata": {},
   "source": [
    "**Question 8.** Join the `ceo` and `company` tables on the `ticker` column. "
   ]
  },
  {
   "cell_type": "code",
   "execution_count": null,
   "id": "3009ba1a-7598-4f74-b3da-cf73d1a0afcd",
   "metadata": {
    "tags": []
   },
   "outputs": [],
   "source": [
    "ceo_company = ...\n",
    "ceo_company.show(3)"
   ]
  },
  {
   "cell_type": "markdown",
   "id": "d0115b46-8a41-4a64-996f-e4b3d37a9c78",
   "metadata": {},
   "source": [
    "**Question 9.** What are the top three states with the highest number of companies represented in the dataset? "
   ]
  },
  {
   "cell_type": "code",
   "execution_count": null,
   "id": "7ade0867-fc11-4d56-8c6b-1654737bee59",
   "metadata": {
    "tags": []
   },
   "outputs": [],
   "source": [
    "..."
   ]
  },
  {
   "cell_type": "markdown",
   "id": "d989b203-3c71-4d99-b523-3b2a1225cb41",
   "metadata": {},
   "source": [
    "**Question 10.** Create a table showing the top three states by number of companies. For each state, include the number of companies, the highest CEO stock award value, and the average stock award value.\n",
    "\n",
    "| State | Number of Companies | Max Stock Award (in millions) | Mean Stock Award (in millions) |\n",
    "|------:|--------------------:|------------------------------:|-------------------------------:|\n",
    "| CA    | 527                 | 160.54                        | 5.13975                        |\n",
    "| TX    | 59                  | 21.5122                       | 3.72992                        |\n",
    "| NY    | 295                 | 184.999                       | 4.58902                        |"
   ]
  },
  {
   "cell_type": "code",
   "execution_count": null,
   "id": "98bd4817-85c1-4ba6-8a0d-452b68c67cd7",
   "metadata": {
    "tags": []
   },
   "outputs": [],
   "source": [
    "ca = ...\n",
    "ny = ...\n",
    "tx = ...\n",
    "\n",
    "ca_mean  = ...\n",
    "tx_mean  = ...\n",
    "ny_mean  = ...\n",
    "\n",
    "tbl = ...\n",
    "\n",
    "tbl"
   ]
  },
  {
   "cell_type": "markdown",
   "id": "34dc9485-0baf-47f0-972d-04c3ee213978",
   "metadata": {},
   "source": [
    "## Submission\n",
    "\n",
    "Make sure that all cells in your assignment have been executed to display all output, images, and graphs in the final document.\n",
    "\n",
    "**Note:** Save the assignment before proceeding to download the file.\n",
    "\n",
    "After downloading, locate the `.ipynb` file and upload **only** this file to Moodle. The assignment will be automatically submitted to Gradescope for grading."
   ]
  }
 ],
 "metadata": {
  "kernelspec": {
   "display_name": "Python 3 (ipykernel)",
   "language": "python",
   "name": "python3"
  },
  "language_info": {
   "codemirror_mode": {
    "name": "ipython",
    "version": 3
   },
   "file_extension": ".py",
   "mimetype": "text/x-python",
   "name": "python",
   "nbconvert_exporter": "python",
   "pygments_lexer": "ipython3",
   "version": "3.10.11"
  }
 },
 "nbformat": 4,
 "nbformat_minor": 5
}
