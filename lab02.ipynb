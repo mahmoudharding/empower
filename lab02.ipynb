{
 "cells": [
  {
   "cell_type": "markdown",
   "id": "85a8792d-e167-4f1f-a60c-c20a2cf21f3f",
   "metadata": {},
   "source": [
    "# Lab 02\n",
    "\n",
    "## Introduction to Python and Built-in Data Strutures\n",
    "\n",
    "In this assignment, you’ll be introduced to Python and learn how to create, access, and manipulate Python’s built-in data structures.\n",
    "\n",
    "## Guidelines\n",
    "\n",
    "- Follow good programming practices by using descriptive variable names, maintaining appropriate spacing for readability, and adding comments to clarify your code.\n",
    "\n",
    "- Ensure written responses use correct spelling, complete sentences, and proper grammar.\n",
    "\n",
    "**Name:**\n",
    "\n",
    "**Section:**\n",
    "\n",
    "**Date:**\n",
    "\n",
    "Let's get started!"
   ]
  },
  {
   "cell_type": "markdown",
   "id": "0e390b31-e75e-471f-8f7e-42a524217b44",
   "metadata": {},
   "source": [
    "### Variables\n",
    "\n",
    "Variables are used to store information in Python programs. To store a value in a variable we use an assignment statement. An assignment statement has a name on the left side of an `=` sign and an expression to be evaluated on the right. They are particularly helpful when you need to calculate many different things in a row, and also when you need one value to help calculate another.\n",
    "\n",
    "- Variable names can contain uppercase and lowercase letters, the digits 0-9, and underscores.\n",
    "\n",
    "- Variable names can not start with a number.\n",
    "\n",
    "- Variables names are case sensitive\n",
    "\n",
    "- Variables that do not have values yet cause errors when called.\n",
    "\n",
    "### Data Types\n",
    "\n",
    "- Integer (`int`) is used to store whole numbers (e.g., `3`, `-42`)\n",
    "\n",
    "- Float (`float`) is used to store numbers with decimals (e.g., `3.14`, `-0.5`)\n",
    "\n",
    "- String (`str`) is used to store text enclosed in quotes (e.g., `\"hello\"`, `'data'`)\n",
    "\n",
    "- Boolean (`bool`) is used to store truth values: `True` or `False`\n",
    "\n",
    "- None (`NoneType`) is used to represent the absence of a value"
   ]
  },
  {
   "cell_type": "markdown",
   "id": "90f87a35-b0b5-4fb9-bdbf-d1d2c1b257ba",
   "metadata": {},
   "source": [
    "**Question 1.** Assign a value to each variable. Be sure to use the appropriate data type based on the comments and the name of the variable."
   ]
  },
  {
   "cell_type": "code",
   "execution_count": null,
   "id": "f43e6159-c34e-47a4-95a8-1209436a1ac8",
   "metadata": {},
   "outputs": [],
   "source": [
    "# An integer\n",
    "my_int = ...\n",
    "\n",
    "# A float (decimal)\n",
    "my_float = ...\n",
    "\n",
    "# A string\n",
    "my_string = ...\n",
    "\n",
    "# Print output using the print function\n",
    "print(my_int)\n",
    "print(my_float)\n",
    "print(my_string)"
   ]
  },
  {
   "cell_type": "markdown",
   "id": "4040ccaa-1b76-462c-bdd2-b2501ba28144",
   "metadata": {},
   "source": [
    "**Question 2.** We set a variable `pi` to the value 3.14 and another variable `r` to 5. On a following line, assign the variable `sa` to a Python expression that evaluates to the surface area of a sphere with radius 5. **Do not** use the numbers `3.14` or `5` in your expression for `sa`.\n",
    "\n",
    "**Hint**: The formula for the surface area of a sphere with radius $r$ is: \n",
    "\n",
    "$$\\text{Surface Area} = 4 \\pi r^2$$"
   ]
  },
  {
   "cell_type": "code",
   "execution_count": null,
   "id": "89507579-2dd1-46fd-b646-9eef7b350734",
   "metadata": {
    "tags": []
   },
   "outputs": [],
   "source": [
    "pi = ...\n",
    "r = 5\n",
    "\n",
    "sa = ...\n",
    "sa"
   ]
  },
  {
   "cell_type": "markdown",
   "id": "9601b5aa-12e2-43ca-8915-80d8edde7c44",
   "metadata": {},
   "source": [
    "**Question 3.** Use an arithmetic expression to calculate and assign the name seconds_in_a_decade to represent the total number of seconds between midnight January 1, 2020, and midnight January 1, 2030."
   ]
  },
  {
   "cell_type": "code",
   "execution_count": null,
   "id": "53fa8a16-21f2-4ef4-a1c4-c4d9b100e7f6",
   "metadata": {
    "tags": []
   },
   "outputs": [],
   "source": [
    "seconds_in_a_decade = ...\n",
    "\n",
    "# The last line in this cell will print the value\n",
    "# you've given to seconds_in_a_decade when you run it.  \n",
    "# You don't need to change this.\n",
    "seconds_in_a_decade"
   ]
  },
  {
   "cell_type": "markdown",
   "id": "af6a5503-40f4-4fc0-9a50-5e4037b57a2d",
   "metadata": {
    "tags": []
   },
   "source": [
    "#### Strings\n",
    "\n",
    "In Python, **strings** are sequences of characters enclosed in quotes, used to store and manipulate text. You can **concatenate** (join) strings using the `+` operator, which combines them into one longer string. For example, `\"Hello, \" + \"world!\"` results in `\"Hello, world!\"`.\n",
    "\n",
    "Run the cell below to see another example."
   ]
  },
  {
   "cell_type": "code",
   "execution_count": null,
   "id": "95efa846-e8fb-4142-9086-561e43f4a629",
   "metadata": {
    "tags": []
   },
   "outputs": [],
   "source": [
    "'Minnesota' + 'Lynx'"
   ]
  },
  {
   "cell_type": "markdown",
   "id": "fc10a9c6-b1a9-4454-8245-2e81346ef621",
   "metadata": {},
   "source": [
    "If you wanted a space between the city and the team name I can add it to either the first or the second string.\n",
    "\n",
    "Run the next two cells."
   ]
  },
  {
   "cell_type": "code",
   "execution_count": null,
   "id": "2d044c43-a2af-4b1e-80c9-195993b91006",
   "metadata": {
    "tags": []
   },
   "outputs": [],
   "source": [
    "# Space added tot the first string\n",
    "'Minnesota ' + 'Lynx'"
   ]
  },
  {
   "cell_type": "code",
   "execution_count": null,
   "id": "9835aac9-7964-4e74-b792-63bc498bea48",
   "metadata": {
    "tags": []
   },
   "outputs": [],
   "source": [
    "# Space added tot the second string\n",
    "'Minnesota' + ' Lynx'"
   ]
  },
  {
   "cell_type": "markdown",
   "id": "3662b4ac-4ede-41c9-bb78-c07ca848337d",
   "metadata": {},
   "source": [
    "**Question 4.** Assign your first and last name to the variables listed (`first` & `last`). Then write an expression to concatenate your first and last name and display your fll name with a space between."
   ]
  },
  {
   "cell_type": "code",
   "execution_count": null,
   "id": "9fbcf4a1-e103-47c1-8f12-3cfcd084f6fd",
   "metadata": {
    "tags": []
   },
   "outputs": [],
   "source": [
    "first = ...\n",
    "last = ...\n",
    "\n",
    "first + last"
   ]
  },
  {
   "cell_type": "markdown",
   "id": "9255345b-8880-49df-a3a6-c095788bf9a1",
   "metadata": {},
   "source": [
    "### Data Structures\n",
    "\n",
    "- List\n",
    "\n",
    "- Tuple\n",
    "\n",
    "- Dictionary \n",
    "\n",
    "#### List\n",
    "\n",
    "- A list is used to store multiple values in a single value or variable. \n",
    "\n",
    "- To create a list use square brackets.\n",
    "\n",
    "- Lists can contain elements of different types.\n",
    "\n",
    "- List items are indexed beginning with 0.\n",
    "\n",
    "Run the code cell below to create a list of 10 colleges in Minnesota."
   ]
  },
  {
   "cell_type": "code",
   "execution_count": null,
   "id": "36c6536f-942b-4395-bbba-a03e687a14a0",
   "metadata": {
    "tags": []
   },
   "outputs": [],
   "source": [
    "colleges_mn = [\n",
    "    \"University of Minnesota-Duluth\",\n",
    "    \"Minneapolis College of Art and Design\",\n",
    "    \"Southwest Minnesota State University\",\n",
    "    \"Capella University\",\n",
    "    \"Concordia College at Moorhead\",\n",
    "    \"Bethel University\",\n",
    "    \"Crown College\",\n",
    "    \"Saint Mary's University of Minnesota\",\n",
    "    \"Augsburg University\",\n",
    "    \"Rasmussen University-Minnesota\"\n",
    "]"
   ]
  },
  {
   "cell_type": "code",
   "execution_count": null,
   "id": "e21e8583-13dc-4381-ba74-d55f1e216b4a",
   "metadata": {
    "tags": []
   },
   "outputs": [],
   "source": [
    "colleges_mn"
   ]
  },
  {
   "cell_type": "markdown",
   "id": "efdab866-2bfc-46b6-a45c-9c3c29d470fc",
   "metadata": {},
   "source": [
    "The first item in the list has index position 0. Run the cell below to see."
   ]
  },
  {
   "cell_type": "code",
   "execution_count": null,
   "id": "bb426f96-c4c9-4f55-be04-32fdcf1d3d06",
   "metadata": {
    "tags": []
   },
   "outputs": [],
   "source": [
    "colleges_mn[0]"
   ]
  },
  {
   "cell_type": "markdown",
   "id": "2a1f5ab5-e471-4b8f-80b9-6fbbeda6514f",
   "metadata": {},
   "source": [
    "The second item in the list has index position 1. Run the cell below to see."
   ]
  },
  {
   "cell_type": "code",
   "execution_count": null,
   "id": "dc896c32-e331-4994-9a7b-ac557bf82fb9",
   "metadata": {
    "tags": []
   },
   "outputs": [],
   "source": [
    "colleges_mn[1]"
   ]
  },
  {
   "cell_type": "markdown",
   "id": "6574cbcc-b8f7-4e3f-ac89-f35b7bddb067",
   "metadata": {},
   "source": [
    "#### `for` Loop\n",
    "\n",
    "A `for` loop in Python is used to iterate over a sequence, such as a list, string, etc. It automatically loops through each item in the sequence without needing an explicit counter."
   ]
  },
  {
   "cell_type": "code",
   "execution_count": null,
   "id": "fe1d04fc-77de-4079-b796-eb51be4d43f1",
   "metadata": {
    "tags": []
   },
   "outputs": [],
   "source": [
    "for name in colleges_mn:\n",
    "    print(name)"
   ]
  },
  {
   "cell_type": "markdown",
   "id": "3733cc32-f62d-46e8-aaae-b8afb5e09d2d",
   "metadata": {},
   "source": [
    "We can also iterate through a list by accessing its elements using their index positions. This allows us to work directly with the indices, which can be useful when both the element and its position are needed."
   ]
  },
  {
   "cell_type": "code",
   "execution_count": null,
   "id": "c6b847c6-3b63-4a25-83e2-851afdc1fd30",
   "metadata": {
    "tags": []
   },
   "outputs": [],
   "source": [
    "# Use the len() function to get the number of elements in \n",
    "# the colleges_mn list.\n",
    "# This will return the total count of words in the list.\n",
    "len(colleges_mn)"
   ]
  },
  {
   "cell_type": "code",
   "execution_count": null,
   "id": "0b7ec14e-0e89-40f0-8bb9-bfd67e9c5d92",
   "metadata": {
    "tags": []
   },
   "outputs": [],
   "source": [
    "# The range() function generates a sequence of numbers starting from 0 up to (but not including) 9.\n",
    "# In this case, it will generate the numbers 0, 1, 2, 3, 4, 5, 6, 7, 8.\n",
    "range(9)"
   ]
  },
  {
   "cell_type": "code",
   "execution_count": null,
   "id": "0937f2f5-03fe-4bf3-b41a-2d46e424b8c9",
   "metadata": {
    "tags": []
   },
   "outputs": [],
   "source": [
    "# The range() function generates a sequence of numbers from 0 up to (but not including) the \n",
    "# length of the random_words list.\n",
    "# This will create a sequence of indices corresponding to each position in the list random_words.\n",
    "range(len(colleges_mn))"
   ]
  },
  {
   "cell_type": "markdown",
   "id": "eae10036-a9d2-4451-a604-3b4b85d56666",
   "metadata": {
    "tags": []
   },
   "source": [
    "Iterate over the indices of the random_words list using the range() function and len().\n",
    "\n",
    "```python\n",
    "for i in range(len(colleges_mn)):\n",
    "    print(f\"{i:<3} {colleges_mn[i]:<40} {i + 1:>3}\")\n",
    "```\n",
    "\n",
    "For each iteration, print the current index (`i`), the word at that index in `colleges_mn`, and the index plus 1 (`i + 1`), to display the position in a 1-based format.\n",
    "\n",
    "| Component              | Meaning                                                              |\n",
    "| ---------------------- | -------------------------------------------------------------------- |\n",
    "| `f\"...\"`               | This is a formatted string literal (`f-`string).                     |\n",
    "| `{i:<3}`               | Prints `i`, left-aligned in a field 3 characters wide.               |\n",
    "| `{colleges_mn[i]:<40}` | Prints the college name, left-aligned in a field 40 characters wide. |\n",
    "| `{i + 1:>3}`           | Prints `i + 1`, right-aligned in a field 3 characters wide.          |\n",
    "\n",
    "Run the code below."
   ]
  },
  {
   "cell_type": "code",
   "execution_count": null,
   "id": "3a385658-4dac-4e83-a0a5-337a2e08c623",
   "metadata": {
    "tags": []
   },
   "outputs": [],
   "source": [
    "for i in range(len(colleges_mn)):\n",
    "    print(f\"{i:<3} {colleges_mn[i]:<40} {i + 1:>3}\")"
   ]
  },
  {
   "cell_type": "markdown",
   "id": "3a8f6897-a43c-4346-bf4c-abe0124c56fa",
   "metadata": {},
   "source": [
    "Lists are a versatile data structure in Python that allow us to store and manipulate collections of data. This list below represents information about the University of Minnesota-Twin Cities."
   ]
  },
  {
   "cell_type": "code",
   "execution_count": null,
   "id": "0abb1498-c9e9-4d5c-85a0-0d71e4fa6468",
   "metadata": {
    "tags": []
   },
   "outputs": [],
   "source": [
    "um_tc = [\n",
    "    \"University of Minnesota-Twin Cities\",\n",
    "    \"Minneapolis\",\n",
    "    16.75,\n",
    "    1.7,\n",
    "    \"Graduate\",\n",
    "    \"Public\",\n",
    "    \"No\",\n",
    "    69.64\n",
    "]"
   ]
  },
  {
   "cell_type": "markdown",
   "id": "f4ae0a5c-9ce1-4ade-a136-36901d740df3",
   "metadata": {},
   "source": [
    "**Question 5.** Write a `for` loop to iterate over all the values in the `um_tc` list."
   ]
  },
  {
   "cell_type": "code",
   "execution_count": null,
   "id": "e6554313-27f7-4e06-8853-a592e2f55cc8",
   "metadata": {},
   "outputs": [],
   "source": [
    "..."
   ]
  },
  {
   "cell_type": "markdown",
   "id": "858dd1b7-0674-4794-9d58-e44ee869ce29",
   "metadata": {},
   "source": [
    "We see that this list contains both numbers and strings. However, there is no information about what each value represents. To add this information to our list we can use a nested listed\n",
    "\n",
    "#### Nested Lists\n",
    "\n",
    "In Python, nested lists are lists that contain other lists as their elements, allowing you to create multi-dimensional structures like matrices or tables. You can access elements in a nested list using multiple indices, for example, `my_list[0][1]` accesses the second element of the first inner list."
   ]
  },
  {
   "cell_type": "code",
   "execution_count": null,
   "id": "665b2b10-5546-4eb2-be2f-6313bbfa9f27",
   "metadata": {
    "tags": []
   },
   "outputs": [],
   "source": [
    "colleges_list = [\n",
    "    ['name', 'city', 'median_debt', 'default_rate', 'highest_degree', 'ownership', 'hbcu', 'admit_rate'],\n",
    "    [\"University of Minnesota-Twin Cities\", \"Minneapolis\", 16.75, 16.75, 1.7, \"Graduate\", \"Public\", \"No\", 69.64]\n",
    "]"
   ]
  },
  {
   "cell_type": "markdown",
   "id": "c57cdfde-0adb-4615-a862-7b7bb88972ab",
   "metadata": {},
   "source": [
    "**Question 6.** Write a `for` loop to iterate over all the values in `colleges_list` and display the contents like this:\n",
    "\n",
    "```python\n",
    "name: University of Minnesota-Twin Cities\n",
    "city: Minneapolis\n",
    "median_debt: 16.75\n",
    "default_rate: 1.7\n",
    "highest_degree: Graduate\n",
    "ownership: Public\n",
    "hbcu: No\n",
    "admit_rate: 69.64\n",
    "```\n",
    "\n",
    "**Hint:** Your data is a nested list where one list for the headers and one list for the row of data. Use indexing to grab each one:\n",
    "\n",
    "- `colleges_list[0]` is the first list, which contains the column names (`headers`).\n",
    "- `colleges_list[1]` is the second list, which contains the values (`row`)."
   ]
  },
  {
   "cell_type": "code",
   "execution_count": null,
   "id": "6a36ed5e-96b1-44a1-b369-a8c756ba0bd7",
   "metadata": {
    "tags": []
   },
   "outputs": [],
   "source": [
    "headers = ...\n",
    "row = ...\n",
    "\n",
    "..."
   ]
  },
  {
   "cell_type": "markdown",
   "id": "dff9a526-931f-4cf1-860e-80ff71ad682c",
   "metadata": {
    "tags": []
   },
   "source": [
    "#### Tuple\n",
    "\n",
    "- A tuple is used to store multiple values in a single value or variable. \n",
    "\n",
    "- To create a tuple use parenthesis.\n",
    "\n",
    "- Tuples can contain elements of different types.\n",
    "\n",
    "- Tuple items are indexed beginning with 0."
   ]
  },
  {
   "cell_type": "code",
   "execution_count": 1,
   "id": "c4c48355-13ba-4ffd-ac6f-173d9d300340",
   "metadata": {
    "tags": []
   },
   "outputs": [
    {
     "data": {
      "text/plain": [
       "('University of Minnesota-Twin Cities',\n",
       " 'Minneapolis',\n",
       " 'Minnesota Golden Gophers')"
      ]
     },
     "execution_count": 1,
     "metadata": {},
     "output_type": "execute_result"
    }
   ],
   "source": [
    "colleges_tup = (\"University of Minnesota-Twin Cities\", \"Minneapolis\", \"Minnesota Golden Gophers\")\n",
    "colleges_tup"
   ]
  },
  {
   "cell_type": "markdown",
   "id": "01ca7a63-c666-42c5-8a8e-d659390fa22b",
   "metadata": {},
   "source": [
    "**Question 7.** Access the last value in `colleges_tup`."
   ]
  },
  {
   "cell_type": "code",
   "execution_count": 2,
   "id": "46716fa8-7033-49da-a0c0-2e0ed978d060",
   "metadata": {},
   "outputs": [
    {
     "data": {
      "text/plain": [
       "'Minnesota Golden Gophers'"
      ]
     },
     "execution_count": 2,
     "metadata": {},
     "output_type": "execute_result"
    }
   ],
   "source": [
    "..."
   ]
  },
  {
   "cell_type": "markdown",
   "id": "8b72081e-18df-4c38-afa1-01ad0248532d",
   "metadata": {
    "tags": []
   },
   "source": [
    "#### Dictionary\n",
    "\n",
    "- A collection of key-value pairs.\n",
    "\n",
    "- A key is used to look up values.\n",
    "\n",
    "- A value can be numbers, strings, lists, or even other dictionaries."
   ]
  },
  {
   "cell_type": "code",
   "execution_count": null,
   "id": "e99f1f0b-4aaa-4d2c-a63e-33f05f17af95",
   "metadata": {
    "tags": []
   },
   "outputs": [],
   "source": [
    "colleges_dict = {\n",
    "    'name': 'University of Minnesota-Twin Cities',\n",
    "    'city': 'Minneapolis',\n",
    "    'median_debt': 16.75,\n",
    "    'default_rate': 1.7,\n",
    "    'highest_degree': 'Graduate',\n",
    "    'ownership': 'Public',\n",
    "    'hbcu': 'No',\n",
    "    'admit_rate': 69.64\n",
    "}\n",
    "\n",
    "colleges_dict"
   ]
  },
  {
   "cell_type": "markdown",
   "id": "d7ca09c2-b3fa-4e75-9f0e-6c9e00af6d4a",
   "metadata": {},
   "source": [
    "We use the key to access values in a dictionary. For example,\n",
    "\n",
    "```python\n",
    "colleges_dict['name']\n",
    "```\n",
    "\n",
    "returns `'University of Minnesota-Twin Cities'`"
   ]
  },
  {
   "cell_type": "markdown",
   "id": "0761dfbb-406a-41e7-94c5-de80f2838ddd",
   "metadata": {
    "tags": []
   },
   "source": [
    "We can access all the keys with the `.keys()` method and we can access all the values with the `.values()` method."
   ]
  },
  {
   "cell_type": "code",
   "execution_count": null,
   "id": "17384b83-d223-42dc-9fbc-55aac8bb7268",
   "metadata": {
    "tags": []
   },
   "outputs": [],
   "source": [
    "colleges_dict.keys()"
   ]
  },
  {
   "cell_type": "code",
   "execution_count": null,
   "id": "1ce7b29f-daf7-46b2-8f98-96848925c4bf",
   "metadata": {
    "tags": []
   },
   "outputs": [],
   "source": [
    "colleges_dict.values()"
   ]
  },
  {
   "cell_type": "markdown",
   "id": "4a97abb8-ffeb-4e09-9076-d8cc662e1cc0",
   "metadata": {},
   "source": [
    "**Question 8.** Write a `for` loop to iterate over all the values in `colleges_dict` and display the contents like this:\n",
    "\n",
    "```\n",
    " 'name': 'University of Minnesota-Twin Cities',\n",
    " 'city': 'Minneapolis',\n",
    " 'median_debt': 16.75,\n",
    " 'default_rate': 1.7,\n",
    " 'highest_degree': 'Graduate',\n",
    " 'ownership': 'Public',\n",
    " 'hbcu': 'No',\n",
    " 'admit_rate': 69.64\n",
    "```"
   ]
  },
  {
   "cell_type": "code",
   "execution_count": null,
   "id": "a8a1520b-1ac2-4a67-ab60-cbb1bfa30cac",
   "metadata": {
    "tags": []
   },
   "outputs": [],
   "source": [
    "..."
   ]
  },
  {
   "cell_type": "markdown",
   "id": "6facc193-6b1c-4581-aaa7-8208386aa327",
   "metadata": {},
   "source": [
    "When the U.S. Department of Education collects data from colleges and universities, each institution is assigned a unique identifier code. You can explore the full list of institutions and their data at [College Scorecard](https://collegescorecard.ed.gov/). For this example, we’ve selected three universities to work with."
   ]
  },
  {
   "cell_type": "code",
   "execution_count": null,
   "id": "7da16252-83b7-44f0-bd82-d84ac96e9b41",
   "metadata": {
    "tags": []
   },
   "outputs": [],
   "source": [
    "colleges_mn_dict = {\n",
    "    905800: {\n",
    "        'name': 'Bethel University',\n",
    "        'city': 'Saint Paul',\n",
    "        'median_debt': 17.827,\n",
    "        'default_rate': 1.9,\n",
    "        'highest_degree': 'Graduate',\n",
    "        'ownership': 'Private nonprofit',\n",
    "        'admit_rate': 86.63\n",
    "    },\n",
    "    236000: {\n",
    "        'name': 'Minnesota State University-Mankato',\n",
    "        'city': 'Mankato',\n",
    "        'median_debt': 14.995,\n",
    "        'default_rate': 3.6,\n",
    "        'highest_degree': 'Graduate',\n",
    "        'ownership': 'Public',\n",
    "        'admit_rate': 67.26\n",
    "    },\n",
    "    396900: {\n",
    "        'name': 'University of Minnesota-Twin Cities',\n",
    "        'city': 'Minneapolis',\n",
    "        'median_debt': 16.75,\n",
    "        'default_rate': 1.7,\n",
    "        'highest_degree': 'Graduate',\n",
    "        'ownership': 'Public',\n",
    "        'admit_rate': 69.64\n",
    "    }\n",
    "}"
   ]
  },
  {
   "cell_type": "markdown",
   "id": "a8c3b5b2-6b74-4de5-846e-fbc580510bf0",
   "metadata": {},
   "source": [
    "**Question 9.** Use code to determine the mean admission rate for all three colleges in `colleges_mn_dict`."
   ]
  },
  {
   "cell_type": "code",
   "execution_count": null,
   "id": "939c0fb9-7555-47ab-95e3-6ffb04077548",
   "metadata": {},
   "outputs": [],
   "source": [
    "..."
   ]
  },
  {
   "cell_type": "markdown",
   "id": "856cf8bf-f6bb-4369-b36d-3f564e33d906",
   "metadata": {},
   "source": [
    "**Question 10.** Use code to determine the maximum default rate amonget all three colleges in `colleges_mn_dict`."
   ]
  },
  {
   "cell_type": "code",
   "execution_count": null,
   "id": "a513441d-0669-4b2f-9164-10cb28cbf4cd",
   "metadata": {},
   "outputs": [],
   "source": [
    "..."
   ]
  },
  {
   "cell_type": "markdown",
   "id": "2010f5b5-967a-4f91-a60e-4a7eec80f813",
   "metadata": {},
   "source": [
    "## Submission\n",
    "\n",
    "Make sure that all cells in your assignment have been executed to display all output, images, and graphs in the final document.\n",
    "\n",
    "**Note:** Save the assignment before proceeding to download the file.\n",
    "\n",
    "After downloading, locate the `.ipynb` file and upload **only** this file to Moodle. The assignment will be automatically submitted to Gradescope for grading."
   ]
  }
 ],
 "metadata": {
  "kernelspec": {
   "display_name": "Python 3 (ipykernel)",
   "language": "python",
   "name": "python3"
  },
  "language_info": {
   "codemirror_mode": {
    "name": "ipython",
    "version": 3
   },
   "file_extension": ".py",
   "mimetype": "text/x-python",
   "name": "python",
   "nbconvert_exporter": "python",
   "pygments_lexer": "ipython3",
   "version": "3.10.11"
  }
 },
 "nbformat": 4,
 "nbformat_minor": 5
}
