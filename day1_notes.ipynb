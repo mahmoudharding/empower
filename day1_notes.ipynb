{
 "cells": [
  {
   "cell_type": "markdown",
   "id": "d1e71472-db46-459e-9bd6-b41f8665044a",
   "metadata": {},
   "source": [
    "# Free Style\n",
    "\n",
    "## Data Moves\n",
    "\n",
    "- Summarize"
   ]
  },
  {
   "cell_type": "code",
   "execution_count": 4,
   "id": "fe656dc8-f800-4517-8d98-6c2833a9081b",
   "metadata": {},
   "outputs": [],
   "source": [
    "# Import the datascience package\n",
    "from datascience import *"
   ]
  },
  {
   "cell_type": "markdown",
   "id": "5b5200fa-1868-4040-8597-d7f807412391",
   "metadata": {},
   "source": [
    "[Updated Starwars Datasheet](https://docs.google.com/document/d/1KPNLPbQR85ED2H_vL5qaP1grrQ_gxabkkuR2FG9ZrpM/edit?tab=t.0)"
   ]
  },
  {
   "cell_type": "code",
   "execution_count": 5,
   "id": "d0bcb412-e239-4d1f-8729-5eec8e6fe399",
   "metadata": {},
   "outputs": [],
   "source": [
    "sw = Table.read_table('data/updated_starwars.csv')"
   ]
  },
  {
   "cell_type": "code",
   "execution_count": 6,
   "id": "7c250866-32cf-4620-8859-6450141adfe7",
   "metadata": {},
   "outputs": [
    {
     "data": {
      "text/html": [
       "<table border=\"1\" class=\"dataframe\">\n",
       "    <thead>\n",
       "        <tr>\n",
       "            <th>name</th> <th>height</th> <th>mass</th> <th>hair_color</th> <th>skin_color</th> <th>eye_color</th> <th>birth_year</th> <th>birth_era</th> <th>birth_place</th> <th>death_year</th> <th>death_era</th> <th>death_place</th> <th>sex</th> <th>gender</th> <th>pronoun</th> <th>homeworld</th> <th>species</th> <th>occupation</th> <th>cybernetics</th> <th>abilities</th> <th>equipment</th> <th>films</th> <th>vehicles</th> <th>starships</th> <th>photo</th>\n",
       "        </tr>\n",
       "    </thead>\n",
       "    <tbody>\n",
       "        <tr>\n",
       "            <td>Luke Skywalker</td> <td>172   </td> <td>77  </td> <td>blond     </td> <td>light              </td> <td>blue     </td> <td>19        </td> <td>BBY      </td> <td>Polis Massa</td> <td>34        </td> <td>ABY      </td> <td>Ahch-To    </td> <td>male</td> <td>masculine</td> <td>he/him </td> <td>Tatooine </td> <td>Human  </td> <td>Jedi Master    </td> <td>Prosthetic right hand</td> <td>Lightsaber abilities, Force powers, Other abilities</td> <td>Lightsabers, Blasters                                       </td> <td>A New Hope, The Empire Strikes Back, Return of the Jedi, ...</td> <td>Snowspeeder, Imperial Speeder Bike</td> <td>X-wing, Imperial shuttle</td> <td>https://static.wikia.nocookie.net/starwars/images/d/d9/L ...</td>\n",
       "        </tr>\n",
       "        <tr>\n",
       "            <td>C-3PO         </td> <td>167   </td> <td>75  </td> <td>nan       </td> <td>gold               </td> <td>yellow   </td> <td>112       </td> <td>BBY      </td> <td>Affa       </td> <td>3         </td> <td>ABY      </td> <td>Bespin     </td> <td>none</td> <td>masculine</td> <td>he/him </td> <td>Tatooine </td> <td>Droid  </td> <td>Protocol droid </td> <td>nan                  </td> <td>Language known, Other skills                       </td> <td>nan                                                         </td> <td>A New Hope, The Empire Strikes Back, Return of the Jedi, ...</td> <td>nan                               </td> <td>nan                     </td> <td>https://static.wikia.nocookie.net/starwars/images/5/51/C ...</td>\n",
       "        </tr>\n",
       "        <tr>\n",
       "            <td>R2-D2         </td> <td>96    </td> <td>32  </td> <td>nan       </td> <td>blue, silver, white</td> <td>red      </td> <td>33        </td> <td>BBY      </td> <td>nan        </td> <td>20        </td> <td>BBY      </td> <td>Carida     </td> <td>none</td> <td>masculine</td> <td>he/him </td> <td>Naboo    </td> <td>Droid  </td> <td>Astromech droid</td> <td>nan                  </td> <td>nan                                                </td> <td>Buzz saw, Electric pike, Drinks tray, Fusion welder, Sco ...</td> <td>A New Hope, The Empire Strikes Back, Return of the Jedi, ...</td> <td>nan                               </td> <td>nan                     </td> <td>https://static.wikia.nocookie.net/starwars/images/6/6d/R ...</td>\n",
       "        </tr>\n",
       "    </tbody>\n",
       "</table>\n",
       "<p>... (84 rows omitted)</p>"
      ],
      "text/plain": [
       "<IPython.core.display.HTML object>"
      ]
     },
     "metadata": {},
     "output_type": "display_data"
    }
   ],
   "source": [
    "sw.show(3)"
   ]
  },
  {
   "cell_type": "code",
   "execution_count": 7,
   "id": "f1368854-19ad-4957-9fad-b9625c5fd911",
   "metadata": {},
   "outputs": [
    {
     "data": {
      "text/plain": [
       "87"
      ]
     },
     "execution_count": 7,
     "metadata": {},
     "output_type": "execute_result"
    }
   ],
   "source": [
    "sw.num_rows"
   ]
  },
  {
   "cell_type": "code",
   "execution_count": 8,
   "id": "492b6b23-52f5-4824-8377-d47b4adc7f66",
   "metadata": {},
   "outputs": [
    {
     "data": {
      "text/plain": [
       "25"
      ]
     },
     "execution_count": 8,
     "metadata": {},
     "output_type": "execute_result"
    }
   ],
   "source": [
    "sw.num_columns"
   ]
  },
  {
   "cell_type": "code",
   "execution_count": 9,
   "id": "4be30236-c313-4982-a30b-943882548850",
   "metadata": {},
   "outputs": [
    {
     "data": {
      "text/plain": [
       "('name',\n",
       " 'height',\n",
       " 'mass',\n",
       " 'hair_color',\n",
       " 'skin_color',\n",
       " 'eye_color',\n",
       " 'birth_year',\n",
       " 'birth_era',\n",
       " 'birth_place',\n",
       " 'death_year',\n",
       " 'death_era',\n",
       " 'death_place',\n",
       " 'sex',\n",
       " 'gender',\n",
       " 'pronoun',\n",
       " 'homeworld',\n",
       " 'species',\n",
       " 'occupation',\n",
       " 'cybernetics',\n",
       " 'abilities',\n",
       " 'equipment',\n",
       " 'films',\n",
       " 'vehicles',\n",
       " 'starships',\n",
       " 'photo')"
      ]
     },
     "execution_count": 9,
     "metadata": {},
     "output_type": "execute_result"
    }
   ],
   "source": [
    "sw.labels"
   ]
  },
  {
   "cell_type": "code",
   "execution_count": 10,
   "id": "6b93bcfa-d921-4583-a518-42882d1a09c5",
   "metadata": {},
   "outputs": [],
   "source": [
    "# Import numpy\n",
    "import numpy as np"
   ]
  },
  {
   "cell_type": "code",
   "execution_count": 11,
   "id": "ebb16321-174a-4acd-8338-85e5a7cb58af",
   "metadata": {},
   "outputs": [
    {
     "data": {
      "text/plain": [
       "array([ 172.,  167.,   96.,  202.,  150.,  178.,  165.,   97.,  183.,\n",
       "        182.,  188.,  180.,  228.,  180.,  173.,  175.,  170.,  180.,\n",
       "         66.,  173.,  183.,  200.,  190.,  177.,  175.,  180.,  150.,\n",
       "         nan,   80.,  160.,  193.,  191.,  170.,  165.,  196.,  224.,\n",
       "        206.,  183.,  137.,  112.,  183.,  163.,  175.,  188.,  170.,\n",
       "         79.,   94.,  122.,  163.,  192.,  201.,  196.,  187.,  184.,\n",
       "        188.,  264.,  188.,  196.,  185.,  157.,  183.,  183.,  170.,\n",
       "        166.,  165.,  196.,  191.,  183.,  168.,  198.,  229.,  213.,\n",
       "        167.,   96.,  193.,  191.,  178.,  216.,  234.,  188.,  178.,\n",
       "        206.,  178.,  170.,  172.,   67.,  200.])"
      ]
     },
     "execution_count": 11,
     "metadata": {},
     "output_type": "execute_result"
    }
   ],
   "source": [
    "sw.column('height')"
   ]
  },
  {
   "cell_type": "code",
   "execution_count": 12,
   "id": "dab58e4a-67d9-48b5-a213-675d0ab3f3da",
   "metadata": {},
   "outputs": [
    {
     "data": {
      "text/plain": [
       "173.61627906976744"
      ]
     },
     "execution_count": 12,
     "metadata": {},
     "output_type": "execute_result"
    }
   ],
   "source": [
    "np.nanmean(sw.column('height'))"
   ]
  },
  {
   "cell_type": "code",
   "execution_count": 13,
   "id": "4009c989-034b-4668-9260-9f32fb7e0a9a",
   "metadata": {},
   "outputs": [
    {
     "data": {
      "text/plain": [
       "173.62"
      ]
     },
     "execution_count": 13,
     "metadata": {},
     "output_type": "execute_result"
    }
   ],
   "source": [
    "round(np.nanmean(sw.column('height')), 2)"
   ]
  },
  {
   "cell_type": "code",
   "execution_count": 14,
   "id": "c75eb1f4-4b26-4a49-b366-14f66d55e74d",
   "metadata": {},
   "outputs": [
    {
     "data": {
      "text/plain": [
       "173.62"
      ]
     },
     "execution_count": 14,
     "metadata": {},
     "output_type": "execute_result"
    }
   ],
   "source": [
    "avg_heights = sw.column('height')\n",
    "mean_height = np.nanmean(avg_heights)\n",
    "round(mean_height, 2)"
   ]
  },
  {
   "cell_type": "code",
   "execution_count": 15,
   "id": "8fdbaa54-a341-4446-b93e-b8fe355b63c5",
   "metadata": {},
   "outputs": [
    {
     "data": {
      "text/plain": [
       "66.0"
      ]
     },
     "execution_count": 15,
     "metadata": {},
     "output_type": "execute_result"
    }
   ],
   "source": [
    "np.nanmin(sw.column('height'))"
   ]
  },
  {
   "cell_type": "code",
   "execution_count": 16,
   "id": "457f2ce1-abc8-4160-93e0-4e0c92dfaf48",
   "metadata": {},
   "outputs": [
    {
     "data": {
      "text/plain": [
       "264.0"
      ]
     },
     "execution_count": 16,
     "metadata": {},
     "output_type": "execute_result"
    }
   ],
   "source": [
    "np.nanmax(sw.column('height'))"
   ]
  },
  {
   "cell_type": "code",
   "execution_count": 17,
   "id": "254a2e62-d93a-4674-8592-bc14ec1ee3d5",
   "metadata": {},
   "outputs": [],
   "source": [
    "# Import matplotlib.pyplot\n",
    "import matplotlib.pyplot as plt\n",
    "%matplotlib inline"
   ]
  },
  {
   "cell_type": "code",
   "execution_count": 18,
   "id": "5b3a5092-ecb5-4443-b3de-3bf1fc82021c",
   "metadata": {},
   "outputs": [
    {
     "data": {
      "image/png": "[encoded data removed]",
      "text/plain": [
       "<Figure size 600x400 with 1 Axes>"
      ]
     },
     "metadata": {},
     "output_type": "display_data"
    }
   ],
   "source": [
    "sw.hist('height')"
   ]
  },
  {
   "cell_type": "code",
   "execution_count": 19,
   "id": "00a13fcb",
   "metadata": {},
   "outputs": [
    {
     "data": {
      "image/png": "[encoded data removed]",
      "text/plain": [
       "<Figure size 600x400 with 1 Axes>"
      ]
     },
     "metadata": {},
     "output_type": "display_data"
    }
   ],
   "source": [
    "sw.hist('height', bins = 15)"
   ]
  },
  {
   "cell_type": "code",
   "execution_count": 20,
   "id": "9a0d1710",
   "metadata": {},
   "outputs": [
    {
     "data": {
      "image/png": "[encoded data removed]",
      "text/plain": [
       "<Figure size 600x400 with 1 Axes>"
      ]
     },
     "metadata": {},
     "output_type": "display_data"
    }
   ],
   "source": [
    "sw.hist('height', bins = 5)"
   ]
  },
  {
   "cell_type": "code",
   "execution_count": 21,
   "id": "59c877e6",
   "metadata": {},
   "outputs": [
    {
     "data": {
      "image/png": "[encoded data removed]",
      "text/plain": [
       "<Figure size 600x400 with 1 Axes>"
      ]
     },
     "metadata": {},
     "output_type": "display_data"
    }
   ],
   "source": [
    "sw.hist('height', bins = 3)"
   ]
  },
  {
   "cell_type": "code",
   "execution_count": 22,
   "id": "d1a3a4e7-d5a5-41a8-b2c4-fe83c1b67de6",
   "metadata": {},
   "outputs": [
    {
     "data": {
      "text/plain": [
       "('name',\n",
       " 'height',\n",
       " 'mass',\n",
       " 'hair_color',\n",
       " 'skin_color',\n",
       " 'eye_color',\n",
       " 'birth_year',\n",
       " 'birth_era',\n",
       " 'birth_place',\n",
       " 'death_year',\n",
       " 'death_era',\n",
       " 'death_place',\n",
       " 'sex',\n",
       " 'gender',\n",
       " 'pronoun',\n",
       " 'homeworld',\n",
       " 'species',\n",
       " 'occupation',\n",
       " 'cybernetics',\n",
       " 'abilities',\n",
       " 'equipment',\n",
       " 'films',\n",
       " 'vehicles',\n",
       " 'starships',\n",
       " 'photo')"
      ]
     },
     "execution_count": 22,
     "metadata": {},
     "output_type": "execute_result"
    }
   ],
   "source": [
    "sw.labels"
   ]
  },
  {
   "cell_type": "code",
   "execution_count": 23,
   "id": "6ed79c57-3ca0-40c1-9bd4-6410eb67e1b8",
   "metadata": {},
   "outputs": [
    {
     "data": {
      "text/html": [
       "<table border=\"1\" class=\"dataframe\">\n",
       "    <thead>\n",
       "        <tr>\n",
       "            <th>species</th> <th>count</th>\n",
       "        </tr>\n",
       "    </thead>\n",
       "    <tbody>\n",
       "        <tr>\n",
       "            <td>Aleena   </td> <td>1    </td>\n",
       "        </tr>\n",
       "        <tr>\n",
       "            <td>Besalisk </td> <td>1    </td>\n",
       "        </tr>\n",
       "        <tr>\n",
       "            <td>Cerean   </td> <td>1    </td>\n",
       "        </tr>\n",
       "        <tr>\n",
       "            <td>Chagrian </td> <td>1    </td>\n",
       "        </tr>\n",
       "        <tr>\n",
       "            <td>Clawdite </td> <td>1    </td>\n",
       "        </tr>\n",
       "        <tr>\n",
       "            <td>Droid    </td> <td>6    </td>\n",
       "        </tr>\n",
       "        <tr>\n",
       "            <td>Dug      </td> <td>1    </td>\n",
       "        </tr>\n",
       "        <tr>\n",
       "            <td>Ewok     </td> <td>1    </td>\n",
       "        </tr>\n",
       "        <tr>\n",
       "            <td>Geonosian</td> <td>1    </td>\n",
       "        </tr>\n",
       "        <tr>\n",
       "            <td>Gungan   </td> <td>3    </td>\n",
       "        </tr>\n",
       "    </tbody>\n",
       "</table>\n",
       "<p>... (29 rows omitted)</p>"
      ],
      "text/plain": [
       "species   | count\n",
       "Aleena    | 1\n",
       "Besalisk  | 1\n",
       "Cerean    | 1\n",
       "Chagrian  | 1\n",
       "Clawdite  | 1\n",
       "Droid     | 6\n",
       "Dug       | 1\n",
       "Ewok      | 1\n",
       "Geonosian | 1\n",
       "Gungan    | 3\n",
       "... (29 rows omitted)"
      ]
     },
     "execution_count": 23,
     "metadata": {},
     "output_type": "execute_result"
    }
   ],
   "source": [
    "sw.group('species')"
   ]
  },
  {
   "cell_type": "code",
   "execution_count": 24,
   "id": "46c00efd",
   "metadata": {},
   "outputs": [
    {
     "data": {
      "text/html": [
       "<table border=\"1\" class=\"dataframe\">\n",
       "    <thead>\n",
       "        <tr>\n",
       "            <th>species</th> <th>count</th>\n",
       "        </tr>\n",
       "    </thead>\n",
       "    <tbody>\n",
       "        <tr>\n",
       "            <td>Aleena          </td> <td>1    </td>\n",
       "        </tr>\n",
       "        <tr>\n",
       "            <td>Besalisk        </td> <td>1    </td>\n",
       "        </tr>\n",
       "        <tr>\n",
       "            <td>Cerean          </td> <td>1    </td>\n",
       "        </tr>\n",
       "        <tr>\n",
       "            <td>Chagrian        </td> <td>1    </td>\n",
       "        </tr>\n",
       "        <tr>\n",
       "            <td>Clawdite        </td> <td>1    </td>\n",
       "        </tr>\n",
       "        <tr>\n",
       "            <td>Droid           </td> <td>6    </td>\n",
       "        </tr>\n",
       "        <tr>\n",
       "            <td>Dug             </td> <td>1    </td>\n",
       "        </tr>\n",
       "        <tr>\n",
       "            <td>Ewok            </td> <td>1    </td>\n",
       "        </tr>\n",
       "        <tr>\n",
       "            <td>Geonosian       </td> <td>1    </td>\n",
       "        </tr>\n",
       "        <tr>\n",
       "            <td>Gungan          </td> <td>3    </td>\n",
       "        </tr>\n",
       "        <tr>\n",
       "            <td>Human           </td> <td>38   </td>\n",
       "        </tr>\n",
       "        <tr>\n",
       "            <td>Hutt            </td> <td>1    </td>\n",
       "        </tr>\n",
       "        <tr>\n",
       "            <td>Iktotchi        </td> <td>1    </td>\n",
       "        </tr>\n",
       "        <tr>\n",
       "            <td>Iridonian Zabrak</td> <td>1    </td>\n",
       "        </tr>\n",
       "        <tr>\n",
       "            <td>Kaleesh         </td> <td>1    </td>\n",
       "        </tr>\n",
       "        <tr>\n",
       "            <td>Kaminoan        </td> <td>2    </td>\n",
       "        </tr>\n",
       "        <tr>\n",
       "            <td>Kel Dor         </td> <td>1    </td>\n",
       "        </tr>\n",
       "        <tr>\n",
       "            <td>Mirialan        </td> <td>2    </td>\n",
       "        </tr>\n",
       "        <tr>\n",
       "            <td>Mon Calamari    </td> <td>1    </td>\n",
       "        </tr>\n",
       "        <tr>\n",
       "            <td>Muun            </td> <td>1    </td>\n",
       "        </tr>\n",
       "        <tr>\n",
       "            <td>Nautolan        </td> <td>1    </td>\n",
       "        </tr>\n",
       "        <tr>\n",
       "            <td>Neimodian       </td> <td>1    </td>\n",
       "        </tr>\n",
       "        <tr>\n",
       "            <td>Pau'an          </td> <td>1    </td>\n",
       "        </tr>\n",
       "        <tr>\n",
       "            <td>Quermian        </td> <td>1    </td>\n",
       "        </tr>\n",
       "        <tr>\n",
       "            <td>Rodian          </td> <td>1    </td>\n",
       "        </tr>\n",
       "        <tr>\n",
       "            <td>Skakoan         </td> <td>1    </td>\n",
       "        </tr>\n",
       "        <tr>\n",
       "            <td>Sullustan       </td> <td>1    </td>\n",
       "        </tr>\n",
       "        <tr>\n",
       "            <td>Tholothian      </td> <td>1    </td>\n",
       "        </tr>\n",
       "        <tr>\n",
       "            <td>Togruta         </td> <td>1    </td>\n",
       "        </tr>\n",
       "        <tr>\n",
       "            <td>Toong           </td> <td>1    </td>\n",
       "        </tr>\n",
       "        <tr>\n",
       "            <td>Toydarian       </td> <td>1    </td>\n",
       "        </tr>\n",
       "        <tr>\n",
       "            <td>Trandoshan      </td> <td>1    </td>\n",
       "        </tr>\n",
       "        <tr>\n",
       "            <td>Twi'lek         </td> <td>2    </td>\n",
       "        </tr>\n",
       "        <tr>\n",
       "            <td>Umbaran         </td> <td>1    </td>\n",
       "        </tr>\n",
       "        <tr>\n",
       "            <td>Vulptereen      </td> <td>1    </td>\n",
       "        </tr>\n",
       "        <tr>\n",
       "            <td>Wookiee         </td> <td>2    </td>\n",
       "        </tr>\n",
       "        <tr>\n",
       "            <td>Xexto           </td> <td>1    </td>\n",
       "        </tr>\n",
       "        <tr>\n",
       "            <td>Yoda's species  </td> <td>1    </td>\n",
       "        </tr>\n",
       "        <tr>\n",
       "            <td>Zabrak          </td> <td>1    </td>\n",
       "        </tr>\n",
       "    </tbody>\n",
       "</table>"
      ],
      "text/plain": [
       "<IPython.core.display.HTML object>"
      ]
     },
     "metadata": {},
     "output_type": "display_data"
    }
   ],
   "source": [
    "sw.group('species').show()"
   ]
  },
  {
   "cell_type": "code",
   "execution_count": 25,
   "id": "cbf0fee4-5789-4d39-b112-e841f36d7bc8",
   "metadata": {},
   "outputs": [
    {
     "data": {
      "text/html": [
       "<table border=\"1\" class=\"dataframe\">\n",
       "    <thead>\n",
       "        <tr>\n",
       "            <th>sex</th> <th>count</th>\n",
       "        </tr>\n",
       "    </thead>\n",
       "    <tbody>\n",
       "        <tr>\n",
       "            <td>female        </td> <td>18   </td>\n",
       "        </tr>\n",
       "        <tr>\n",
       "            <td>hermaphroditic</td> <td>1    </td>\n",
       "        </tr>\n",
       "        <tr>\n",
       "            <td>male          </td> <td>62   </td>\n",
       "        </tr>\n",
       "        <tr>\n",
       "            <td>none          </td> <td>6    </td>\n",
       "        </tr>\n",
       "    </tbody>\n",
       "</table>"
      ],
      "text/plain": [
       "sex            | count\n",
       "female         | 18\n",
       "hermaphroditic | 1\n",
       "male           | 62\n",
       "none           | 6"
      ]
     },
     "execution_count": 25,
     "metadata": {},
     "output_type": "execute_result"
    }
   ],
   "source": [
    "sw.group('sex')"
   ]
  },
  {
   "cell_type": "code",
   "execution_count": 26,
   "id": "ffaa7ad1-41c4-4229-8946-f18f2496592a",
   "metadata": {},
   "outputs": [
    {
     "data": {
      "image/png": "[encoded data removed]",
      "text/plain": [
       "<Figure size 600x400 with 1 Axes>"
      ]
     },
     "metadata": {},
     "output_type": "display_data"
    }
   ],
   "source": [
    "sw.group('sex').barh('sex')"
   ]
  },
  {
   "cell_type": "markdown",
   "id": "afc0c9d2-311b-4562-a6e8-47a051bb419b",
   "metadata": {},
   "source": [
    "- Calculating"
   ]
  },
  {
   "cell_type": "code",
   "execution_count": 27,
   "id": "7f97e8d1-4756-4917-9e5d-0e5bfb23a91c",
   "metadata": {},
   "outputs": [
    {
     "data": {
      "text/plain": [
       "Row(name='Luke Skywalker', height=172.0, mass=77.0, hair_color='blond', skin_color='light', eye_color='blue', birth_year=19.0, birth_era='BBY', birth_place='Polis Massa', death_year=34.0, death_era='ABY', death_place='Ahch-To', sex='male', gender='masculine', pronoun='he/him', homeworld='Tatooine', species='Human', occupation='Jedi Master', cybernetics='Prosthetic\\xa0right\\xa0hand', abilities='Lightsaber abilities, Force powers, Other abilities', equipment='Lightsabers, Blasters', films='A New Hope, The Empire Strikes Back, Return of the Jedi, Revenge of the Sith, The Force Awakens', vehicles='Snowspeeder, Imperial Speeder Bike', starships='X-wing, Imperial shuttle', photo='https://static.wikia.nocookie.net/starwars/images/d/d9/Luke-rotjpromo.jpg')"
      ]
     },
     "execution_count": 27,
     "metadata": {},
     "output_type": "execute_result"
    }
   ],
   "source": [
    "sw.row(0)"
   ]
  },
  {
   "cell_type": "code",
   "execution_count": 28,
   "id": "8ad13b4b-dd6e-4383-8a3d-978576071c18",
   "metadata": {},
   "outputs": [
    {
     "data": {
      "text/plain": [
       "array(['Human', 'Droid', 'Droid', 'Human', 'Human', 'Human', 'Human',\n",
       "       'Droid', 'Human', 'Human', 'Human', 'Human', 'Wookiee', 'Human',\n",
       "       'Rodian', 'Hutt', 'Human', 'Human', \"Yoda's species\", 'Human',\n",
       "       'Human', 'Droid', 'Trandoshan', 'Human', 'Human', 'Mon Calamari',\n",
       "       'Human', 'Human', 'Ewok', 'Sullustan', 'Human', 'Neimodian',\n",
       "       'Human', 'Human', 'Gungan', 'Gungan', 'Gungan', 'Human',\n",
       "       'Toydarian', 'Dug', 'Human', 'Human', 'Zabrak', \"Twi'lek\",\n",
       "       \"Twi'lek\", 'Aleena', 'Vulptereen', 'Xexto', 'Toong', 'Human',\n",
       "       'Cerean', 'Nautolan', 'Iridonian Zabrak', 'Tholothian', 'Iktotchi',\n",
       "       'Quermian', 'Kel Dor', 'Chagrian', 'Human', 'Human', 'Human',\n",
       "       'Geonosian', 'Mirialan', 'Mirialan', 'Human', 'Human', 'Human',\n",
       "       'Human', 'Clawdite', 'Besalisk', 'Kaminoan', 'Kaminoan', 'Human',\n",
       "       'Droid', 'Skakoan', 'Muun', 'Togruta', 'Kaleesh', 'Wookiee',\n",
       "       'Human', 'Umbaran', \"Pau'an\", 'Human', 'Human', 'Human', 'Droid',\n",
       "       'Human'],\n",
       "      dtype='<U16')"
      ]
     },
     "execution_count": 28,
     "metadata": {},
     "output_type": "execute_result"
    }
   ],
   "source": [
    "sw.column('species')"
   ]
  },
  {
   "cell_type": "code",
   "execution_count": 29,
   "id": "2c23929b",
   "metadata": {},
   "outputs": [
    {
     "data": {
      "text/plain": [
       "'Human'"
      ]
     },
     "execution_count": 29,
     "metadata": {},
     "output_type": "execute_result"
    }
   ],
   "source": [
    "sw.column('species').item(0)"
   ]
  },
  {
   "cell_type": "code",
   "execution_count": 30,
   "id": "244519da-dd57-41ab-b1c7-ae2792979c77",
   "metadata": {},
   "outputs": [
    {
     "name": "stdout",
     "output_type": "stream",
     "text": [
      "Human\n"
     ]
    }
   ],
   "source": [
    "if sw.column('species').item(0) == 'Human':\n",
    "    print('Human')"
   ]
  },
  {
   "cell_type": "code",
   "execution_count": 31,
   "id": "4cee8e80-0087-4203-a83c-0c7a9346af49",
   "metadata": {},
   "outputs": [
    {
     "data": {
      "text/html": [
       "<table border=\"1\" class=\"dataframe\">\n",
       "    <thead>\n",
       "        <tr>\n",
       "            <th>species</th> <th>count</th>\n",
       "        </tr>\n",
       "    </thead>\n",
       "    <tbody>\n",
       "        <tr>\n",
       "            <td>Aleena   </td> <td>1    </td>\n",
       "        </tr>\n",
       "        <tr>\n",
       "            <td>Besalisk </td> <td>1    </td>\n",
       "        </tr>\n",
       "        <tr>\n",
       "            <td>Cerean   </td> <td>1    </td>\n",
       "        </tr>\n",
       "        <tr>\n",
       "            <td>Chagrian </td> <td>1    </td>\n",
       "        </tr>\n",
       "        <tr>\n",
       "            <td>Clawdite </td> <td>1    </td>\n",
       "        </tr>\n",
       "        <tr>\n",
       "            <td>Droid    </td> <td>6    </td>\n",
       "        </tr>\n",
       "        <tr>\n",
       "            <td>Dug      </td> <td>1    </td>\n",
       "        </tr>\n",
       "        <tr>\n",
       "            <td>Ewok     </td> <td>1    </td>\n",
       "        </tr>\n",
       "        <tr>\n",
       "            <td>Geonosian</td> <td>1    </td>\n",
       "        </tr>\n",
       "        <tr>\n",
       "            <td>Gungan   </td> <td>3    </td>\n",
       "        </tr>\n",
       "    </tbody>\n",
       "</table>\n",
       "<p>... (29 rows omitted)</p>"
      ],
      "text/plain": [
       "species   | count\n",
       "Aleena    | 1\n",
       "Besalisk  | 1\n",
       "Cerean    | 1\n",
       "Chagrian  | 1\n",
       "Clawdite  | 1\n",
       "Droid     | 6\n",
       "Dug       | 1\n",
       "Ewok      | 1\n",
       "Geonosian | 1\n",
       "Gungan    | 3\n",
       "... (29 rows omitted)"
      ]
     },
     "execution_count": 31,
     "metadata": {},
     "output_type": "execute_result"
    }
   ],
   "source": [
    "sw.group('species')"
   ]
  },
  {
   "cell_type": "markdown",
   "id": "6a26e31a-8552-4587-9152-c6b412823f2b",
   "metadata": {},
   "source": [
    "# The Plan\n",
    "\n",
    "## This is what we want\n",
    "We want to add a new column that categorizes the species as Human, Driod, or Other\n",
    "\n",
    "## This is how we want to test it\n",
    "1. Can I loop over all the species?\n",
    "1. Test a simple case first - only print the species is human"
   ]
  },
  {
   "cell_type": "code",
   "execution_count": 32,
   "id": "7f1bddb7-4950-44d7-94f4-dc0e143cc2aa",
   "metadata": {},
   "outputs": [
    {
     "name": "stdout",
     "output_type": "stream",
     "text": [
      "0\n",
      "1\n",
      "2\n",
      "3\n",
      "4\n",
      "5\n",
      "6\n",
      "7\n",
      "8\n",
      "9\n",
      "10\n",
      "11\n",
      "12\n",
      "13\n",
      "14\n",
      "15\n",
      "16\n",
      "17\n",
      "18\n",
      "19\n",
      "20\n",
      "21\n",
      "22\n",
      "23\n",
      "24\n",
      "25\n",
      "26\n",
      "27\n",
      "28\n",
      "29\n",
      "30\n",
      "31\n",
      "32\n",
      "33\n",
      "34\n",
      "35\n",
      "36\n",
      "37\n",
      "38\n",
      "39\n",
      "40\n",
      "41\n",
      "42\n",
      "43\n",
      "44\n",
      "45\n",
      "46\n",
      "47\n",
      "48\n",
      "49\n",
      "50\n",
      "51\n",
      "52\n",
      "53\n",
      "54\n",
      "55\n",
      "56\n",
      "57\n",
      "58\n",
      "59\n",
      "60\n",
      "61\n",
      "62\n",
      "63\n",
      "64\n",
      "65\n",
      "66\n",
      "67\n",
      "68\n",
      "69\n",
      "70\n",
      "71\n",
      "72\n",
      "73\n",
      "74\n",
      "75\n",
      "76\n",
      "77\n",
      "78\n",
      "79\n",
      "80\n",
      "81\n",
      "82\n",
      "83\n",
      "84\n",
      "85\n",
      "86\n"
     ]
    }
   ],
   "source": [
    "for i in range(sw.num_rows):\n",
    "    print(i)"
   ]
  },
  {
   "cell_type": "code",
   "execution_count": 35,
   "id": "96409327",
   "metadata": {},
   "outputs": [
    {
     "name": "stdout",
     "output_type": "stream",
     "text": [
      "Human\n",
      "Droid\n",
      "Droid\n",
      "Human\n",
      "Human\n",
      "Human\n",
      "Human\n",
      "Droid\n",
      "Human\n",
      "Human\n",
      "Human\n",
      "Human\n",
      "Wookiee\n",
      "Human\n",
      "Rodian\n"
     ]
    }
   ],
   "source": [
    "for i in range(15):\n",
    "    print(sw.column('species').item(i))"
   ]
  },
  {
   "cell_type": "code",
   "execution_count": 36,
   "id": "0fbd303f",
   "metadata": {},
   "outputs": [
    {
     "name": "stdout",
     "output_type": "stream",
     "text": [
      "Human\n",
      "Droid\n",
      "Droid\n",
      "Human\n",
      "Human\n",
      "Human\n",
      "Human\n",
      "Droid\n",
      "Human\n",
      "Human\n",
      "Human\n",
      "Human\n",
      "Other\n",
      "Human\n",
      "Other\n"
     ]
    }
   ],
   "source": [
    "for i in range(15):\n",
    "    if sw.column('species').item(i) == \"Human\":\n",
    "        print(\"Human\")\n",
    "    elif sw.column('species').item(i) == \"Droid\":\n",
    "        print(\"Droid\")\n",
    "    else:\n",
    "        print(\"Other\")"
   ]
  },
  {
   "cell_type": "code",
   "execution_count": 38,
   "id": "f1068b56-19f5-4c33-86f8-e579ada82fd7",
   "metadata": {},
   "outputs": [
    {
     "data": {
      "text/plain": [
       "datascience.tables.Table"
      ]
     },
     "execution_count": 38,
     "metadata": {},
     "output_type": "execute_result"
    }
   ],
   "source": [
    "type(sw)"
   ]
  },
  {
   "cell_type": "code",
   "execution_count": 40,
   "id": "d928ea58-19f9-49a7-a2d6-4e5f9ec56187",
   "metadata": {},
   "outputs": [
    {
     "data": {
      "text/plain": [
       "87"
      ]
     },
     "execution_count": 40,
     "metadata": {},
     "output_type": "execute_result"
    }
   ],
   "source": [
    "# Create an empty list\n",
    "new_species = []\n",
    "\n",
    "for i in range(sw.num_rows):\n",
    "    if sw.column('species').item(i) == \"Human\":\n",
    "        new_species.append(\"Human\")\n",
    "    elif sw.column('species').item(i) == \"Droid\":\n",
    "        new_species.append(\"Droid\")\n",
    "    else:\n",
    "        new_species.append(\"Other\")\n",
    "\n",
    "len(new_species)"
   ]
  },
  {
   "cell_type": "code",
   "execution_count": 43,
   "id": "2ed1fb91-30b8-453f-a39c-f14fc2761713",
   "metadata": {},
   "outputs": [
    {
     "data": {
      "text/plain": [
       "Row(name='Luke Skywalker', height=172.0, mass=77.0, hair_color='blond', skin_color='light', eye_color='blue', birth_year=19.0, birth_era='BBY', birth_place='Polis Massa', death_year=34.0, death_era='ABY', death_place='Ahch-To', sex='male', gender='masculine', pronoun='he/him', homeworld='Tatooine', species='Human', occupation='Jedi Master', cybernetics='Prosthetic\\xa0right\\xa0hand', abilities='Lightsaber abilities, Force powers, Other abilities', equipment='Lightsabers, Blasters', films='A New Hope, The Empire Strikes Back, Return of the Jedi, Revenge of the Sith, The Force Awakens', vehicles='Snowspeeder, Imperial Speeder Bike', starships='X-wing, Imperial shuttle', photo='https://static.wikia.nocookie.net/starwars/images/d/d9/Luke-rotjpromo.jpg', new_species='Human')"
      ]
     },
     "execution_count": 43,
     "metadata": {},
     "output_type": "execute_result"
    }
   ],
   "source": [
    "# Add column to sw \n",
    "sw = sw.with_column('new_species', new_species)\n",
    "\n",
    "# Display the first row\n",
    "sw.row(0)"
   ]
  },
  {
   "cell_type": "code",
   "execution_count": 44,
   "id": "bcd7c1e9-ee2e-4487-86c1-f3dddd43e4b8",
   "metadata": {},
   "outputs": [
    {
     "data": {
      "text/html": [
       "<table border=\"1\" class=\"dataframe\">\n",
       "    <thead>\n",
       "        <tr>\n",
       "            <th>new_species</th> <th>count</th>\n",
       "        </tr>\n",
       "    </thead>\n",
       "    <tbody>\n",
       "        <tr>\n",
       "            <td>Droid      </td> <td>6    </td>\n",
       "        </tr>\n",
       "        <tr>\n",
       "            <td>Human      </td> <td>38   </td>\n",
       "        </tr>\n",
       "        <tr>\n",
       "            <td>Other      </td> <td>43   </td>\n",
       "        </tr>\n",
       "    </tbody>\n",
       "</table>"
      ],
      "text/plain": [
       "new_species | count\n",
       "Droid       | 6\n",
       "Human       | 38\n",
       "Other       | 43"
      ]
     },
     "execution_count": 44,
     "metadata": {},
     "output_type": "execute_result"
    }
   ],
   "source": [
    "sw.group('new_species')"
   ]
  },
  {
   "cell_type": "code",
   "execution_count": 45,
   "id": "ee2e9170-fd34-4dc1-ac7d-197ec28473f5",
   "metadata": {},
   "outputs": [
    {
     "data": {
      "image/png": "[encoded data removed]",
      "text/plain": [
       "<Figure size 600x400 with 1 Axes>"
      ]
     },
     "metadata": {},
     "output_type": "display_data"
    }
   ],
   "source": [
    "sw.group('new_species').barh('new_species')"
   ]
  },
  {
   "cell_type": "code",
   "execution_count": 46,
   "id": "82134934-af62-4929-8ff9-cec54bdd5ab0",
   "metadata": {},
   "outputs": [
    {
     "data": {
      "text/plain": [
       "Row(name='Luke Skywalker', height=172.0, mass=77.0, hair_color='blond', skin_color='light', eye_color='blue', birth_year=19.0, birth_era='BBY', birth_place='Polis Massa', death_year=34.0, death_era='ABY', death_place='Ahch-To', sex='male', gender='masculine', pronoun='he/him', homeworld='Tatooine', species='Human', occupation='Jedi Master', cybernetics='Prosthetic\\xa0right\\xa0hand', abilities='Lightsaber abilities, Force powers, Other abilities', equipment='Lightsabers, Blasters', films='A New Hope, The Empire Strikes Back, Return of the Jedi, Revenge of the Sith, The Force Awakens', vehicles='Snowspeeder, Imperial Speeder Bike', starships='X-wing, Imperial shuttle', photo='https://static.wikia.nocookie.net/starwars/images/d/d9/Luke-rotjpromo.jpg', new_species='Human')"
      ]
     },
     "execution_count": 46,
     "metadata": {},
     "output_type": "execute_result"
    }
   ],
   "source": [
    "sw.row(0)"
   ]
  },
  {
   "cell_type": "code",
   "execution_count": 47,
   "id": "492c1694-df92-4f2c-ab4f-67e610a84746",
   "metadata": {},
   "outputs": [
    {
     "data": {
      "text/plain": [
       "1.72"
      ]
     },
     "execution_count": 47,
     "metadata": {},
     "output_type": "execute_result"
    }
   ],
   "source": [
    "# Weight (kg) / Height (m) ** 2\n",
    "height_m = sw.column('height').item(0)/100\n",
    "height_m"
   ]
  },
  {
   "cell_type": "code",
   "execution_count": 48,
   "id": "ca9b1c6d-c0e4-4923-be82-c46d7291c810",
   "metadata": {},
   "outputs": [
    {
     "data": {
      "text/plain": [
       "26.027582477014604"
      ]
     },
     "execution_count": 48,
     "metadata": {},
     "output_type": "execute_result"
    }
   ],
   "source": [
    "# Weight (kg) / Height (m) ** 2\n",
    "height_m = sw.column('height').item(0)/100\n",
    "sw.column('mass').item(0)/height_m**2"
   ]
  },
  {
   "cell_type": "code",
   "execution_count": 49,
   "id": "8a277015-6839-480e-b989-8e9b04924b86",
   "metadata": {},
   "outputs": [
    {
     "data": {
      "text/plain": [
       "26.027582477014604"
      ]
     },
     "execution_count": 49,
     "metadata": {},
     "output_type": "execute_result"
    }
   ],
   "source": [
    "sw.column('mass').item(0)/(sw.column('height').item(0)/100)**2"
   ]
  },
  {
   "cell_type": "code",
   "execution_count": 50,
   "id": "08653dca-f51c-40b7-a150-d2c2740c8964",
   "metadata": {},
   "outputs": [
    {
     "data": {
      "text/plain": [
       "array([  26.02758248,   26.89232314,   34.72222222,   33.33006568,\n",
       "         21.77777778,   37.87400581,   27.54820937,   34.00999043,\n",
       "         25.08286303,   23.24598478,   23.76641014,           nan,\n",
       "         21.5450908 ,   24.69135802,   24.72518293,  443.42857143,\n",
       "         26.64359862,   33.95061728,   39.02662994,   25.05930703,\n",
       "         23.29122996,   35.        ,   31.30193906,   25.21625331,\n",
       "         25.79591837,   25.61728395,           nan,           nan,\n",
       "         31.25      ,   26.5625    ,   23.89325888,   24.67037636,\n",
       "                 nan,   16.52892562,   17.18034152,   16.34247449,\n",
       "                 nan,           nan,           nan,   31.8877551 ,\n",
       "                 nan,           nan,   26.12244898,           nan,\n",
       "         19.03114187,   24.03460984,   50.92802173,           nan,\n",
       "         24.4646016 ,   22.78645833,   20.29652731,   22.64681383,\n",
       "                 nan,   14.768431  ,           nan,           nan,\n",
       "         22.63467632,   23.68804665,   24.83564646,           nan,\n",
       "                 nan,   23.88844098,   19.37716263,   18.14486863,\n",
       "                 nan,   20.82465639,           nan,   23.58983547,\n",
       "         19.48696145,   26.01775329,   16.78076314,           nan,\n",
       "                 nan,           nan,   12.88625198,           nan,\n",
       "         17.99015276,   34.07921811,   24.83746073,   22.35174287,\n",
       "         15.14960232,   18.85191818,   23.0400202 ,   18.68512111,\n",
       "         27.04164413,   40.09801738,   19.        ])"
      ]
     },
     "execution_count": 50,
     "metadata": {},
     "output_type": "execute_result"
    }
   ],
   "source": [
    "sw.column('mass')/(sw.column('height')/100)**2"
   ]
  },
  {
   "cell_type": "code",
   "execution_count": 52,
   "id": "7676eec5-e8a2-4338-bec5-59f1d618c2d1",
   "metadata": {},
   "outputs": [
    {
     "data": {
      "text/plain": [
       "Row(name='Luke Skywalker', height=172.0, mass=77.0, hair_color='blond', skin_color='light', eye_color='blue', birth_year=19.0, birth_era='BBY', birth_place='Polis Massa', death_year=34.0, death_era='ABY', death_place='Ahch-To', sex='male', gender='masculine', pronoun='he/him', homeworld='Tatooine', species='Human', occupation='Jedi Master', cybernetics='Prosthetic\\xa0right\\xa0hand', abilities='Lightsaber abilities, Force powers, Other abilities', equipment='Lightsabers, Blasters', films='A New Hope, The Empire Strikes Back, Return of the Jedi, Revenge of the Sith, The Force Awakens', vehicles='Snowspeeder, Imperial Speeder Bike', starships='X-wing, Imperial shuttle', photo='https://static.wikia.nocookie.net/starwars/images/d/d9/Luke-rotjpromo.jpg', new_species='Human', bmi=26.027582477014604)"
      ]
     },
     "execution_count": 52,
     "metadata": {},
     "output_type": "execute_result"
    }
   ],
   "source": [
    "sw = sw.with_column('bmi', sw.column('mass')/(sw.column('height')/100)**2)\n",
    "sw.row(0)"
   ]
  },
  {
   "cell_type": "code",
   "execution_count": 53,
   "id": "4df69e5b-427d-4ad7-b621-b9aeee2e982f",
   "metadata": {},
   "outputs": [
    {
     "data": {
      "text/plain": [
       "Row(name='Luke Skywalker', height=172.0, mass=77.0, hair_color='blond', skin_color='light', eye_color='blue', birth_year=19.0, birth_era='BBY', birth_place='Polis Massa', death_year=34.0, death_era='ABY', death_place='Ahch-To', sex='male', gender='masculine', pronoun='he/him', homeworld='Tatooine', species='Human', occupation='Jedi Master', cybernetics='Prosthetic\\xa0right\\xa0hand', abilities='Lightsaber abilities, Force powers, Other abilities', equipment='Lightsabers, Blasters', films='A New Hope, The Empire Strikes Back, Return of the Jedi, Revenge of the Sith, The Force Awakens', vehicles='Snowspeeder, Imperial Speeder Bike', starships='X-wing, Imperial shuttle', photo='https://static.wikia.nocookie.net/starwars/images/d/d9/Luke-rotjpromo.jpg', new_species='Human', bmi=26.027582477014604)"
      ]
     },
     "execution_count": 53,
     "metadata": {},
     "output_type": "execute_result"
    }
   ],
   "source": [
    "bmi = sw.column('mass')/(sw.column('height')/100)**2\n",
    "sw = sw.with_column('bmi', bmi)\n",
    "sw.row(0)"
   ]
  },
  {
   "cell_type": "code",
   "execution_count": 54,
   "id": "7427d724-84c7-42f1-a802-938b168e0fef",
   "metadata": {},
   "outputs": [
    {
     "data": {
      "image/png": "[encoded data removed]",
      "text/plain": [
       "<Figure size 600x400 with 1 Axes>"
      ]
     },
     "metadata": {},
     "output_type": "display_data"
    }
   ],
   "source": [
    "sw.hist('bmi')"
   ]
  },
  {
   "cell_type": "code",
   "execution_count": 71,
   "id": "56b37551-c021-4abb-976f-66a3a87459c1",
   "metadata": {},
   "outputs": [
    {
     "data": {
      "image/png": "[encoded data removed]",
      "text/plain": [
       "<Figure size 600x400 with 1 Axes>"
      ]
     },
     "metadata": {},
     "output_type": "display_data"
    }
   ],
   "source": [
    "sw.sort('bmi', descending = True).take[23:].hist('bmi')"
   ]
  },
  {
   "cell_type": "code",
   "execution_count": 75,
   "id": "eb7b7fd7-1805-4646-b71a-1e8f45b55ae9",
   "metadata": {},
   "outputs": [
    {
     "data": {
      "text/html": [
       "<table border=\"1\" class=\"dataframe\">\n",
       "    <thead>\n",
       "        <tr>\n",
       "            <th>name</th> <th>height</th> <th>mass</th> <th>hair_color</th> <th>skin_color</th> <th>eye_color</th> <th>birth_year</th> <th>birth_era</th> <th>birth_place</th> <th>death_year</th> <th>death_era</th> <th>death_place</th> <th>sex</th> <th>gender</th> <th>pronoun</th> <th>homeworld</th> <th>species</th> <th>occupation</th> <th>cybernetics</th> <th>abilities</th> <th>equipment</th> <th>films</th> <th>vehicles</th> <th>starships</th> <th>photo</th> <th>new_species</th> <th>bmi</th>\n",
       "        </tr>\n",
       "    </thead>\n",
       "    <tbody>\n",
       "        <tr>\n",
       "            <td>Dud Bolt        </td> <td>94    </td> <td>45  </td> <td>none       </td> <td>blue-gray, yellow, white</td> <td>yellow    </td> <td>nan       </td> <td>nan      </td> <td>nan        </td> <td>nan       </td> <td>nan      </td> <td>nan          </td> <td>male</td> <td>masculine</td> <td>he/him </td> <td>Vulpter      </td> <td>Vulptereen    </td> <td>Podracer pilot       </td> <td>nan                                          </td> <td>Piloting, Racing                                  </td> <td>nan                                                         </td> <td>The Phantom Menace                                          </td> <td>Vulptereen 327 Podrace                           </td> <td>nan                     </td> <td>https://static.wikia.nocookie.net/starwars/images/b/b0/D ...</td> <td>Other      </td> <td>50.928 </td>\n",
       "        </tr>\n",
       "        <tr>\n",
       "            <td>BB-8            </td> <td>67    </td> <td>18  </td> <td>none       </td> <td>white, orange           </td> <td>red       </td> <td>29        </td> <td>ABY      </td> <td>nan        </td> <td>nan       </td> <td>nan      </td> <td>nan          </td> <td>none</td> <td>masculine</td> <td>he/him </td> <td>Hosnian Prime</td> <td>Droid         </td> <td>Astromech droid      </td> <td>nan                                          </td> <td>nan                                               </td> <td>Grappling spike launcher, Welding torch, Holoprojector,  ...</td> <td>The Force Awakens                                           </td> <td>nan                                              </td> <td>nan                     </td> <td>https://static.wikia.nocookie.net/starwars/images/6/68/B ...</td> <td>Droid      </td> <td>40.098 </td>\n",
       "        </tr>\n",
       "        <tr>\n",
       "            <td>Yoda            </td> <td>66    </td> <td>17  </td> <td>white      </td> <td>green                   </td> <td>green-gold</td> <td>896       </td> <td>BBY      </td> <td>nan        </td> <td>4         </td> <td>ABY      </td> <td>Dagobah      </td> <td>male</td> <td>masculine</td> <td>he/him </td> <td>nan          </td> <td>Yoda's species</td> <td>Jedi Master          </td> <td>nan                                          </td> <td>Lightsaber training, Force powers, Other abilities</td> <td>Lightsabers                                                 </td> <td>The Empire Strikes Back, Return of the Jedi, The Phantom ...</td> <td>nan                                              </td> <td>nan                     </td> <td>https://static.wikia.nocookie.net/starwars/images/d/d6/Y ...</td> <td>Other      </td> <td>39.0266</td>\n",
       "        </tr>\n",
       "        <tr>\n",
       "            <td>Owen Lars       </td> <td>178   </td> <td>120 </td> <td>brown      </td> <td>light                   </td> <td>blue      </td> <td>52        </td> <td>BBY      </td> <td>Ator       </td> <td>0         </td> <td>BBY      </td> <td>Tatooine     </td> <td>male</td> <td>masculine</td> <td>he/him </td> <td>Tatooine     </td> <td>Human         </td> <td>Moisture farmer      </td> <td>nan                                          </td> <td>Blaster abilities                                 </td> <td>Blasters, SX-14 Field Hover-Ute, GX-8 Moisture Vaporator ...</td> <td>A New Hope, Attack of the Clones, Revenge of the Sith       </td> <td>Zephyr-G swoop bike, V-35 Courier, T-16 Skyhopper</td> <td>nan                     </td> <td>https://static.wikia.nocookie.net/starwars/images/9/91/O ...</td> <td>Human      </td> <td>37.874 </td>\n",
       "        </tr>\n",
       "        <tr>\n",
       "            <td>IG-88B          </td> <td>200   </td> <td>140 </td> <td>none       </td> <td>metal                   </td> <td>red       </td> <td>15        </td> <td>BBY      </td> <td>nan        </td> <td>3         </td> <td>ABY      </td> <td>Bespin       </td> <td>none</td> <td>masculine</td> <td>he/him </td> <td>Halowan      </td> <td>Droid         </td> <td>Assassin droid       </td> <td>nan                                          </td> <td>nan                                               </td> <td>Gas dispenser, Neural flame grenades, Flamethrower, Soni ...</td> <td>The Empire Strikes Back                                     </td> <td>nan                                              </td> <td>nan                     </td> <td>https://static.wikia.nocookie.net/starwars/images/f/fe/I ...</td> <td>Droid      </td> <td>35     </td>\n",
       "        </tr>\n",
       "        <tr>\n",
       "            <td>R2-D2           </td> <td>96    </td> <td>32  </td> <td>nan        </td> <td>blue, silver, white     </td> <td>red       </td> <td>33        </td> <td>BBY      </td> <td>nan        </td> <td>20        </td> <td>BBY      </td> <td>Carida       </td> <td>none</td> <td>masculine</td> <td>he/him </td> <td>Naboo        </td> <td>Droid         </td> <td>Astromech droid      </td> <td>nan                                          </td> <td>nan                                               </td> <td>Buzz saw, Electric pike, Drinks tray, Fusion welder, Sco ...</td> <td>A New Hope, The Empire Strikes Back, Return of the Jedi, ...</td> <td>nan                                              </td> <td>nan                     </td> <td>https://static.wikia.nocookie.net/starwars/images/6/6d/R ...</td> <td>Droid      </td> <td>34.7222</td>\n",
       "        </tr>\n",
       "        <tr>\n",
       "            <td>Grievous        </td> <td>216   </td> <td>159 </td> <td>none       </td> <td>brown, white            </td> <td>gold      </td> <td>nan       </td> <td>nan      </td> <td>nan        </td> <td>19        </td> <td>BBY      </td> <td>Utapau       </td> <td>male</td> <td>masculine</td> <td>he/him </td> <td>Kalee        </td> <td>Kaleesh       </td> <td>Jedi Hunter          </td> <td>Completely cebernetic except for brain       </td> <td>Lightsaber abilities                              </td> <td>Lightsabers                                                 </td> <td>Revenge of the Sith                                         </td> <td>Tsmeu-6 personal wheel bike                      </td> <td>Belbullab-22 starfighter</td> <td>https://static.wikia.nocookie.net/starwars/images/c/ca/G ...</td> <td>Other      </td> <td>34.0792</td>\n",
       "        </tr>\n",
       "        <tr>\n",
       "            <td>R5-D4           </td> <td>97    </td> <td>32  </td> <td>nan        </td> <td>white, red, blue        </td> <td>red       </td> <td>nan       </td> <td>nan      </td> <td>nan        </td> <td>nan       </td> <td>nan      </td> <td>nan          </td> <td>none</td> <td>masculine</td> <td>he/him </td> <td>Tatooine     </td> <td>Droid         </td> <td>Astromech droid      </td> <td>nan                                          </td> <td>nan                                               </td> <td>Holoprojector, Rocket booster, Scomp link                   </td> <td>A New Hope                                                  </td> <td>nan                                              </td> <td>nan                     </td> <td>https://static.wikia.nocookie.net/starwars/images/2/2c/R ...</td> <td>Droid      </td> <td>34.01  </td>\n",
       "        </tr>\n",
       "        <tr>\n",
       "            <td>Jek Tono Porkins</td> <td>180   </td> <td>110 </td> <td>brown      </td> <td>fair                    </td> <td>blue      </td> <td>nan       </td> <td>nan      </td> <td>nan        </td> <td>0         </td> <td>BBY      </td> <td>Yavin system </td> <td>male</td> <td>masculine</td> <td>he/him </td> <td>Bestine IV   </td> <td>Human         </td> <td>Pilot                </td> <td>nan                                          </td> <td>Piloting                                          </td> <td>Rebel flight suit, Flight helmet, Goggles. Blasters         </td> <td>A New Hope                                                  </td> <td>nan                                              </td> <td>X-wing                  </td> <td>https://static.wikia.nocookie.net/starwars/images/5/53/P ...</td> <td>Human      </td> <td>33.9506</td>\n",
       "        </tr>\n",
       "        <tr>\n",
       "            <td>Darth Vader     </td> <td>202   </td> <td>136 </td> <td>sandy-blond</td> <td>pale                    </td> <td>yellow    </td> <td>41        </td> <td>BBY      </td> <td>Tatooine   </td> <td>4         </td> <td>ABY      </td> <td>Death Star II</td> <td>male</td> <td>masculine</td> <td>he/him </td> <td>Tatooine     </td> <td>Human         </td> <td>Dark Lord of the Sith</td> <td>Prosthetic arms and legs, life-support system</td> <td>Lightsaber abilities, Force powers, Language known</td> <td>Clothing, Lightsabers                                       </td> <td>A New Hope, The Empire Strikes Back, Return of the Jedi, ...</td> <td>nan                                              </td> <td>TIE Advanced x1         </td> <td>https://static.wikia.nocookie.net/starwars/images/a/a3/A ...</td> <td>Human      </td> <td>33.3301</td>\n",
       "        </tr>\n",
       "    </tbody>\n",
       "</table>\n",
       "<p>... (54 rows omitted)</p>"
      ],
      "text/plain": [
       "name             | height | mass | hair_color  | skin_color               | eye_color  | birth_year | birth_era | birth_place | death_year | death_era | death_place   | sex  | gender    | pronoun | homeworld     | species        | occupation            | cybernetics                                   | abilities                                          | equipment                                                    | films                                                        | vehicles                                          | starships                | photo                                                        | new_species | bmi\n",
       "Dud Bolt         | 94     | 45   | none        | blue-gray, yellow, white | yellow     | nan        | nan       | nan         | nan        | nan       | nan           | male | masculine | he/him  | Vulpter       | Vulptereen     | Podracer pilot        | nan                                           | Piloting, Racing                                   | nan                                                          | The Phantom Menace                                           | Vulptereen 327 Podrace                            | nan                      | https://static.wikia.nocookie.net/starwars/images/b/b0/D ... | Other       | 50.928\n",
       "BB-8             | 67     | 18   | none        | white, orange            | red        | 29         | ABY       | nan         | nan        | nan       | nan           | none | masculine | he/him  | Hosnian Prime | Droid          | Astromech droid       | nan                                           | nan                                                | Grappling spike launcher, Welding torch, Holoprojector,  ... | The Force Awakens                                            | nan                                               | nan                      | https://static.wikia.nocookie.net/starwars/images/6/68/B ... | Droid       | 40.098\n",
       "Yoda             | 66     | 17   | white       | green                    | green-gold | 896        | BBY       | nan         | 4          | ABY       | Dagobah       | male | masculine | he/him  | nan           | Yoda's species | Jedi Master           | nan                                           | Lightsaber training, Force powers, Other abilities | Lightsabers                                                  | The Empire Strikes Back, Return of the Jedi, The Phantom ... | nan                                               | nan                      | https://static.wikia.nocookie.net/starwars/images/d/d6/Y ... | Other       | 39.0266\n",
       "Owen Lars        | 178    | 120  | brown       | light                    | blue       | 52         | BBY       | Ator        | 0          | BBY       | Tatooine      | male | masculine | he/him  | Tatooine      | Human          | Moisture farmer       | nan                                           | Blaster abilities                                  | Blasters, SX-14 Field Hover-Ute, GX-8 Moisture Vaporator ... | A New Hope, Attack of the Clones, Revenge of the Sith        | Zephyr-G swoop bike, V-35 Courier, T-16 Skyhopper | nan                      | https://static.wikia.nocookie.net/starwars/images/9/91/O ... | Human       | 37.874\n",
       "IG-88B           | 200    | 140  | none        | metal                    | red        | 15         | BBY       | nan         | 3          | ABY       | Bespin        | none | masculine | he/him  | Halowan       | Droid          | Assassin droid        | nan                                           | nan                                                | Gas dispenser, Neural flame grenades, Flamethrower, Soni ... | The Empire Strikes Back                                      | nan                                               | nan                      | https://static.wikia.nocookie.net/starwars/images/f/fe/I ... | Droid       | 35\n",
       "R2-D2            | 96     | 32   | nan         | blue, silver, white      | red        | 33         | BBY       | nan         | 20         | BBY       | Carida        | none | masculine | he/him  | Naboo         | Droid          | Astromech droid       | nan                                           | nan                                                | Buzz saw, Electric pike, Drinks tray, Fusion welder, Sco ... | A New Hope, The Empire Strikes Back, Return of the Jedi, ... | nan                                               | nan                      | https://static.wikia.nocookie.net/starwars/images/6/6d/R ... | Droid       | 34.7222\n",
       "Grievous         | 216    | 159  | none        | brown, white             | gold       | nan        | nan       | nan         | 19         | BBY       | Utapau        | male | masculine | he/him  | Kalee         | Kaleesh        | Jedi Hunter           | Completely cebernetic except for brain        | Lightsaber abilities                               | Lightsabers                                                  | Revenge of the Sith                                          | Tsmeu-6 personal wheel bike                       | Belbullab-22 starfighter | https://static.wikia.nocookie.net/starwars/images/c/ca/G ... | Other       | 34.0792\n",
       "R5-D4            | 97     | 32   | nan         | white, red, blue         | red        | nan        | nan       | nan         | nan        | nan       | nan           | none | masculine | he/him  | Tatooine      | Droid          | Astromech droid       | nan                                           | nan                                                | Holoprojector, Rocket booster, Scomp link                    | A New Hope                                                   | nan                                               | nan                      | https://static.wikia.nocookie.net/starwars/images/2/2c/R ... | Droid       | 34.01\n",
       "Jek Tono Porkins | 180    | 110  | brown       | fair                     | blue       | nan        | nan       | nan         | 0          | BBY       | Yavin system  | male | masculine | he/him  | Bestine IV    | Human          | Pilot                 | nan                                           | Piloting                                           | Rebel flight suit, Flight helmet, Goggles. Blasters          | A New Hope                                                   | nan                                               | X-wing                   | https://static.wikia.nocookie.net/starwars/images/5/53/P ... | Human       | 33.9506\n",
       "Darth Vader      | 202    | 136  | sandy-blond | pale                     | yellow     | 41         | BBY       | Tatooine    | 4          | ABY       | Death Star II | male | masculine | he/him  | Tatooine      | Human          | Dark Lord of the Sith | Prosthetic arms and legs, life-support system | Lightsaber abilities, Force powers, Language known | Clothing, Lightsabers                                        | A New Hope, The Empire Strikes Back, Return of the Jedi, ... | nan                                               | TIE Advanced x1          | https://static.wikia.nocookie.net/starwars/images/a/a3/A ... | Human       | 33.3301\n",
       "... (54 rows omitted)"
      ]
     },
     "execution_count": 75,
     "metadata": {},
     "output_type": "execute_result"
    }
   ],
   "source": [
    "sw.sort('bmi', descending = True).take[23:]"
   ]
  },
  {
   "cell_type": "code",
   "execution_count": null,
   "id": "c7a2b337-38ec-47ed-af27-df2e58b38926",
   "metadata": {},
   "outputs": [],
   "source": []
  }
 ],
 "metadata": {
  "kernelspec": {
   "display_name": "Python 3 (ipykernel)",
   "language": "python",
   "name": "python3"
  },
  "language_info": {
   "codemirror_mode": {
    "name": "ipython",
    "version": 3
   },
   "file_extension": ".py",
   "mimetype": "text/x-python",
   "name": "python",
   "nbconvert_exporter": "python",
   "pygments_lexer": "ipython3",
   "version": "3.12.6"
  }
 },
 "nbformat": 4,
 "nbformat_minor": 5
}
