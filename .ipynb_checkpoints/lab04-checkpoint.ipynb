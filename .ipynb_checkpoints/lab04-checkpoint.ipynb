{
 "cells": [
  {
   "cell_type": "markdown",
   "id": "85a8792d-e167-4f1f-a60c-c20a2cf21f3f",
   "metadata": {},
   "source": [
    "# Lab 05\n",
    "\n",
    "## Introduction to Data Moves (Summarizing and Filtering)\n",
    "\n",
    "In this assignment, you’ll be introduced to the concept of *data moves* using functions from the `datascience` package. You’ll learn how to summarize data both numerically and visually, and how to filter datasets to focus on specific subsets.\n",
    "\n",
    "## Guidelines\n",
    "\n",
    "- Follow good programming practices by using descriptive variable names, maintaining appropriate spacing for readability, and adding comments to clarify your code.\n",
    "\n",
    "- Ensure written responses use correct spelling, complete sentences, and proper grammar.\n",
    "\n",
    "**Name:**\n",
    "\n",
    "**Section:**\n",
    "\n",
    "**Date:**\n",
    "\n",
    "Let's get started!"
   ]
  },
  {
   "cell_type": "markdown",
   "id": "0e390b31-e75e-471f-8f7e-42a524217b44",
   "metadata": {},
   "source": [
    "### More About the Datascience Package\n",
    "\n",
    "The `datascience` package is a beginner-friendly Python library developed at UC Berkeley to support its introductory data science course, **Data 8**. It simplifies working with data by providing an easy-to-use `Table` structure, making it accessible to students with little or no programming experience.\n",
    "\n",
    "The `Table` class functions like a spreadsheet. You can create tables from scratch or load them from CSV files using `Table.read_table()`. Once loaded, tables support a range of operations for analyzing and transforming data.\n",
    "\n",
    "#### Common `Table` Operations\n",
    "\n",
    "| Operation        | Method                          | Description                                       |\n",
    "| ---------------- | ------------------------------- | ------------------------------------------------- |\n",
    "| Show data        | `table.show(n)`                 | Display first `n` rows                            |\n",
    "| Select columns   | `table.select('col1', ...)`     | Create new table with selected columns            |\n",
    "| Drop columns     | `table.drop('col1', ...)`       | Remove specified columns                          |\n",
    "| Filter rows      | `table.where('col', condition)` | Keep only rows that match a condition             |\n",
    "| Sort data        | `table.sort('col')`             | Sort rows by a column                             |\n",
    "| Group by values  | `table.group('col')`            | Group rows and count values                       |\n",
    "| Aggregate values | `table.group('col', func)`      | Group and apply custom function (e.g., `np.mean`) |\n",
    "| Join tables      | `table1.join('key', table2)`    | Merge tables based on a common column             |\n",
    "\n",
    "The package also includes simple charting functions like `.scatter()`, `.barh()`, and `.hist()` that are built on Matplotlib and allow students to visualize data with minimal code.\n",
    "\n",
    "Underneath the hood, the `datascience` package is built on top of NumPy and Matplotlib which provide numerical computation and plotting capabilities. \n",
    "\n",
    "In summary, `datascience` is a great starting point for exploring real data, performing analysis, and creating visualizations with clear and beginner-friendly Python code."
   ]
  },
  {
   "cell_type": "markdown",
   "id": "2605e3fa-d581-40b2-9149-97569ecd0175",
   "metadata": {},
   "source": [
    "**Question 1.** Import the `datascience` package. "
   ]
  },
  {
   "cell_type": "code",
   "execution_count": null,
   "id": "89d123f9-5658-4355-9f99-227fea6cfd9c",
   "metadata": {},
   "outputs": [],
   "source": [
    "..."
   ]
  },
  {
   "cell_type": "markdown",
   "id": "6d84d225-3717-43d7-a222-a36d02ca2910",
   "metadata": {},
   "source": [
    "**Question 2.** Load the `colleges.csv` file into a table named `colleges`."
   ]
  },
  {
   "cell_type": "code",
   "execution_count": null,
   "id": "1282c446-7d1e-4c2f-a192-49b8727d89dc",
   "metadata": {
    "tags": []
   },
   "outputs": [],
   "source": [
    "colleges = ..."
   ]
  },
  {
   "cell_type": "markdown",
   "id": "e8e3411d-dc72-4900-962a-531c56554d78",
   "metadata": {},
   "source": [
    "**Question 3.** Print the number of rows, number of columns, and all column labels from the `colleges` table."
   ]
  },
  {
   "cell_type": "code",
   "execution_count": null,
   "id": "d1073abc-1126-4fe2-8b76-b4b00f6725d2",
   "metadata": {},
   "outputs": [],
   "source": [
    "..."
   ]
  },
  {
   "cell_type": "markdown",
   "id": "4c310514-108f-462b-948d-3e51f7a58d33",
   "metadata": {},
   "source": [
    "### Summarize (Numerical)\n",
    "\n",
    "We can summarize numerical data using statistics like the mean and median. To calculate these summaries from table columns, we can use `np.mean()`, a function from the NumPy library, or `.mean()`, a method available on NumPy arrays returned by the `.column()` method.\n",
    "\n",
    "####  Functions and Methods\n",
    "\n",
    "A function like `np.mean()` is called independently and takes data as an argument, while a method like `.mean()` is called directly on an object (in this case, a NumPy array) and operates on that object. Functions and methods often perform similar tasks but differ in how they are applied.\n",
    "\n",
    "For beginners, `np.mean()` is often preferred for its clarity and consistency, especially when working with data structures other than NumPy arrays."
   ]
  },
  {
   "cell_type": "markdown",
   "id": "2b9fa607-8e35-4657-9559-b8abfa8104c4",
   "metadata": {},
   "source": [
    "**Question 4.**  Import Numpy with the appropriate alias. Then run the cells below to see."
   ]
  },
  {
   "cell_type": "code",
   "execution_count": null,
   "id": "f6337531-c55f-4299-a596-df76d765e564",
   "metadata": {},
   "outputs": [],
   "source": [
    "..."
   ]
  },
  {
   "cell_type": "code",
   "execution_count": null,
   "id": "b6e01f95-167d-4a74-b7e8-47aafcb22522",
   "metadata": {
    "tags": []
   },
   "outputs": [],
   "source": [
    "# Calculates the mean of a list of integers: (1 + 2 + 3) / 3 = 2.0\n",
    "np.mean([1, 2, 3])"
   ]
  },
  {
   "cell_type": "code",
   "execution_count": null,
   "id": "abf54292-4fcc-4464-86c0-88ef2dc67bf4",
   "metadata": {},
   "outputs": [],
   "source": [
    "# Calculates the mean of a tuple of integers: (1 + 2 + 3) / 3 = 2.0\n",
    "np.mean((1, 2, 3))"
   ]
  },
  {
   "cell_type": "code",
   "execution_count": null,
   "id": "8b612ef6-9dac-4018-b9a7-9a4e10701f4b",
   "metadata": {},
   "outputs": [],
   "source": [
    "# Calculates the mean of a range object from 0 to 3: (0 + 1 + 2 + 3) / 4 = 1.5\n",
    "np.mean(range(4))"
   ]
  },
  {
   "cell_type": "code",
   "execution_count": null,
   "id": "946440e2-9625-4475-9156-2d791dd20cd0",
   "metadata": {
    "tags": []
   },
   "outputs": [],
   "source": [
    "# Calculates the mean of a NumPy array: (1 + 2 + 3) / 3 = 2.0\n",
    "np.mean(np.array([1, 2, 3]))"
   ]
  },
  {
   "cell_type": "markdown",
   "id": "b388ac72-36b0-4bc5-9c8e-7d49eb03ada3",
   "metadata": {},
   "source": [
    "**Question 5.** Calculate the average `default_rate` for all institutions in the `colleges` table."
   ]
  },
  {
   "cell_type": "code",
   "execution_count": null,
   "id": "afa6429c-e70a-4090-82a8-11b5653984b5",
   "metadata": {
    "tags": []
   },
   "outputs": [],
   "source": [
    "..."
   ]
  },
  {
   "cell_type": "markdown",
   "id": "ec3003ac-d31a-488f-aab1-040cf42aa961",
   "metadata": {},
   "source": [
    "While the `datascience` package doesn't include a built-in function for calculating the five-number summary, we can use NumPy functions to compute each value individually and store the results in a dictionary for easy reference."
   ]
  },
  {
   "cell_type": "code",
   "execution_count": null,
   "id": "d3c919a3-4540-456b-bba2-84fa1760f866",
   "metadata": {
    "tags": []
   },
   "outputs": [],
   "source": [
    "col = colleges.column('default_rate')  # Get the NumPy array from the column\n",
    "\n",
    "summary = {\n",
    "    \"Minimum\": np.min(col),\n",
    "    \"Q1\": np.percentile(col, 25),\n",
    "    \"Median\": np.median(col),\n",
    "    \"Q3\": np.percentile(col, 75),\n",
    "    \"Maximum\": np.max(col)\n",
    "}\n",
    "\n",
    "summary"
   ]
  },
  {
   "cell_type": "markdown",
   "id": "ec443df4-25d6-4c57-9c2c-01728c40a225",
   "metadata": {},
   "source": [
    "### Summarize (Categorical)\n",
    "\n",
    "We can also generate summary statistics from columns that contain categorical data, such as counting how often each category label appears."
   ]
  },
  {
   "cell_type": "markdown",
   "id": "7cf8456c-3864-480f-9f3f-4423633544f3",
   "metadata": {},
   "source": [
    "**Question 6.** Count the frequency of each category in the `ownership` column."
   ]
  },
  {
   "cell_type": "code",
   "execution_count": null,
   "id": "b09d030e-a3b2-4456-bf37-eb77c6151e42",
   "metadata": {
    "tags": []
   },
   "outputs": [],
   "source": [
    "..."
   ]
  },
  {
   "cell_type": "markdown",
   "id": "a1d67b7b-985a-460f-9cf6-de24657f1b09",
   "metadata": {},
   "source": [
    "To get a better sense of the distribution between ownership statuses across all institutions, we can use proportions. This approach offers several advantages:\n",
    "\n",
    "- Proportions adjust for different group sizes, making comparisons meaningful.\n",
    "\n",
    "- Values range from 0 to 1, making patterns easier to interpret.\n",
    "\n",
    "- Proportions show true representation, not just raw totals.\n",
    "\n",
    "Run the cells below to see how this can be done."
   ]
  },
  {
   "cell_type": "code",
   "execution_count": null,
   "id": "a2023270-2f18-4895-b73e-dafa8186a9a4",
   "metadata": {
    "tags": []
   },
   "outputs": [],
   "source": [
    "# Group and count\n",
    "ownership_counts = colleges.group('ownership')\n",
    "ownership_counts"
   ]
  },
  {
   "cell_type": "code",
   "execution_count": null,
   "id": "8ff77ef8-d1b0-4d81-9362-20d694d425ae",
   "metadata": {
    "tags": []
   },
   "outputs": [],
   "source": [
    "# Add a new column with proportions\n",
    "ownership_proportions = ownership_counts.with_column(\n",
    "    'proportion', ownership_counts.column('count') / ownership_counts.column('count').sum()\n",
    ")\n",
    "\n",
    "ownership_proportions"
   ]
  },
  {
   "cell_type": "markdown",
   "id": "9e8819a0-8132-43d8-8bf1-6bf5ee1435ae",
   "metadata": {},
   "source": [
    "#### Summarize (Visualization)\n",
    "\n",
    "Visualizations are also useful for summarizing both numerical and categorical data. A histogram displays the distribution of a single numerical variable, while a bar chart is ideal for summarizing categorical variables.\n",
    "\n",
    "These visual tools help us understand the frequency and pattern of values across different categories or ranges."
   ]
  },
  {
   "cell_type": "markdown",
   "id": "5837baa0-63f2-4fb4-a221-6358be8910e6",
   "metadata": {},
   "source": [
    "Let's import `matplotlib.pyplot` using the appropriate alias, and include the `%matplotlib inline` magic command to ensure that visualizations are displayed directly within the notebook."
   ]
  },
  {
   "cell_type": "code",
   "execution_count": null,
   "id": "25a42e50-fe62-4e8f-8318-28bf33687aae",
   "metadata": {
    "tags": []
   },
   "outputs": [],
   "source": [
    "import matplotlib.pyplot as plt \n",
    "%matplotlib inline"
   ]
  },
  {
   "cell_type": "markdown",
   "id": "56ddcef7-ba87-4a39-8cd9-ca4c73fb410a",
   "metadata": {},
   "source": [
    "**Question 7.** Create a histogram using the values from the `default_rate` column."
   ]
  },
  {
   "cell_type": "code",
   "execution_count": null,
   "id": "a9c0ad39-ba85-4854-af40-192d20c16720",
   "metadata": {
    "tags": []
   },
   "outputs": [],
   "source": [
    "..."
   ]
  },
  {
   "cell_type": "markdown",
   "id": "dcd4eb40-4805-4cff-9ec3-467fcb8ce2c9",
   "metadata": {},
   "source": [
    "**Question 8.** Create a bar chart based on the categories in the `ownership` column."
   ]
  },
  {
   "cell_type": "code",
   "execution_count": null,
   "id": "20172f6e-06a5-4319-a176-7a761ceaf60b",
   "metadata": {
    "tags": []
   },
   "outputs": [],
   "source": [
    "..."
   ]
  },
  {
   "cell_type": "markdown",
   "id": "4b4578d5-b543-4e64-87c1-196d592ad211",
   "metadata": {},
   "source": [
    "### Filter (Numerical)\n",
    "\n",
    "The filter data move allows us to narrow down a dataset by selecting only the rows that meet certain conditions. When filtering based on numerical features, we use comparisons (such as greater than, less than, or equal to) to isolate specific ranges or values of interest. This helps us focus on a subset of data that meets meaningful criteria. For example, selecting only colleges with an average debt greater than $20,000 or an admit rate below 50%. Filtering enables more targeted analysis and can reveal patterns or trends that may be hidden in the full dataset."
   ]
  },
  {
   "cell_type": "markdown",
   "id": "e333a9ff-d292-408d-a7a5-9a5cc0cb51f9",
   "metadata": {},
   "source": [
    "**Question 9.** Filter the `colleges` table to keep only the rows where the default rate is more than double the average default rate."
   ]
  },
  {
   "cell_type": "code",
   "execution_count": null,
   "id": "2c6eec71-b8be-40ac-b4e9-76eede130756",
   "metadata": {
    "tags": []
   },
   "outputs": [],
   "source": [
    "..."
   ]
  },
  {
   "cell_type": "markdown",
   "id": "94ab86c9-886d-4ed4-89fd-ce1cafe0bf5d",
   "metadata": {},
   "source": [
    "### Filter (Categorical)\n",
    "\n",
    "The filter data move can also be used with categorical features to select rows that match specific category labels. This allows us to focus on particular groups within the data. For example, filtering a college dataset to show only public institutions or only schools located in the Midwest region. By narrowing the dataset to one or more categories, we can compare groups more directly or analyze patterns specific to that subset. Filtering by category is especially useful for making group-specific summaries or visualizations."
   ]
  },
  {
   "cell_type": "markdown",
   "id": "107a2269-55a0-4f89-bcf2-59d5653a5177",
   "metadata": {},
   "source": [
    "**Question 10.** Filter the `colleges` table to keep only the rows where the highest degree offered is a certificate."
   ]
  },
  {
   "cell_type": "code",
   "execution_count": null,
   "id": "11d14aef-bcbf-4b20-81f7-fc6bdab916e0",
   "metadata": {},
   "outputs": [],
   "source": [
    "..."
   ]
  },
  {
   "cell_type": "markdown",
   "id": "2010f5b5-967a-4f91-a60e-4a7eec80f813",
   "metadata": {},
   "source": [
    "## Submission\n",
    "\n",
    "Make sure that all cells in your assignment have been executed to display all output, images, and graphs in the final document.\n",
    "\n",
    "**Note:** Save the assignment before proceeding to download the file.\n",
    "\n",
    "After downloading, locate the `.ipynb` file and upload **only** this file to Moodle. The assignment will be automatically submitted to Gradescope for grading."
   ]
  }
 ],
 "metadata": {
  "kernelspec": {
   "display_name": "Python 3 (ipykernel)",
   "language": "python",
   "name": "python3"
  },
  "language_info": {
   "codemirror_mode": {
    "name": "ipython",
    "version": 3
   },
   "file_extension": ".py",
   "mimetype": "text/x-python",
   "name": "python",
   "nbconvert_exporter": "python",
   "pygments_lexer": "ipython3",
   "version": "3.10.11"
  }
 },
 "nbformat": 4,
 "nbformat_minor": 5
}
