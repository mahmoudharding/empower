{
 "cells": [
  {
   "cell_type": "markdown",
   "id": "85a8792d-e167-4f1f-a60c-c20a2cf21f3f",
   "metadata": {},
   "source": [
    "# Lab 03\n",
    "\n",
    "## Python Libraries and Packages\n",
    "\n",
    "In this assignment, you’ll be introduced to Python and learn how to import packages and use their functions effectively in your code.\n",
    "\n",
    "## Guidelines\n",
    "\n",
    "- Follow good programming practices by using descriptive variable names, maintaining appropriate spacing for readability, and adding comments to clarify your code.\n",
    "\n",
    "- Ensure written responses use correct spelling, complete sentences, and proper grammar.\n",
    "\n",
    "**Name:**\n",
    "\n",
    "**Section:**\n",
    "\n",
    "**Date:**\n",
    "\n",
    "Let's get started!"
   ]
  },
  {
   "cell_type": "markdown",
   "id": "0e390b31-e75e-471f-8f7e-42a524217b44",
   "metadata": {},
   "source": [
    "### What are Python libraries and packages?\n",
    "\n",
    "In Python, **libraries** and **packages** help you do more with less code. A **library** is a collection of pre-written code that provides tools and functions for specific tasks—like working with data, making graphs, or doing math. A **package** is a way to organize that code into structured folders and modules so it's easier to manage and reuse.\n",
    "\n",
    "Libraries often include their own custom data structures to make working with certain types of data easier. For example, the:\n",
    "\n",
    "- `datascience` package provides a `Table` data structure for analyzing tabular data. \n",
    "\n",
    "- `numpy` library introduces the `ndarray` for performing fast, efficient computations on numerical data. \n",
    "\n",
    "- `matplotlib` library offers tools to create visualizations like bar charts and scatter plots, helping you understand data through graphs.\n",
    "\n",
    "When you **import a package or library**, you're gaining access to these tools and data structures."
   ]
  },
  {
   "cell_type": "markdown",
   "id": "f1aa1ba2-ccdb-483b-9ed3-b8e859eb7a7c",
   "metadata": {},
   "source": [
    "### Lists\n",
    "\n",
    "Lists are a versatile data structure in Python, allowing us to store and manipulate collections of data efficiently. However, Python lists have limitations when it comes to performing arithmetic operations directly on their elements. Let’s explore these limitations."
   ]
  },
  {
   "cell_type": "markdown",
   "id": "db0b067c-b89c-46eb-8195-e0d75a6f428c",
   "metadata": {},
   "source": [
    "**Question 1.** Create a list named `one_to_ten` that contains the integers from 1 to 10."
   ]
  },
  {
   "cell_type": "code",
   "execution_count": 1,
   "id": "aa3c1a4a-60b8-408a-b4ff-5e641858d92c",
   "metadata": {
    "tags": []
   },
   "outputs": [],
   "source": [
    "one_to_ten = ..."
   ]
  },
  {
   "cell_type": "markdown",
   "id": "90f87a35-b0b5-4fb9-bdbf-d1d2c1b257ba",
   "metadata": {},
   "source": [
    "What do you think the code below will do?\n",
    "\n",
    "```python\n",
    "one_to_ten * 2\n",
    "```\n",
    "\n",
    "Run the cell below to see."
   ]
  },
  {
   "cell_type": "code",
   "execution_count": 2,
   "id": "f43e6159-c34e-47a4-95a8-1209436a1ac8",
   "metadata": {},
   "outputs": [
    {
     "ename": "TypeError",
     "evalue": "unsupported operand type(s) for *: 'ellipsis' and 'int'",
     "output_type": "error",
     "traceback": [
      "\u001b[0;31m---------------------------------------------------------------------------\u001b[0m",
      "\u001b[0;31mTypeError\u001b[0m                                 Traceback (most recent call last)",
      "Cell \u001b[0;32mIn[2], line 1\u001b[0m\n\u001b[0;32m----> 1\u001b[0m \u001b[43mone_to_ten\u001b[49m\u001b[43m \u001b[49m\u001b[38;5;241;43m*\u001b[39;49m\u001b[43m \u001b[49m\u001b[38;5;241;43m2\u001b[39;49m\n",
      "\u001b[0;31mTypeError\u001b[0m: unsupported operand type(s) for *: 'ellipsis' and 'int'"
     ]
    }
   ],
   "source": [
    "one_to_ten * 2"
   ]
  },
  {
   "cell_type": "markdown",
   "id": "d5cf254f-522a-4e8e-9ce5-1eac61445209",
   "metadata": {},
   "source": [
    "### NumPy\n",
    "\n",
    "#### What is NumPy?\n",
    "\n",
    "- NumPy is a Python library used for working with arrays.\n",
    "\n",
    "- It also has functions for working in domain of linear algebra, fourier transform, and matrices.\n",
    "\n",
    "- NumPy was created in 2005 by Travis Oliphant. It is an open source project and you can use it freely.\n",
    "\n",
    "- NumPy stands for Numerical Python.\n",
    "\n",
    "#### Why use NumPy?\n",
    "\n",
    "- In Python we have lists that serve the purpose of arrays, but they are slow to process.\n",
    "\n",
    "- NumPy aims to provide an array object that is up to 50x faster than traditional Python lists.\n",
    "\n",
    "- The array object in NumPy is called `ndarray`, it provides a lot of supporting functions that make working with `ndarray` very easy.\n",
    "\n",
    "Arrays are very frequently used in data science, where speed and resources are very important.\n",
    "\n",
    "**Source:** [W3Schools](https://www.w3schools.com/python/numpy/numpy_intro.asp)\n",
    "\n",
    "We need to import NumPy because it doesn't come pre-installed with Python by default. While Python provides built-in data structures like lists, NumPy offers more specialized, efficient tools for numerical and scientific computing. To access these features, you must explicitly install and import the NumPy library."
   ]
  },
  {
   "cell_type": "markdown",
   "id": "9c8f910f-af76-4f17-9a19-c44021de147f",
   "metadata": {},
   "source": [
    "**Question 2.** Import the NumPy library and give it the alias `np`."
   ]
  },
  {
   "cell_type": "code",
   "execution_count": null,
   "id": "7b70de69-9cc3-42f7-923d-b4b9b0238512",
   "metadata": {
    "tags": []
   },
   "outputs": [],
   "source": [
    "..."
   ]
  },
  {
   "cell_type": "markdown",
   "id": "6a8dd000-877a-4ed7-9c75-7f463e673317",
   "metadata": {},
   "source": [
    "The alias `np` it easier to use NumPy functions—for example, instead of writing `numpy.array()`, you can simply write `np.array()`."
   ]
  },
  {
   "cell_type": "markdown",
   "id": "3c37590c-c55a-42ed-9d80-550af687fdec",
   "metadata": {},
   "source": [
    "We can create a Numpy array with the `np.array` command and using a list as the function parameter. We can enter the list manually, or we can enter the name of a list that has already been defined. For example, the code \n",
    "\n",
    "```python\n",
    "np.array([1, 2, 3, 4,5, 6, 7, 8, 9, 10])\n",
    "```\n",
    "\n",
    "takes the list `[1, 2, 3, 4,5, 6, 7, 8, 9, 10]` and returns it as a Numpy array\n",
    "\n",
    "```\n",
    "array([ 1,  2,  3,  4,  5,  6,  7,  8,  9, 10])\n",
    "```\n",
    "\n",
    "Run the cell below to see."
   ]
  },
  {
   "cell_type": "code",
   "execution_count": null,
   "id": "7c1d2793-d31d-44e5-99dd-56b87758b307",
   "metadata": {
    "tags": []
   },
   "outputs": [],
   "source": [
    "np.array([1, 2, 3, 4,5, 6, 7, 8, 9, 10])"
   ]
  },
  {
   "cell_type": "markdown",
   "id": "b3731661-4c0c-4264-ac46-10e7b72fcf54",
   "metadata": {},
   "source": [
    "**Question 3.** Convert the list `one_to_ten` into a NumPy array and store it in a variable called `arr`."
   ]
  },
  {
   "cell_type": "code",
   "execution_count": null,
   "id": "6a3dc90d-81e0-4fe7-9db5-869fce61f1a9",
   "metadata": {
    "tags": []
   },
   "outputs": [],
   "source": [
    "arr = ...\n",
    "arr"
   ]
  },
  {
   "cell_type": "markdown",
   "id": "87cd94c5-f062-479d-9118-8d5ed51fd323",
   "metadata": {},
   "source": [
    "Run the code cell below. What do you notice?"
   ]
  },
  {
   "cell_type": "code",
   "execution_count": null,
   "id": "84b9ed79-5457-4ce5-a3a8-eeff9f1b11b1",
   "metadata": {
    "tags": []
   },
   "outputs": [],
   "source": [
    "arr * 2"
   ]
  },
  {
   "cell_type": "markdown",
   "id": "3c54b9ad-2cb4-474f-9814-90b1aa2c9f90",
   "metadata": {},
   "source": [
    "NumPy provides a wide range of built-in functions for performing computations on arrays. It includes operations such as addition, multiplication, and statistical calculations, all optimized for handling large datasets."
   ]
  },
  {
   "cell_type": "markdown",
   "id": "4040ccaa-1b76-462c-bdd2-b2501ba28144",
   "metadata": {},
   "source": [
    "**Question 4.** Load the `world_population.csv` file into a 1-dimensional Numpy array using the `loadtxt()` function. The dataset contains world population estimates from 1950 - 2025. More information on the dataset can be found in the [World Population Datasheet](https://docs.google.com/document/d/16l713CUyuwHvWURkGiUJB6kh5G09ihiNioG7wBjQECQ/edit?usp=sharing).\n",
    "\n",
    "**Note:** To use functions from te `Numpy` module we need to use the alias we set up in our imoprt statement."
   ]
  },
  {
   "cell_type": "code",
   "execution_count": null,
   "id": "89507579-2dd1-46fd-b646-9eef7b350734",
   "metadata": {
    "tags": []
   },
   "outputs": [],
   "source": [
    "population = ...\n",
    "population"
   ]
  },
  {
   "cell_type": "markdown",
   "id": "9601b5aa-12e2-43ca-8915-80d8edde7c44",
   "metadata": {},
   "source": [
    "**Question 5.** Use NumPy’s `diff()` function to calculate the year-to-year change in population values."
   ]
  },
  {
   "cell_type": "code",
   "execution_count": null,
   "id": "53fa8a16-21f2-4ef4-a1c4-c4d9b100e7f6",
   "metadata": {
    "tags": []
   },
   "outputs": [],
   "source": [
    "diff = ...\n",
    "diff"
   ]
  },
  {
   "cell_type": "markdown",
   "id": "3caf4bfa-5c84-4c6b-8f61-8b2cb13c1da6",
   "metadata": {
    "tags": []
   },
   "source": [
    "**Question 6.** Calculate the percent change in population."
   ]
  },
  {
   "cell_type": "code",
   "execution_count": null,
   "id": "8c5adae1-7000-486e-b912-aae1e35e72bb",
   "metadata": {
    "tags": []
   },
   "outputs": [],
   "source": [
    "pct_change = ...\n",
    "pct_change "
   ]
  },
  {
   "cell_type": "markdown",
   "id": "c36bf6f8-ddc4-444f-9b55-10ddff057afe",
   "metadata": {},
   "source": [
    "### Matplotlib\n",
    "\n",
    "#### What is Matplotlib?\n",
    "\n",
    "- Matplotlib is a popular Python library used for creating static, animated, and interactive visualizations.\n",
    "\n",
    "- It was originally developed by John D. Hunter in 2003 and is now maintained by a large community of contributors.\n",
    "\n",
    "- Matplotlib is highly customizable and works well with other scientific computing libraries like NumPy.\n",
    "\n",
    "- It is widely used in data science and engineering for making line plots, bar charts, scatter plots, histograms, and more.\n",
    "\n",
    "#### Why use Matplotlib?\n",
    "\n",
    "- Python doesn’t have built-in tools for plotting data, so Matplotlib fills this gap with a plotting interface.\n",
    "\n",
    "- It gives you control over aspects of your figures like titles, axes, colors, grids, and more.\n",
    "\n",
    "- `matplotlib.pyplot` is its most commonly used module, often imported with the alias `plt`.\n",
    "\n",
    "Visualizations are important in data science for exploring trends, making comparisons, and communicating results.\n",
    "\n",
    "**Source:** [Matplotlib Docs](https://matplotlib.org/stable/users/index.html)\n",
    "\n",
    "We need to import Matplotlib explicitly because it is not included with the core Python installation. Once installed and imported, it gives you tools to create meaningful data visualizations from arrays, tables, or statistical models.\n",
    "\n",
    "Run the cell below to import Matplotlib with the appropriate alias."
   ]
  },
  {
   "cell_type": "code",
   "execution_count": null,
   "id": "a513441d-0669-4b2f-9164-10cb28cbf4cd",
   "metadata": {},
   "outputs": [],
   "source": [
    "import matplotlib.pyplot as plt"
   ]
  },
  {
   "cell_type": "markdown",
   "id": "64f43964-4eac-47d6-97f9-d71126463232",
   "metadata": {},
   "source": [
    "We can visualize the percent change in population over time using a line chart. Since the percent change values are already stored in a NumPy array called `pct_change`, the next step is to create a matching array of years. The `np.array()` function can accept iterables like `range(5)` as input.\n",
    "\n",
    "Run the code cells below to see examples."
   ]
  },
  {
   "cell_type": "code",
   "execution_count": null,
   "id": "d43ccb91-713f-4664-8235-a3199ac4caf8",
   "metadata": {
    "tags": []
   },
   "outputs": [],
   "source": [
    "# Creates an array of the values 1 to 5\n",
    "np.array(range(5))"
   ]
  },
  {
   "cell_type": "code",
   "execution_count": null,
   "id": "cdab150f",
   "metadata": {
    "tags": []
   },
   "outputs": [],
   "source": [
    "# Creates an array of the values 1 to 5\n",
    "np.array(range(1, 6))"
   ]
  },
  {
   "cell_type": "markdown",
   "id": "53271fff-3e4c-4428-8d64-7cec40abca6d",
   "metadata": {},
   "source": [
    "**Question 7.** Create a NumPy array for the years 1950 - 2024."
   ]
  },
  {
   "cell_type": "code",
   "execution_count": null,
   "id": "d1f517b8-9476-46a4-9656-46bdb4482def",
   "metadata": {
    "tags": []
   },
   "outputs": [],
   "source": [
    "year = ...\n",
    "year"
   ]
  },
  {
   "cell_type": "markdown",
   "id": "529baa31-c715-4e69-bc6f-26d6cfb3dcbf",
   "metadata": {
    "tags": []
   },
   "source": [
    "Now we can create a line chart."
   ]
  },
  {
   "cell_type": "code",
   "execution_count": null,
   "id": "e9568505-7ef2-4693-87a3-ed2c8519e17f",
   "metadata": {
    "tags": []
   },
   "outputs": [],
   "source": [
    "# Assign the x-axis values (years) and y-axis values (percent change)\n",
    "x = year\n",
    "y = pct_change\n",
    "\n",
    "# Create a line plot with years on the x-axis and percent change on the y-axis\n",
    "plt.plot(x, y)\n",
    "\n",
    "# Set the y-axis to start at 0\n",
    "plt.ylim(bottom = 0)\n",
    "\n",
    "# Label the x-axis\n",
    "plt.xlabel('Year')\n",
    "\n",
    "# Label the y-axis\n",
    "plt.ylabel('Percent Change (%)')\n",
    "\n",
    "# Add a title to the chart\n",
    "plt.title('Population Growth Over Time');"
   ]
  },
  {
   "cell_type": "markdown",
   "id": "7e293a67-333b-4203-8f4a-1ee11d9a6e87",
   "metadata": {},
   "source": [
    "### Datascience\n",
    "\n",
    "#### What is the Datascience Package?\n",
    "\n",
    "- The Datascience package is a Python library developed by UC Berkeley for teaching introductory data science.\n",
    "\n",
    "- It provides a simplified interface for working with tabular data, making it accessible to beginners.\n",
    "\n",
    "- The main feature is the `Table` class, which allows students to load, explore, transform, and visualize data.\n",
    "\n",
    "#### Why use Datascience?\n",
    "\n",
    "- It is beginner-friendly and designed specifically for students with little or no prior programming experience.\n",
    "\n",
    "- The `Table` data structure makes it easy to perform common data analysis tasks like filtering, grouping, and plotting.\n",
    "\n",
    "- Built-in methods like `.show()`, `.scatter()`, `.group()`, and `.where()` help users focus on learning data concepts rather than syntax.\n",
    "\n",
    "The `datascience` package is a great starting point for learning data science fundamentals before transitioning to more complex tools.\n",
    "\n",
    "**Source:** [Data 8 Reference](https://www.data8.org/datascience/)\n",
    "\n",
    "Since `datascience` is not a built-in module, you must install and import it before use. Once imported, it offers a toolkit for working with real datasets in educational settings.\n",
    "\n",
    "To import the `datascience` package use the code\n",
    "\n",
    "```python\n",
    "from datascience import *\n",
    "```\n",
    "\n",
    "`from datascience import *` means *“Import everything from the datascience package into the current namespace.”* where,\n",
    "\n",
    "- `datascience` is the name of the package\n",
    "\n",
    "- `*` means import all classes, functions, and variables defined in the package.\n",
    "\n",
    "\n",
    "This gives us direct access to tools like `Table`, plots, and functions without needing to prefix them with `datascience`. After this import, you can do:\n",
    "\n",
    "```python\n",
    "Table().with_columns('A', [1, 2, 3])\n",
    "```\n",
    "\n",
    "instead of:\n",
    "\n",
    "```python\n",
    "datascience.Table().with_columns('A', [1, 2, 3])\n",
    "```"
   ]
  },
  {
   "cell_type": "markdown",
   "id": "272e5a40-e663-4846-8cb0-1f5940bb119f",
   "metadata": {},
   "source": [
    "**Question 8.** Import the `datascience` package."
   ]
  },
  {
   "cell_type": "code",
   "execution_count": null,
   "id": "507a559a-6934-4970-8454-1da211dd97e3",
   "metadata": {
    "tags": []
   },
   "outputs": [],
   "source": [
    "..."
   ]
  },
  {
   "cell_type": "markdown",
   "id": "1998b3df-6ef6-46a7-8d41-d6be81408d55",
   "metadata": {},
   "source": [
    "We can load a wolrd population dataset that has more features (variables) than just the population. More information on the dataset can be found in the [World Population Data Datasheet](https://docs.google.com/document/d/1dBuTsb7YAgj5h8Zp_CoQnfLeFh4Q-SKC54lLZgK08Wc/edit?usp=sharing).\n",
    "\n",
    "Run the cell below to load the `world_population_data.csv` dataset."
   ]
  },
  {
   "cell_type": "code",
   "execution_count": null,
   "id": "e29551ef-65ab-4067-ab3f-48cf340781f1",
   "metadata": {
    "tags": []
   },
   "outputs": [],
   "source": [
    "world_population = Table.read_table('data/world_population_data.csv')\n",
    "world_population"
   ]
  },
  {
   "cell_type": "markdown",
   "id": "d870b5b5-0567-4e7f-bb82-6df36930c304",
   "metadata": {},
   "source": [
    "**Question 9.** What do you notice? What do you wonder? Take a moment to reflect on the chart or data above. Discuss your observations and questions with a partner, then write down three insights or curiosities in the cell below."
   ]
  },
  {
   "cell_type": "markdown",
   "id": "3ef0fa2e-39fe-49ab-97a4-ae598db28a2f",
   "metadata": {},
   "source": [
    "_TYPE YOUR RESPONSE IN THIS CELL REPLCAING THIS TEXT_"
   ]
  },
  {
   "cell_type": "markdown",
   "id": "0a68b4ec-b132-4097-aaad-cf8e2c126ddb",
   "metadata": {},
   "source": [
    "**Question 10.** Refer to [Python Reference](https://www.data8.org/fa23/reference/) to find the method used to determine the number of rows, the number of columns, and the column labels in a table. Then, use `print()` statements and the appropriate method(s) to display the number of rows and columns in the `world_population` table."
   ]
  },
  {
   "cell_type": "code",
   "execution_count": null,
   "id": "11d14aef-bcbf-4b20-81f7-fc6bdab916e0",
   "metadata": {},
   "outputs": [],
   "source": [
    "..."
   ]
  },
  {
   "cell_type": "markdown",
   "id": "2010f5b5-967a-4f91-a60e-4a7eec80f813",
   "metadata": {},
   "source": [
    "## Submission\n",
    "\n",
    "Make sure that all cells in your assignment have been executed to display all output, images, and graphs in the final document.\n",
    "\n",
    "**Note:** Save the assignment before proceeding to download the file.\n",
    "\n",
    "After downloading, locate the `.ipynb` file and upload **only** this file to Moodle. The assignment will be automatically submitted to Gradescope for grading."
   ]
  }
 ],
 "metadata": {
  "kernelspec": {
   "display_name": "Python 3 (ipykernel)",
   "language": "python",
   "name": "python3"
  },
  "language_info": {
   "codemirror_mode": {
    "name": "ipython",
    "version": 3
   },
   "file_extension": ".py",
   "mimetype": "text/x-python",
   "name": "python",
   "nbconvert_exporter": "python",
   "pygments_lexer": "ipython3",
   "version": "3.10.11"
  }
 },
 "nbformat": 4,
 "nbformat_minor": 5
}
