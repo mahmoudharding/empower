{
 "cells": [
  {
   "cell_type": "markdown",
   "id": "e0574f69-46b5-410f-b132-ba465b39a2fd",
   "metadata": {},
   "source": [
    "# Data Dive\n",
    "\n",
    "## Dataset\n",
    "\n",
    "This dataset offers a detailed snapshot of global retail sales from the fast-growing sneaker and streetwear market between January and August 2022. It captures essential sales insights from multiple countries, spanning brands like Nike, Adidas, Supreme, Yeezy, and Off-White, along with high-demand categories such as sneakers, hoodies, joggers, and graphic tees.\n",
    "\n",
    "Source: [Sneakers and Streetwear](https://www.kaggle.com/datasets/atharvasoundankar/sneakers-and-streetwear-sales-2022?resource=download)\n",
    "\n",
    "Put a link to the Datasheet"
   ]
  },
  {
   "cell_type": "code",
   "execution_count": 1,
   "id": "34cb08f9-3201-440f-8006-6c86171f6f9a",
   "metadata": {},
   "outputs": [],
   "source": [
    "from datascience import * # Import the datascience\n",
    "import numpy as np # Import numpy using the alias np\n",
    "import matplotlib.pyplot as plt # Import matplotlib.pyplot using the alias plt\n",
    "\n",
    "# Magic command to make plot appear in the notebook\n",
    "%matplotlib inline "
   ]
  },
  {
   "cell_type": "code",
   "execution_count": 2,
   "id": "5aa19da9-8846-4d6f-a7c1-a5571eb328b0",
   "metadata": {},
   "outputs": [],
   "source": [
    "ss = Table.read_table('data/sneakers_streetwear_sales_data.csv')"
   ]
  },
  {
   "cell_type": "code",
   "execution_count": 9,
   "id": "b08e6b4d-d14b-48fe-90d0-a97d10d2ced5",
   "metadata": {},
   "outputs": [
    {
     "data": {
      "text/html": [
       "<table border=\"1\" class=\"dataframe\">\n",
       "    <thead>\n",
       "        <tr>\n",
       "            <th>Date</th> <th>Product Name</th> <th>Product Type</th> <th>Brand</th> <th>Gender</th> <th>Category</th> <th>Country</th> <th>Quantity</th> <th>Unit Price ($)</th> <th>Amount ($)</th> <th>Payment Mode</th>\n",
       "        </tr>\n",
       "    </thead>\n",
       "    <tbody>\n",
       "        <tr>\n",
       "            <td>5/27/22</td> <td>Fear of God Essentials Tee</td> <td>T-shirt     </td> <td>Essentials</td> <td>Unisex</td> <td>Limited Edition</td> <td>Japan  </td> <td>5       </td> <td>141.82        </td> <td>709.1     </td> <td>Card            </td>\n",
       "        </tr>\n",
       "        <tr>\n",
       "            <td>8/22/22</td> <td>Yeezy Boost 350           </td> <td>Sneakers    </td> <td>Adidas    </td> <td>Unisex</td> <td>Streetwear     </td> <td>USA    </td> <td>2       </td> <td>267.34        </td> <td>534.68    </td> <td>Cash on Delivery</td>\n",
       "        </tr>\n",
       "        <tr>\n",
       "            <td>4/3/22 </td> <td>Nike Dunk Low             </td> <td>Sneakers    </td> <td>Nike      </td> <td>Women </td> <td>Limited Edition</td> <td>Germany</td> <td>1       </td> <td>292           </td> <td>292       </td> <td>Cash on Delivery</td>\n",
       "        </tr>\n",
       "    </tbody>\n",
       "</table>\n",
       "<p>... (350 rows omitted)</p>"
      ],
      "text/plain": [
       "<IPython.core.display.HTML object>"
      ]
     },
     "metadata": {},
     "output_type": "display_data"
    }
   ],
   "source": [
    "ss.show(3)"
   ]
  },
  {
   "cell_type": "markdown",
   "id": "7d94b1a8-6779-46ed-a37f-87c60e75a01f",
   "metadata": {},
   "source": [
    "### Data Dive\n",
    "\n",
    "- List the number of rows, columns, and the column names.\n",
    "- Data Moves\n",
    "   - Summarize\n",
    "   - Calculate"
   ]
  },
  {
   "cell_type": "code",
   "execution_count": 12,
   "id": "2289dfd1-a720-4546-9b01-1a0973b2e8b0",
   "metadata": {},
   "outputs": [
    {
     "data": {
      "text/plain": [
       "174.60705382436259"
      ]
     },
     "execution_count": 12,
     "metadata": {},
     "output_type": "execute_result"
    }
   ],
   "source": [
    "unit_price = ss.column('Unit Price ($)')\n",
    "np.mean(unit_price)"
   ]
  },
  {
   "cell_type": "markdown",
   "id": "7a7379fb-7252-4bb6-b15d-7e4456ef8fb8",
   "metadata": {},
   "source": [
    "# Filter\n",
    "\n",
    "Filter by product type."
   ]
  },
  {
   "cell_type": "code",
   "execution_count": 31,
   "id": "e86a1021-00a5-4046-b08f-20af8f7a5ff9",
   "metadata": {},
   "outputs": [],
   "source": [
    "cap = ss.where('Product Type', are.equal_to('Cap'))\n",
    "hoodie = ss.where('Product Type', are.equal_to('Hoodie'))\n",
    "joggers = ss.where('Product Type', are.equal_to('Joggers'))\n",
    "sneakers = ss.where('Product Type', are.equal_to('Sneakers'))\n",
    "tshirt = ss.where('Product Type', are.equal_to('T-shirt'))"
   ]
  },
  {
   "cell_type": "code",
   "execution_count": 21,
   "id": "5a872971-5cfa-4f96-82cf-536c6a31ba66",
   "metadata": {},
   "outputs": [
    {
     "data": {
      "text/html": [
       "<table border=\"1\" class=\"dataframe\">\n",
       "    <thead>\n",
       "        <tr>\n",
       "            <th>Product Type</th> <th>count</th>\n",
       "        </tr>\n",
       "    </thead>\n",
       "    <tbody>\n",
       "        <tr>\n",
       "            <td>Cap         </td> <td>29   </td>\n",
       "        </tr>\n",
       "        <tr>\n",
       "            <td>Hoodie      </td> <td>121  </td>\n",
       "        </tr>\n",
       "        <tr>\n",
       "            <td>Joggers     </td> <td>41   </td>\n",
       "        </tr>\n",
       "        <tr>\n",
       "            <td>Sneakers    </td> <td>136  </td>\n",
       "        </tr>\n",
       "        <tr>\n",
       "            <td>T-shirt     </td> <td>26   </td>\n",
       "        </tr>\n",
       "    </tbody>\n",
       "</table>"
      ],
      "text/plain": [
       "Product Type | count\n",
       "Cap          | 29\n",
       "Hoodie       | 121\n",
       "Joggers      | 41\n",
       "Sneakers     | 136\n",
       "T-shirt      | 26"
      ]
     },
     "execution_count": 21,
     "metadata": {},
     "output_type": "execute_result"
    }
   ],
   "source": [
    "tbl = ss.group('Product Type')\n",
    "tbl"
   ]
  },
  {
   "cell_type": "code",
   "execution_count": 23,
   "id": "26486bad-fe4a-4c38-9bbc-2feb602a1eb4",
   "metadata": {},
   "outputs": [
    {
     "data": {
      "text/html": [
       "<table border=\"1\" class=\"dataframe\">\n",
       "    <thead>\n",
       "        <tr>\n",
       "            <th>Product Type</th> <th>count</th> <th>proportion</th>\n",
       "        </tr>\n",
       "    </thead>\n",
       "    <tbody>\n",
       "        <tr>\n",
       "            <td>Cap         </td> <td>29   </td> <td>0.08      </td>\n",
       "        </tr>\n",
       "        <tr>\n",
       "            <td>Hoodie      </td> <td>121  </td> <td>0.34      </td>\n",
       "        </tr>\n",
       "        <tr>\n",
       "            <td>Joggers     </td> <td>41   </td> <td>0.12      </td>\n",
       "        </tr>\n",
       "        <tr>\n",
       "            <td>Sneakers    </td> <td>136  </td> <td>0.39      </td>\n",
       "        </tr>\n",
       "        <tr>\n",
       "            <td>T-shirt     </td> <td>26   </td> <td>0.07      </td>\n",
       "        </tr>\n",
       "    </tbody>\n",
       "</table>"
      ],
      "text/plain": [
       "Product Type | count | proportion\n",
       "Cap          | 29    | 0.08\n",
       "Hoodie       | 121   | 0.34\n",
       "Joggers      | 41    | 0.12\n",
       "Sneakers     | 136   | 0.39\n",
       "T-shirt      | 26    | 0.07"
      ]
     },
     "execution_count": 23,
     "metadata": {},
     "output_type": "execute_result"
    }
   ],
   "source": [
    "tbl.with_column(\n",
    "    'proportion',\n",
    "    np.round(tbl.column('count')/ss.num_rows, 2)\n",
    ")"
   ]
  },
  {
   "cell_type": "code",
   "execution_count": 32,
   "id": "a2c6c146-e153-4477-9e1c-9ba3aa941caa",
   "metadata": {},
   "outputs": [
    {
     "data": {
      "text/html": [
       "<table border=\"1\" class=\"dataframe\">\n",
       "    <thead>\n",
       "        <tr>\n",
       "            <th>Product Type</th> <th>count</th> <th>proportion</th> <th>mean_unit_price</th>\n",
       "        </tr>\n",
       "    </thead>\n",
       "    <tbody>\n",
       "        <tr>\n",
       "            <td>Cap         </td> <td>29   </td> <td>0.08      </td> <td>166.116        </td>\n",
       "        </tr>\n",
       "        <tr>\n",
       "            <td>Hoodie      </td> <td>121  </td> <td>0.34      </td> <td>164.943        </td>\n",
       "        </tr>\n",
       "        <tr>\n",
       "            <td>Joggers     </td> <td>41   </td> <td>0.12      </td> <td>184.834        </td>\n",
       "        </tr>\n",
       "        <tr>\n",
       "            <td>Sneakers    </td> <td>136  </td> <td>0.39      </td> <td>182.749        </td>\n",
       "        </tr>\n",
       "        <tr>\n",
       "            <td>T-shirt     </td> <td>26   </td> <td>0.07      </td> <td>170.339        </td>\n",
       "        </tr>\n",
       "    </tbody>\n",
       "</table>"
      ],
      "text/plain": [
       "Product Type | count | proportion | mean_unit_price\n",
       "Cap          | 29    | 0.08       | 166.116\n",
       "Hoodie       | 121   | 0.34       | 164.943\n",
       "Joggers      | 41    | 0.12       | 184.834\n",
       "Sneakers     | 136   | 0.39       | 182.749\n",
       "T-shirt      | 26    | 0.07       | 170.339"
      ]
     },
     "execution_count": 32,
     "metadata": {},
     "output_type": "execute_result"
    }
   ],
   "source": [
    "cap_avg = np.mean(cap.column('Unit Price ($)'))\n",
    "hoodie_avg = np.mean(hoodie.column('Unit Price ($)'))\n",
    "joggers_avg = np.mean(joggers.column('Unit Price ($)'))\n",
    "sneakers_avg = np.mean(sneakers.column('Unit Price ($)'))\n",
    "tshirt_avg = np.mean(tshirt.column('Unit Price ($)'))\n",
    "\n",
    "tbl.with_columns(\n",
    "    'proportion',\n",
    "    np.round(tbl.column('count')/ss.num_rows, 2),\n",
    "    'mean_unit_price',\n",
    "    [cap_avg, hoodie_avg, joggers_avg, sneakers_avg, tshirt_avg]\n",
    ")"
   ]
  },
  {
   "cell_type": "code",
   "execution_count": 29,
   "id": "a21a6524-4191-44fa-ad68-9f9a6f224905",
   "metadata": {},
   "outputs": [
    {
     "data": {
      "text/plain": [
       "[166.11586206896553, 164.94297520661155, nan, nan, nan]"
      ]
     },
     "execution_count": 29,
     "metadata": {},
     "output_type": "execute_result"
    }
   ],
   "source": [
    "[cap_avg, hoodie_avg, joggers_avg, sneakers_avg, tshirt_avg]"
   ]
  },
  {
   "cell_type": "code",
   "execution_count": 16,
   "id": "2819c50b-e6a3-475c-b8ba-85b60e0a2585",
   "metadata": {},
   "outputs": [
    {
     "data": {
      "text/html": [
       "<table border=\"1\" class=\"dataframe\">\n",
       "    <thead>\n",
       "        <tr>\n",
       "            <th>Product Type</th> <th>count</th> <th>proportion</th>\n",
       "        </tr>\n",
       "    </thead>\n",
       "    <tbody>\n",
       "        <tr>\n",
       "            <td>Cap         </td> <td>29   </td> <td>0.08      </td>\n",
       "        </tr>\n",
       "        <tr>\n",
       "            <td>Hoodie      </td> <td>121  </td> <td>0.34      </td>\n",
       "        </tr>\n",
       "        <tr>\n",
       "            <td>Joggers     </td> <td>41   </td> <td>0.12      </td>\n",
       "        </tr>\n",
       "        <tr>\n",
       "            <td>Sneakers    </td> <td>136  </td> <td>0.39      </td>\n",
       "        </tr>\n",
       "        <tr>\n",
       "            <td>T-shirt     </td> <td>26   </td> <td>0.07      </td>\n",
       "        </tr>\n",
       "    </tbody>\n",
       "</table>"
      ],
      "text/plain": [
       "Product Type | count | proportion\n",
       "Cap          | 29    | 0.08\n",
       "Hoodie       | 121   | 0.34\n",
       "Joggers      | 41    | 0.12\n",
       "Sneakers     | 136   | 0.39\n",
       "T-shirt      | 26    | 0.07"
      ]
     },
     "execution_count": 16,
     "metadata": {},
     "output_type": "execute_result"
    }
   ],
   "source": [
    "ss.group('Product Type').with_column(\n",
    "    'proportion',\n",
    "    np.round(ss.group('Product Type').column('count')/ss.num_rows, 2)\n",
    ")"
   ]
  },
  {
   "cell_type": "code",
   "execution_count": 48,
   "id": "f776054e-0d32-4cdf-b04e-8c7f95cb7152",
   "metadata": {},
   "outputs": [
    {
     "data": {
      "text/html": [
       "<table border=\"1\" class=\"dataframe\">\n",
       "    <thead>\n",
       "        <tr>\n",
       "            <th>Product Type</th> <th>count</th> <th>proportion</th>\n",
       "        </tr>\n",
       "    </thead>\n",
       "    <tbody>\n",
       "        <tr>\n",
       "            <td>Hoodie      </td> <td>121  </td> <td>0.34      </td>\n",
       "        </tr>\n",
       "        <tr>\n",
       "            <td>Sneakers    </td> <td>136  </td> <td>0.39      </td>\n",
       "        </tr>\n",
       "    </tbody>\n",
       "</table>"
      ],
      "text/plain": [
       "Product Type | count | proportion\n",
       "Hoodie       | 121   | 0.34\n",
       "Sneakers     | 136   | 0.39"
      ]
     },
     "execution_count": 48,
     "metadata": {},
     "output_type": "execute_result"
    }
   ],
   "source": [
    "ss.group('Product Type').with_column(\n",
    "    'proportion',\n",
    "    np.round(ss.group('Product Type').column('count')/ss.num_rows, 2)\n",
    ").where('proportion', are.above(0.2))"
   ]
  },
  {
   "cell_type": "code",
   "execution_count": 47,
   "id": "23a7c793-1a77-4a90-9a0a-31a430de8eb6",
   "metadata": {},
   "outputs": [
    {
     "data": {
      "text/plain": [
       "166"
      ]
     },
     "execution_count": 47,
     "metadata": {},
     "output_type": "execute_result"
    }
   ],
   "source": [
    "cap_rows = ss.where('Product Type', 'Cap')\n",
    "\n",
    "cap_unit_price_column = cap_rows.column('Unit Price ($)')\n",
    "\n",
    "avg_cap_price = np.mean(cap_unit_price_column)\n",
    "\n",
    "rounded_avg_cap_price = round(avg_cap_price)\n",
    "\n",
    "rounded_avg_cap_price"
   ]
  },
  {
   "cell_type": "code",
   "execution_count": 42,
   "id": "54d44cdf-8015-4e75-a758-ae84800d09a6",
   "metadata": {},
   "outputs": [],
   "source": [
    "avg_cap_price = round(np.mean(ss.where('Product Type', 'Cap').column('Unit Price ($)')))"
   ]
  },
  {
   "cell_type": "code",
   "execution_count": 43,
   "id": "19a71727-8793-44c4-9c8d-66a382235d09",
   "metadata": {},
   "outputs": [
    {
     "data": {
      "text/html": [
       "<table border=\"1\" class=\"dataframe\">\n",
       "    <thead>\n",
       "        <tr>\n",
       "            <th>Date</th> <th>Product Name</th> <th>Product Type</th> <th>Brand</th> <th>Gender</th> <th>Category</th> <th>Country</th> <th>Quantity</th> <th>Unit Price ($)</th> <th>Amount ($)</th> <th>Payment Mode</th>\n",
       "        </tr>\n",
       "    </thead>\n",
       "    <tbody>\n",
       "        <tr>\n",
       "            <td>4/2/22 </td> <td>New Era Cap </td> <td>Cap         </td> <td>New Era</td> <td>Women </td> <td>Sportswear     </td> <td>Germany  </td> <td>1       </td> <td>167.77        </td> <td>167.77    </td> <td>Cash on Delivery</td>\n",
       "        </tr>\n",
       "        <tr>\n",
       "            <td>4/8/22 </td> <td>New Era Cap </td> <td>Cap         </td> <td>New Era</td> <td>Men   </td> <td>Limited Edition</td> <td>UK       </td> <td>4       </td> <td>107.31        </td> <td>429.24    </td> <td>UPI             </td>\n",
       "        </tr>\n",
       "        <tr>\n",
       "            <td>5/7/22 </td> <td>New Era Cap </td> <td>Cap         </td> <td>New Era</td> <td>Men   </td> <td>Sportswear     </td> <td>USA      </td> <td>3       </td> <td>295.25        </td> <td>885.75    </td> <td>Wallet          </td>\n",
       "        </tr>\n",
       "        <tr>\n",
       "            <td>6/28/22</td> <td>New Era Cap </td> <td>Cap         </td> <td>New Era</td> <td>Women </td> <td>Casual         </td> <td>Canada   </td> <td>4       </td> <td>185.54        </td> <td>742.16    </td> <td>UPI             </td>\n",
       "        </tr>\n",
       "        <tr>\n",
       "            <td>7/24/22</td> <td>New Era Cap </td> <td>Cap         </td> <td>New Era</td> <td>Unisex</td> <td>Limited Edition</td> <td>India    </td> <td>4       </td> <td>135.07        </td> <td>540.28    </td> <td>Cash on Delivery</td>\n",
       "        </tr>\n",
       "        <tr>\n",
       "            <td>2/13/22</td> <td>New Era Cap </td> <td>Cap         </td> <td>New Era</td> <td>Women </td> <td>Streetwear     </td> <td>Germany  </td> <td>4       </td> <td>212.66        </td> <td>850.64    </td> <td>Wallet          </td>\n",
       "        </tr>\n",
       "        <tr>\n",
       "            <td>3/9/22 </td> <td>New Era Cap </td> <td>Cap         </td> <td>New Era</td> <td>Men   </td> <td>Casual         </td> <td>India    </td> <td>3       </td> <td>136.36        </td> <td>409.08    </td> <td>Card            </td>\n",
       "        </tr>\n",
       "        <tr>\n",
       "            <td>7/1/22 </td> <td>New Era Cap </td> <td>Cap         </td> <td>New Era</td> <td>Women </td> <td>Limited Edition</td> <td>Australia</td> <td>4       </td> <td>270.55        </td> <td>1082.2    </td> <td>Cash on Delivery</td>\n",
       "        </tr>\n",
       "        <tr>\n",
       "            <td>1/10/22</td> <td>New Era Cap </td> <td>Cap         </td> <td>New Era</td> <td>Unisex</td> <td>Sportswear     </td> <td>USA      </td> <td>4       </td> <td>56.4          </td> <td>225.6     </td> <td>Card            </td>\n",
       "        </tr>\n",
       "        <tr>\n",
       "            <td>3/7/22 </td> <td>New Era Cap </td> <td>Cap         </td> <td>New Era</td> <td>Men   </td> <td>Sportswear     </td> <td>Japan    </td> <td>4       </td> <td>207.05        </td> <td>828.2     </td> <td>UPI             </td>\n",
       "        </tr>\n",
       "    </tbody>\n",
       "</table>\n",
       "<p>... (19 rows omitted)</p>"
      ],
      "text/plain": [
       "Date    | Product Name | Product Type | Brand   | Gender | Category        | Country   | Quantity | Unit Price ($) | Amount ($) | Payment Mode\n",
       "4/2/22  | New Era Cap  | Cap          | New Era | Women  | Sportswear      | Germany   | 1        | 167.77         | 167.77     | Cash on Delivery\n",
       "4/8/22  | New Era Cap  | Cap          | New Era | Men    | Limited Edition | UK        | 4        | 107.31         | 429.24     | UPI\n",
       "5/7/22  | New Era Cap  | Cap          | New Era | Men    | Sportswear      | USA       | 3        | 295.25         | 885.75     | Wallet\n",
       "6/28/22 | New Era Cap  | Cap          | New Era | Women  | Casual          | Canada    | 4        | 185.54         | 742.16     | UPI\n",
       "7/24/22 | New Era Cap  | Cap          | New Era | Unisex | Limited Edition | India     | 4        | 135.07         | 540.28     | Cash on Delivery\n",
       "2/13/22 | New Era Cap  | Cap          | New Era | Women  | Streetwear      | Germany   | 4        | 212.66         | 850.64     | Wallet\n",
       "3/9/22  | New Era Cap  | Cap          | New Era | Men    | Casual          | India     | 3        | 136.36         | 409.08     | Card\n",
       "7/1/22  | New Era Cap  | Cap          | New Era | Women  | Limited Edition | Australia | 4        | 270.55         | 1082.2     | Cash on Delivery\n",
       "1/10/22 | New Era Cap  | Cap          | New Era | Unisex | Sportswear      | USA       | 4        | 56.4           | 225.6      | Card\n",
       "3/7/22  | New Era Cap  | Cap          | New Era | Men    | Sportswear      | Japan     | 4        | 207.05         | 828.2      | UPI\n",
       "... (19 rows omitted)"
      ]
     },
     "execution_count": 43,
     "metadata": {},
     "output_type": "execute_result"
    }
   ],
   "source": [
    "ss.where('Product Type', 'Cap')"
   ]
  },
  {
   "cell_type": "code",
   "execution_count": 51,
   "id": "b945789e-bb13-4083-8039-9b83ed446c32",
   "metadata": {},
   "outputs": [
    {
     "data": {
      "text/html": [
       "<table border=\"1\" class=\"dataframe\">\n",
       "    <thead>\n",
       "        <tr>\n",
       "            <th>Date</th> <th>Product Name</th> <th>Product Type</th> <th>Brand</th> <th>Gender</th> <th>Category</th> <th>Country</th> <th>Quantity</th> <th>Unit Price ($)</th> <th>Amount ($)</th> <th>Payment Mode</th>\n",
       "        </tr>\n",
       "    </thead>\n",
       "    <tbody>\n",
       "        <tr>\n",
       "            <td>5/27/22</td> <td>Fear of God Essentials Tee</td> <td>T-shirt     </td> <td>Essentials</td> <td>Unisex</td> <td>Limited Edition</td> <td>Japan  </td> <td>5       </td> <td>141.82        </td> <td>709.1     </td> <td>Card            </td>\n",
       "        </tr>\n",
       "        <tr>\n",
       "            <td>8/22/22</td> <td>Yeezy Boost 350           </td> <td>Sneakers    </td> <td>Adidas    </td> <td>Unisex</td> <td>Streetwear     </td> <td>USA    </td> <td>2       </td> <td>267.34        </td> <td>534.68    </td> <td>Cash on Delivery</td>\n",
       "        </tr>\n",
       "        <tr>\n",
       "            <td>4/3/22 </td> <td>Nike Dunk Low             </td> <td>Sneakers    </td> <td>Nike      </td> <td>Women </td> <td>Limited Edition</td> <td>Germany</td> <td>1       </td> <td>292           </td> <td>292       </td> <td>Cash on Delivery</td>\n",
       "        </tr>\n",
       "    </tbody>\n",
       "</table>\n",
       "<p>... (350 rows omitted)</p>"
      ],
      "text/plain": [
       "<IPython.core.display.HTML object>"
      ]
     },
     "metadata": {},
     "output_type": "display_data"
    }
   ],
   "source": [
    "ss.show(3)"
   ]
  },
  {
   "cell_type": "code",
   "execution_count": 57,
   "id": "61ef9384-7149-4495-8b42-6e748fe4183d",
   "metadata": {},
   "outputs": [],
   "source": [
    "unit_price_array = ss.column('Unit Price ($)')"
   ]
  },
  {
   "cell_type": "code",
   "execution_count": 59,
   "id": "8b68c9be-4dd3-4dd8-ad9d-7f7f0a7cb835",
   "metadata": {},
   "outputs": [],
   "source": [
    "unit_price_table = Table().with_column('unit_price', unit_price_array)"
   ]
  },
  {
   "cell_type": "code",
   "execution_count": 60,
   "id": "e9bbb8eb-9a7d-448e-8b53-7baafc17db54",
   "metadata": {},
   "outputs": [
    {
     "data": {
      "image/png": "[encoded data removed]",
      "text/plain": [
       "<Figure size 640x480 with 1 Axes>"
      ]
     },
     "metadata": {},
     "output_type": "display_data"
    }
   ],
   "source": [
    "unit_price_table.boxplot()"
   ]
  },
  {
   "cell_type": "code",
   "execution_count": 61,
   "id": "9b0c3edc-754e-4d58-a001-b7e569057638",
   "metadata": {},
   "outputs": [
    {
     "data": {
      "text/html": [
       "<table border=\"1\" class=\"dataframe\">\n",
       "    <thead>\n",
       "        <tr>\n",
       "            <th>Product Type</th> <th>count</th>\n",
       "        </tr>\n",
       "    </thead>\n",
       "    <tbody>\n",
       "        <tr>\n",
       "            <td>Cap         </td> <td>29   </td>\n",
       "        </tr>\n",
       "        <tr>\n",
       "            <td>Hoodie      </td> <td>121  </td>\n",
       "        </tr>\n",
       "        <tr>\n",
       "            <td>Joggers     </td> <td>41   </td>\n",
       "        </tr>\n",
       "        <tr>\n",
       "            <td>Sneakers    </td> <td>136  </td>\n",
       "        </tr>\n",
       "        <tr>\n",
       "            <td>T-shirt     </td> <td>26   </td>\n",
       "        </tr>\n",
       "    </tbody>\n",
       "</table>"
      ],
      "text/plain": [
       "Product Type | count\n",
       "Cap          | 29\n",
       "Hoodie       | 121\n",
       "Joggers      | 41\n",
       "Sneakers     | 136\n",
       "T-shirt      | 26"
      ]
     },
     "execution_count": 61,
     "metadata": {},
     "output_type": "execute_result"
    }
   ],
   "source": [
    "ss.group('Product Type')"
   ]
  },
  {
   "cell_type": "code",
   "execution_count": 62,
   "id": "11a4742e-29c5-4d83-8d81-cc223d19cdc2",
   "metadata": {},
   "outputs": [
    {
     "data": {
      "text/plain": [
       "[1, 2, 3]"
      ]
     },
     "execution_count": 62,
     "metadata": {},
     "output_type": "execute_result"
    }
   ],
   "source": [
    "[1, 2, 3]"
   ]
  },
  {
   "cell_type": "code",
   "execution_count": 68,
   "id": "07792396-7963-401c-a79d-69852a177c36",
   "metadata": {},
   "outputs": [],
   "source": [
    "nested_list = [\n",
    "    [1, 2, 3],\n",
    "    [4, 5, 6],\n",
    "    [7, 8, 9]\n",
    "]"
   ]
  },
  {
   "cell_type": "code",
   "execution_count": 71,
   "id": "a2ebac13-a4f1-4ebe-8e98-3fcced49f176",
   "metadata": {},
   "outputs": [
    {
     "data": {
      "image/png": "[encoded data removed]",
      "text/plain": [
       "<Figure size 640x480 with 1 Axes>"
      ]
     },
     "metadata": {},
     "output_type": "display_data"
    }
   ],
   "source": [
    "plt.boxplot(nested_list)\n",
    "plt.xticks([1, 2, 3], ['A', 'B', 'C']);"
   ]
  },
  {
   "cell_type": "code",
   "execution_count": 74,
   "id": "55ecc838-570b-478a-8013-9a8231d111b2",
   "metadata": {},
   "outputs": [],
   "source": [
    "sneakers_unit_price = ss.where('Product Type', 'Sneakers').column('Unit Price ($)')\n",
    "hoodie_unit_price = ss.where('Product Type', 'Hoodie').column('Unit Price ($)')"
   ]
  },
  {
   "cell_type": "code",
   "execution_count": 78,
   "id": "b45e43c9-dfbd-4dc6-940e-515cf2a31146",
   "metadata": {},
   "outputs": [
    {
     "data": {
      "text/plain": [
       "[array([ 267.34,  292.  ,  184.51,  128.86,  199.47,  298.22,  117.18,\n",
       "         295.75,  104.16,   64.66,  295.53,   63.73,  172.68,  203.05,\n",
       "         134.39,   70.69,  223.  ,  124.4 ,   80.33,  183.55,  218.82,\n",
       "         208.47,   96.97,  261.31,  239.55,   94.62,  170.86,  105.79,\n",
       "         112.95,   56.49,  160.44,  209.81,  261.96,  299.3 ,  162.85,\n",
       "          54.99,  185.7 ,   67.2 ,  122.32,  278.15,  199.42,   98.23,\n",
       "         114.47,  104.04,  215.38,  127.55,  182.2 ,  262.68,  101.39,\n",
       "         228.88,  258.6 ,  129.95,  190.03,  209.13,  256.81,  127.11,\n",
       "         112.04,  132.09,   90.19,  117.78,  214.93,  141.35,  188.4 ,\n",
       "         277.48,  209.69,  176.98,  239.54,  148.11,   81.97,  291.29,\n",
       "         138.95,  208.19,  291.7 ,  171.49,  158.82,  196.45,  213.66,\n",
       "         164.57,  203.25,  209.3 ,  112.26,  216.83,  283.7 ,   51.81,\n",
       "         248.44,  107.04,  118.37,  150.02,  135.5 ,  145.89,  121.42,\n",
       "         265.91,  275.27,  270.52,  119.36,  202.28,  277.26,  130.97,\n",
       "         151.37,  202.42,  211.37,   59.85,  156.27,  175.  ,  293.33,\n",
       "         285.37,  214.  ,  208.24,  225.9 ,  292.75,  168.01,   93.08,\n",
       "         168.7 ,  281.  ,  248.71,  113.75,  109.66,  137.2 ,  164.06,\n",
       "         183.4 ,  206.29,  284.3 ,  204.62,   80.47,  205.64,  273.  ,\n",
       "         225.84,  235.36,  189.94,  296.51,  280.64,  294.89,  208.24,\n",
       "          94.25,   71.26,  270.14]),\n",
       " array([ 245.44,  163.32,  240.23,   54.44,  114.29,  119.54,   86.13,\n",
       "         200.92,  251.98,  258.82,  234.84,   82.56,  191.11,   89.14,\n",
       "         120.55,  256.22,   58.65,  180.42,  149.51,  162.38,  180.39,\n",
       "          80.35,  214.68,  269.88,   55.8 ,   50.1 ,  100.65,  242.71,\n",
       "         153.75,  235.5 ,  239.76,  213.82,  257.92,  129.78,  246.66,\n",
       "          59.05,  101.32,  110.05,   53.05,  259.46,  183.29,  130.4 ,\n",
       "          58.37,  241.67,   89.67,  179.28,  188.61,  240.64,  195.57,\n",
       "         224.66,   59.98,  283.6 ,  199.68,  141.11,  145.28,  153.56,\n",
       "         136.8 ,  200.87,  179.54,  274.23,   99.89,  156.22,  218.91,\n",
       "          54.88,   91.11,   57.92,   98.04,  172.52,   71.28,  243.74,\n",
       "          73.31,  281.54,  154.79,  139.  ,   79.27,  237.1 ,  228.46,\n",
       "          52.42,  296.55,   91.56,  162.36,  257.5 ,  205.62,   89.84,\n",
       "         195.85,   65.45,   51.11,  209.78,   88.  ,  220.59,  133.7 ,\n",
       "         244.13,  147.99,   82.62,  246.13,  161.55,  221.31,  233.16,\n",
       "         157.2 ,  198.45,  243.48,  271.44,  135.48,  218.25,  144.59,\n",
       "          98.17,   63.76,  157.12,  293.21,  142.25,   86.17,  172.37,\n",
       "         236.05,  256.72,   68.18,  123.23,  110.2 ,   54.76,  296.56,\n",
       "         234.28,  259.  ])]"
      ]
     },
     "execution_count": 78,
     "metadata": {},
     "output_type": "execute_result"
    }
   ],
   "source": [
    "data = [sneakers_unit_price, hoodie_unit_price]\n",
    "data"
   ]
  },
  {
   "cell_type": "code",
   "execution_count": 88,
   "id": "ebafd6c3-50ce-43a3-97c5-839b2c724cb2",
   "metadata": {},
   "outputs": [
    {
     "data": {
      "image/png": "[encoded data removed]",
      "text/plain": [
       "<Figure size 640x480 with 1 Axes>"
      ]
     },
     "metadata": {},
     "output_type": "display_data"
    }
   ],
   "source": [
    "plt.boxplot(data, vert = False)\n",
    "\n",
    "plt.title('Comparsion of Sneaker and Hoodie Price')\n",
    "plt.xlabel('Price (in US Dollars)')\n",
    "plt.ylabel('Category')\n",
    "plt.yticks([1, 2], ['Sneakers', 'Hoodies']);"
   ]
  },
  {
   "cell_type": "code",
   "execution_count": null,
   "id": "5d3b7649-200d-41ca-bd64-30d1b850d685",
   "metadata": {},
   "outputs": [],
   "source": []
  }
 ],
 "metadata": {
  "kernelspec": {
   "display_name": "Python 3 (ipykernel)",
   "language": "python",
   "name": "python3"
  },
  "language_info": {
   "codemirror_mode": {
    "name": "ipython",
    "version": 3
   },
   "file_extension": ".py",
   "mimetype": "text/x-python",
   "name": "python",
   "nbconvert_exporter": "python",
   "pygments_lexer": "ipython3",
   "version": "3.10.11"
  }
 },
 "nbformat": 4,
 "nbformat_minor": 5
}
